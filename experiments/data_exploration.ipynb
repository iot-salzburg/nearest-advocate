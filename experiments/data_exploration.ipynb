{
 "cells": [
  {
   "cell_type": "markdown",
   "id": "d4b4f966-2041-4dae-9821-027d10ed0dd4",
   "metadata": {
    "tags": []
   },
   "source": [
    "# View and descriptive analysis of the event-based datasets\n"
   ]
  },
  {
   "cell_type": "code",
   "execution_count": 1,
   "id": "2ef372b1-a70e-4a34-a3e3-758f9c436fab",
   "metadata": {},
   "outputs": [],
   "source": [
    "import os\n",
    "import time\n",
    "\n",
    "import numpy as np\n",
    "np.random.seed(0)\n",
    "import pandas as pd\n",
    "pd.set_option('display.max_rows', 500)\n",
    "pd.set_option('display.max_columns', 500)\n",
    "pd.set_option('display.width', 1000)\n",
    "\n",
    "import matplotlib.pyplot as plt\n",
    "import seaborn as sns\n",
    "\n",
    "from multiprocessing import Pool\n",
    "\n",
    "# Load methods\n",
    "%matplotlib inline"
   ]
  },
  {
   "cell_type": "code",
   "execution_count": 2,
   "id": "d7bba8d4-64de-4086-9eeb-0df61ac40714",
   "metadata": {},
   "outputs": [],
   "source": [
    "# importer for the data\n",
    "from data_loader import load_heart_beats, load_breath_rate, load_step_rate"
   ]
  },
  {
   "cell_type": "code",
   "execution_count": 3,
   "id": "18feb000-beec-4d1c-9900-11b4625106df",
   "metadata": {},
   "outputs": [],
   "source": [
    "# directories to load\n",
    "PATH_HEART_RATE_DATA = \"../data/HeartBeatData\"\n",
    "PATH_BREATH_RATE_DATA = \"../data/BreathRateData\"\n",
    "PATH_STEP_RATE_DATA = \"../data/StepRateData\""
   ]
  },
  {
   "cell_type": "code",
   "execution_count": null,
   "id": "9e8c2928-75fb-4752-b71b-26a9e4a629d7",
   "metadata": {},
   "outputs": [],
   "source": []
  },
  {
   "cell_type": "markdown",
   "id": "2447a2cc-7e5c-48c9-a7b6-605299cabbd1",
   "metadata": {},
   "source": [
    "## Data\n",
    "\n",
    "### Load the datasets"
   ]
  },
  {
   "cell_type": "code",
   "execution_count": 4,
   "id": "5cdd7469-c083-4f26-8990-26adeaef74ae",
   "metadata": {},
   "outputs": [
    {
     "name": "stdout",
     "output_type": "stream",
     "text": [
      "Loading files S18_11_nn.txt and S18_1_beats_synced.csv.\n",
      "Loading files S18_21_nn.txt and S18_2_beats_synced.csv.\n",
      "Loading files S19_11_nn.txt and S19_1_beats_synced.csv.\n",
      "Loading files S20_11_nn.txt and S20_1_beats_synced.csv.\n",
      "Loading files S20_21_nn.txt and S20_2_beats_synced.csv.\n",
      "Loading files S21_11_nn.txt and S21_1_beats_synced.csv.\n",
      "Loading files S21_21_nn.txt and S21_2_beats_synced.csv.\n",
      "Loading files S23_11_nn.txt and S23_1_beats_synced.csv.\n",
      "Loading files S23_21_nn.txt and S23_2_beats_synced.csv.\n",
      "Loading files S24_11_nn.txt and S24_1_beats_synced.csv.\n",
      "Loading files S24_21_nn.txt and S24_2_beats_synced.csv.\n",
      "Loading files S26_11_nn.txt and S26_1_beats_synced.csv.\n",
      "Loading files S27_11_nn.txt and S27_1_beats_synced.csv.\n",
      "Loading files S28_11_nn.txt and S28_1_beats_synced.csv.\n",
      "Loading files S28_21_nn.txt and S28_2_beats_synced.csv.\n",
      "Loading files S29_11_nn.txt and S29_1_beats_synced.csv.\n",
      "Loading files S29_21_nn.txt and S29_2_beats_synced.csv.\n"
     ]
    }
   ],
   "source": [
    "heart_beat_dataset = load_heart_beats(path_to_dir=PATH_HEART_RATE_DATA, verbose=1)"
   ]
  },
  {
   "cell_type": "code",
   "execution_count": 5,
   "id": "816c1a45-c5e6-4080-bc27-d9a283fa26fc",
   "metadata": {},
   "outputs": [
    {
     "name": "stdout",
     "output_type": "stream",
     "text": [
      "Loading files P05_Reference_FlowReversals_OVERALL.csv and P05_SportsSRS_FlowReversals_OVERALL.csv.\n",
      "Loading files P06_Reference_FlowReversals_OVERALL.csv and P06_SportsSRS_FlowReversals_OVERALL.csv.\n",
      "Loading files P07_Reference_FlowReversals_OVERALL.csv and P07_SportsSRS_FlowReversals_OVERALL.csv.\n",
      "Loading files P08_Reference_FlowReversals_OVERALL.csv and P08_SportsSRS_FlowReversals_OVERALL.csv.\n",
      "Loading files P09_Reference_FlowReversals_OVERALL.csv and P09_SportsSRS_FlowReversals_OVERALL.csv.\n",
      "Loading files P10_Reference_FlowReversals_OVERALL.csv and P10_SportsSRS_FlowReversals_OVERALL.csv.\n",
      "Loading files P11_Reference_FlowReversals_OVERALL.csv and P11_SportsSRS_FlowReversals_OVERALL.csv.\n",
      "Loading files P12_Reference_FlowReversals_OVERALL.csv and P12_SportsSRS_FlowReversals_OVERALL.csv.\n",
      "Loading files P13_Reference_FlowReversals_OVERALL.csv and P13_SportsSRS_FlowReversals_OVERALL.csv.\n",
      "Loading files P14_Reference_FlowReversals_OVERALL.csv and P14_SportsSRS_FlowReversals_OVERALL.csv.\n",
      "Loading files P15_Reference_FlowReversals_OVERALL.csv and P15_SportsSRS_FlowReversals_OVERALL.csv.\n",
      "Loading files P16_Reference_FlowReversals_OVERALL.csv and P16_SportsSRS_FlowReversals_OVERALL.csv.\n",
      "Loading files P19_Reference_FlowReversals_OVERALL.csv and P19_SportsSRS_FlowReversals_OVERALL.csv.\n",
      "Loading files P20_Reference_FlowReversals_OVERALL.csv and P20_SportsSRS_FlowReversals_OVERALL.csv.\n",
      "Loading files P21_Reference_FlowReversals_OVERALL.csv and P21_SportsSRS_FlowReversals_OVERALL.csv.\n",
      "Loading files P22_Reference_FlowReversals_OVERALL.csv and P22_SportsSRS_FlowReversals_OVERALL.csv.\n",
      "Loading files P23_Reference_FlowReversals_OVERALL.csv and P23_SportsSRS_FlowReversals_OVERALL.csv.\n"
     ]
    }
   ],
   "source": [
    "breath_rate_dataset = load_breath_rate(path_to_dir=PATH_BREATH_RATE_DATA, verbose=1)"
   ]
  },
  {
   "cell_type": "code",
   "execution_count": 6,
   "id": "a33064d5-91f7-4164-a3c9-a19e5b1920a8",
   "metadata": {},
   "outputs": [
    {
     "name": "stdout",
     "output_type": "stream",
     "text": [
      "Loading files P04_Reference_Strides_OVERALL.csv and P04_SportsSRS_Strides_OVERALL.csv.\n",
      "Loading files P06_Reference_Strides_OVERALL.csv and P06_SportsSRS_Strides_OVERALL.csv.\n",
      "Loading files P07_Reference_Strides_OVERALL.csv and P07_SportsSRS_Strides_OVERALL.csv.\n",
      "Loading files P08_Reference_Strides_OVERALL.csv and P08_SportsSRS_Strides_OVERALL.csv.\n",
      "Loading files P09_Reference_Strides_OVERALL.csv and P09_SportsSRS_Strides_OVERALL.csv.\n",
      "Loading files P10_Reference_Strides_OVERALL.csv and P10_SportsSRS_Strides_OVERALL.csv.\n",
      "Loading files P11_Reference_Strides_OVERALL.csv and P11_SportsSRS_Strides_OVERALL.csv.\n",
      "Loading files P12_Reference_Strides_OVERALL.csv and P12_SportsSRS_Strides_OVERALL.csv.\n",
      "Loading files P13_Reference_Strides_OVERALL.csv and P13_SportsSRS_Strides_OVERALL.csv.\n",
      "Loading files P16_Reference_Strides_OVERALL.csv and P16_SportsSRS_Strides_OVERALL.csv.\n",
      "Loading files P18_Reference_Strides_OVERALL.csv and P18_SportsSRS_Strides_OVERALL.csv.\n",
      "Loading files P19_Reference_Strides_OVERALL.csv and P19_SportsSRS_Strides_OVERALL.csv.\n",
      "Loading files P21_Reference_Strides_OVERALL.csv and P21_SportsSRS_Strides_OVERALL.csv.\n",
      "Loading files P23_Reference_Strides_OVERALL.csv and P23_SportsSRS_Strides_OVERALL.csv.\n"
     ]
    }
   ],
   "source": [
    "step_rate_dataset = load_step_rate(path_to_dir=PATH_STEP_RATE_DATA, verbose=1)"
   ]
  },
  {
   "cell_type": "markdown",
   "id": "4d77847b-9f06-405b-a685-85065018ba6f",
   "metadata": {},
   "source": [
    "### Statistics of the datasets"
   ]
  },
  {
   "cell_type": "code",
   "execution_count": 7,
   "id": "2b07b161-5486-41d1-aa15-12fa7e43c192",
   "metadata": {
    "tags": []
   },
   "outputs": [
    {
     "data": {
      "text/html": [
       "<div>\n",
       "<style scoped>\n",
       "    .dataframe tbody tr th:only-of-type {\n",
       "        vertical-align: middle;\n",
       "    }\n",
       "\n",
       "    .dataframe tbody tr th {\n",
       "        vertical-align: top;\n",
       "    }\n",
       "\n",
       "    .dataframe thead th {\n",
       "        text-align: right;\n",
       "    }\n",
       "</style>\n",
       "<table border=\"1\" class=\"dataframe\">\n",
       "  <thead>\n",
       "    <tr style=\"text-align: right;\">\n",
       "      <th></th>\n",
       "      <th>dataset</th>\n",
       "      <th>length</th>\n",
       "      <th>count</th>\n",
       "      <th>mean_diff</th>\n",
       "      <th>median_diff</th>\n",
       "    </tr>\n",
       "  </thead>\n",
       "  <tbody>\n",
       "    <tr>\n",
       "      <th>count</th>\n",
       "      <td>96</td>\n",
       "      <td>96.000</td>\n",
       "      <td>96</td>\n",
       "      <td>96.000000</td>\n",
       "      <td>96.0</td>\n",
       "    </tr>\n",
       "    <tr>\n",
       "      <th>unique</th>\n",
       "      <td>3</td>\n",
       "      <td>96.000</td>\n",
       "      <td>95</td>\n",
       "      <td>96.000000</td>\n",
       "      <td>89.0</td>\n",
       "    </tr>\n",
       "    <tr>\n",
       "      <th>top</th>\n",
       "      <td>HR</td>\n",
       "      <td>28918.762</td>\n",
       "      <td>2724</td>\n",
       "      <td>1.008993</td>\n",
       "      <td>0.9</td>\n",
       "    </tr>\n",
       "    <tr>\n",
       "      <th>freq</th>\n",
       "      <td>34</td>\n",
       "      <td>1.000</td>\n",
       "      <td>2</td>\n",
       "      <td>1.000000</td>\n",
       "      <td>4.0</td>\n",
       "    </tr>\n",
       "  </tbody>\n",
       "</table>\n",
       "</div>"
      ],
      "text/plain": [
       "       dataset     length  count  mean_diff  median_diff\n",
       "count       96     96.000     96  96.000000         96.0\n",
       "unique       3     96.000     95  96.000000         89.0\n",
       "top         HR  28918.762   2724   1.008993          0.9\n",
       "freq        34      1.000      2   1.000000          4.0"
      ]
     },
     "execution_count": 7,
     "metadata": {},
     "output_type": "execute_result"
    }
   ],
   "source": [
    "n_measurements = 2 * len((heart_beat_dataset + breath_rate_dataset + step_rate_dataset))\n",
    "\n",
    "df_measurements = pd.DataFrame(columns=[\"dataset\", \"length\", \"count\", \"mean_diff\", \"median_diff\"], \n",
    "                               index=range(n_measurements))\n",
    "idx = 0\n",
    "for data_idx, dataset in enumerate((heart_beat_dataset, breath_rate_dataset, step_rate_dataset)):\n",
    "    for m in dataset:\n",
    "        for array in m:\n",
    "            df_measurements.loc[idx, \"dataset\"] = {0: \"HR\", 1: \"BR\", 2: \"SR\"}.get(data_idx)\n",
    "            df_measurements.loc[idx, \"count\"] = len(array)\n",
    "            df_measurements.loc[idx, \"length\"] = array[-1] - array[0]\n",
    "            df_measurements.loc[idx, \"mean_diff\"] = np.mean(np.diff(array))\n",
    "            df_measurements.loc[idx, \"median_diff\"] = np.median(np.diff(array))\n",
    "            idx += 1\n",
    "            \n",
    "df_measurements.describe()"
   ]
  },
  {
   "cell_type": "code",
   "execution_count": 8,
   "id": "9b807a86-80a6-4994-a1d1-71972a11ee3d",
   "metadata": {},
   "outputs": [
    {
     "data": {
      "text/html": [
       "<div>\n",
       "<style scoped>\n",
       "    .dataframe tbody tr th:only-of-type {\n",
       "        vertical-align: middle;\n",
       "    }\n",
       "\n",
       "    .dataframe tbody tr th {\n",
       "        vertical-align: top;\n",
       "    }\n",
       "\n",
       "    .dataframe thead th {\n",
       "        text-align: right;\n",
       "    }\n",
       "</style>\n",
       "<table border=\"1\" class=\"dataframe\">\n",
       "  <thead>\n",
       "    <tr style=\"text-align: right;\">\n",
       "      <th></th>\n",
       "      <th>dataset</th>\n",
       "      <th>count</th>\n",
       "      <th>length</th>\n",
       "      <th>mean_diff</th>\n",
       "      <th>median_diff</th>\n",
       "    </tr>\n",
       "    <tr>\n",
       "      <th>dataset</th>\n",
       "      <th></th>\n",
       "      <th></th>\n",
       "      <th></th>\n",
       "      <th></th>\n",
       "      <th></th>\n",
       "    </tr>\n",
       "  </thead>\n",
       "  <tbody>\n",
       "    <tr>\n",
       "      <th>BR</th>\n",
       "      <td>34</td>\n",
       "      <td>80498</td>\n",
       "      <td>2473.390669</td>\n",
       "      <td>1.053056</td>\n",
       "      <td>0.977503</td>\n",
       "    </tr>\n",
       "    <tr>\n",
       "      <th>HR</th>\n",
       "      <td>34</td>\n",
       "      <td>900934</td>\n",
       "      <td>27844.688509</td>\n",
       "      <td>1.058960</td>\n",
       "      <td>1.053532</td>\n",
       "    </tr>\n",
       "    <tr>\n",
       "      <th>SR</th>\n",
       "      <td>28</td>\n",
       "      <td>149100</td>\n",
       "      <td>2419.902794</td>\n",
       "      <td>0.467079</td>\n",
       "      <td>0.385081</td>\n",
       "    </tr>\n",
       "  </tbody>\n",
       "</table>\n",
       "</div>"
      ],
      "text/plain": [
       "         dataset   count        length  mean_diff  median_diff\n",
       "dataset                                                       \n",
       "BR            34   80498   2473.390669   1.053056     0.977503\n",
       "HR            34  900934  27844.688509   1.058960     1.053532\n",
       "SR            28  149100   2419.902794   0.467079     0.385081"
      ]
     },
     "execution_count": 8,
     "metadata": {},
     "output_type": "execute_result"
    }
   ],
   "source": [
    "# measurement counts\n",
    "df_measurements.groupby(\"dataset\").agg({\"dataset\": \"count\", \"count\": \"sum\", \"length\": \"mean\", \n",
    "                                        \"mean_diff\": \"mean\", \"median_diff\": \"mean\"})"
   ]
  },
  {
   "cell_type": "code",
   "execution_count": 9,
   "id": "453c386d-13dd-4da4-9046-1dfed97bcc73",
   "metadata": {},
   "outputs": [
    {
     "data": {
      "image/png": "[encoded data removed]",
      "text/plain": [
       "<Figure size 432x288 with 1 Axes>"
      ]
     },
     "metadata": {
      "needs_background": "light"
     },
     "output_type": "display_data"
    }
   ],
   "source": [
    "# melt the dataset for the plot\n",
    "df_measurements_melted = pd.melt(\n",
    "    df_measurements, id_vars=\"dataset\", var_name=\"measurement\", \n",
    "    value_vars=[\"count\", \"length\", \"mean_diff\", \"median_diff\"], value_name=\"value\")\n",
    "\n",
    "df_tmp = df_measurements_melted[df_measurements_melted[\"measurement\"].isin([\"mean_diff\", \"median_diff\"])]\n",
    "sns.boxplot(data=df_tmp, \n",
    "            y=\"value\", x=\"measurement\", hue=\"dataset\")\n",
    "plt.show()"
   ]
  },
  {
   "cell_type": "code",
   "execution_count": null,
   "id": "9d33e30b-8bbd-4ed4-b0fb-c0f8a8fde75e",
   "metadata": {},
   "outputs": [],
   "source": []
  }
 ],
 "metadata": {
  "kernelspec": {
   "display_name": "Python 3 (ipykernel)",
   "language": "python",
   "name": "python3"
  },
  "language_info": {
   "codemirror_mode": {
    "name": "ipython",
    "version": 3
   },
   "file_extension": ".py",
   "mimetype": "text/x-python",
   "name": "python",
   "nbconvert_exporter": "python",
   "pygments_lexer": "ipython3",
   "version": "3.10.5"
  }
 },
 "nbformat": 4,
 "nbformat_minor": 5
}
