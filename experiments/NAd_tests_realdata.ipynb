{
 "cells": [
  {
   "cell_type": "markdown",
   "id": "d4b4f966-2041-4dae-9821-027d10ed0dd4",
   "metadata": {
    "tags": []
   },
   "source": [
    "# Investigation of properties of the Nearest Advocate method for time delay estimation on real event-based time-series data\n",
    "\n",
    "**Methods:**\n",
    "1. Nearest Advocate (NAd): dense, different sparse-factors  \n"
   ]
  },
  {
   "cell_type": "code",
   "execution_count": 1,
   "id": "2ef372b1-a70e-4a34-a3e3-758f9c436fab",
   "metadata": {},
   "outputs": [],
   "source": [
    "import os\n",
    "import time\n",
    "\n",
    "import numpy as np\n",
    "np.random.seed(0)\n",
    "\n",
    "import pandas as pd\n",
    "pd.set_option('display.max_rows', 500)\n",
    "pd.set_option('display.max_columns', 500)\n",
    "pd.set_option('display.width', 1000)\n",
    "\n",
    "import matplotlib.pyplot as plt\n",
    "import seaborn as sns\n",
    "\n",
    "from multiprocessing import Pool\n",
    "# Load methods\n",
    "%matplotlib inline"
   ]
  },
  {
   "cell_type": "code",
   "execution_count": 2,
   "id": "d7bba8d4-64de-4086-9eeb-0df61ac40714",
   "metadata": {},
   "outputs": [],
   "source": [
    "from data_loader import load_heart_beats, load_breath_rate, load_step_rate"
   ]
  },
  {
   "cell_type": "code",
   "execution_count": 3,
   "id": "18feb000-beec-4d1c-9900-11b4625106df",
   "metadata": {},
   "outputs": [],
   "source": [
    "# directories to load\n",
    "PATH_HEART_RATE_DATA = \"../data/HeartBeatData\"\n",
    "PATH_BREATH_RATE_DATA = \"../data/BreathRateData\"\n",
    "PATH_STEP_RATE_DATA = \"../data/StepRateData\"\n",
    "\n",
    "# parameters to semi-simulate data\n",
    "# OFFSET = np.pi  # this is randomly sampled now\n",
    "SIGMA = 0.1\n",
    "\n",
    "# parameters for Nearest-Advocate\n",
    "DIST_MAX = -1           # use the default values for dist_max and dist_padding of nearest_advocate\n",
    "REGULATE_PADDINGS = True  # regulate the paddings in nearest_advocate\n",
    "TD_MAX = 300               # search space of 10 minutes\n",
    "TD_MIN = -300\n",
    "SAMPLES_PER_S = 20        # precision of the search space (for steps of mean freq 0.5s)"
   ]
  },
  {
   "cell_type": "code",
   "execution_count": null,
   "id": "9e8c2928-75fb-4752-b71b-26a9e4a629d7",
   "metadata": {},
   "outputs": [],
   "source": []
  },
  {
   "cell_type": "markdown",
   "id": "2447a2cc-7e5c-48c9-a7b6-605299cabbd1",
   "metadata": {},
   "source": [
    "## Data\n",
    "\n",
    "### Load the datasets"
   ]
  },
  {
   "cell_type": "code",
   "execution_count": 4,
   "id": "5cdd7469-c083-4f26-8990-26adeaef74ae",
   "metadata": {},
   "outputs": [
    {
     "name": "stdout",
     "output_type": "stream",
     "text": [
      "Loading files S18_11_nn.txt and S18_1_beats_synced.csv.\n",
      "Loading files S18_21_nn.txt and S18_2_beats_synced.csv.\n",
      "Loading files S19_11_nn.txt and S19_1_beats_synced.csv.\n",
      "Loading files S20_11_nn.txt and S20_1_beats_synced.csv.\n",
      "Loading files S20_21_nn.txt and S20_2_beats_synced.csv.\n",
      "Loading files S21_11_nn.txt and S21_1_beats_synced.csv.\n",
      "Loading files S21_21_nn.txt and S21_2_beats_synced.csv.\n",
      "Loading files S23_11_nn.txt and S23_1_beats_synced.csv.\n",
      "Loading files S23_21_nn.txt and S23_2_beats_synced.csv.\n",
      "Loading files S24_11_nn.txt and S24_1_beats_synced.csv.\n",
      "Loading files S24_21_nn.txt and S24_2_beats_synced.csv.\n",
      "Loading files S26_11_nn.txt and S26_1_beats_synced.csv.\n",
      "Loading files S27_11_nn.txt and S27_1_beats_synced.csv.\n",
      "Loading files S28_11_nn.txt and S28_1_beats_synced.csv.\n",
      "Loading files S28_21_nn.txt and S28_2_beats_synced.csv.\n",
      "Loading files S29_11_nn.txt and S29_1_beats_synced.csv.\n",
      "Loading files S29_21_nn.txt and S29_2_beats_synced.csv.\n"
     ]
    }
   ],
   "source": [
    "heart_beat_dataset = load_heart_beats(path_to_dir=PATH_HEART_RATE_DATA, verbose=1)"
   ]
  },
  {
   "cell_type": "code",
   "execution_count": 5,
   "id": "816c1a45-c5e6-4080-bc27-d9a283fa26fc",
   "metadata": {},
   "outputs": [
    {
     "name": "stdout",
     "output_type": "stream",
     "text": [
      "Loading files P05_Reference_FlowReversals_OVERALL.csv and P05_SportsSRS_FlowReversals_OVERALL.csv.\n",
      "Loading files P06_Reference_FlowReversals_OVERALL.csv and P06_SportsSRS_FlowReversals_OVERALL.csv.\n",
      "Loading files P07_Reference_FlowReversals_OVERALL.csv and P07_SportsSRS_FlowReversals_OVERALL.csv.\n",
      "Loading files P08_Reference_FlowReversals_OVERALL.csv and P08_SportsSRS_FlowReversals_OVERALL.csv.\n",
      "Loading files P09_Reference_FlowReversals_OVERALL.csv and P09_SportsSRS_FlowReversals_OVERALL.csv.\n",
      "Loading files P10_Reference_FlowReversals_OVERALL.csv and P10_SportsSRS_FlowReversals_OVERALL.csv.\n",
      "Loading files P11_Reference_FlowReversals_OVERALL.csv and P11_SportsSRS_FlowReversals_OVERALL.csv.\n",
      "Loading files P12_Reference_FlowReversals_OVERALL.csv and P12_SportsSRS_FlowReversals_OVERALL.csv.\n",
      "Loading files P13_Reference_FlowReversals_OVERALL.csv and P13_SportsSRS_FlowReversals_OVERALL.csv.\n",
      "Loading files P14_Reference_FlowReversals_OVERALL.csv and P14_SportsSRS_FlowReversals_OVERALL.csv.\n",
      "Loading files P15_Reference_FlowReversals_OVERALL.csv and P15_SportsSRS_FlowReversals_OVERALL.csv.\n",
      "Loading files P16_Reference_FlowReversals_OVERALL.csv and P16_SportsSRS_FlowReversals_OVERALL.csv.\n",
      "Loading files P19_Reference_FlowReversals_OVERALL.csv and P19_SportsSRS_FlowReversals_OVERALL.csv.\n",
      "Loading files P20_Reference_FlowReversals_OVERALL.csv and P20_SportsSRS_FlowReversals_OVERALL.csv.\n",
      "Loading files P21_Reference_FlowReversals_OVERALL.csv and P21_SportsSRS_FlowReversals_OVERALL.csv.\n",
      "Loading files P22_Reference_FlowReversals_OVERALL.csv and P22_SportsSRS_FlowReversals_OVERALL.csv.\n",
      "Loading files P23_Reference_FlowReversals_OVERALL.csv and P23_SportsSRS_FlowReversals_OVERALL.csv.\n"
     ]
    }
   ],
   "source": [
    "breath_rate_dataset = load_breath_rate(path_to_dir=PATH_BREATH_RATE_DATA, verbose=1)"
   ]
  },
  {
   "cell_type": "code",
   "execution_count": 6,
   "id": "a33064d5-91f7-4164-a3c9-a19e5b1920a8",
   "metadata": {},
   "outputs": [
    {
     "name": "stdout",
     "output_type": "stream",
     "text": [
      "Loading files P04_Reference_Strides_OVERALL.csv and P04_SportsSRS_Strides_OVERALL.csv.\n",
      "Loading files P06_Reference_Strides_OVERALL.csv and P06_SportsSRS_Strides_OVERALL.csv.\n",
      "Loading files P07_Reference_Strides_OVERALL.csv and P07_SportsSRS_Strides_OVERALL.csv.\n",
      "Loading files P08_Reference_Strides_OVERALL.csv and P08_SportsSRS_Strides_OVERALL.csv.\n",
      "Loading files P09_Reference_Strides_OVERALL.csv and P09_SportsSRS_Strides_OVERALL.csv.\n",
      "Loading files P10_Reference_Strides_OVERALL.csv and P10_SportsSRS_Strides_OVERALL.csv.\n",
      "Loading files P11_Reference_Strides_OVERALL.csv and P11_SportsSRS_Strides_OVERALL.csv.\n",
      "Loading files P12_Reference_Strides_OVERALL.csv and P12_SportsSRS_Strides_OVERALL.csv.\n",
      "Loading files P13_Reference_Strides_OVERALL.csv and P13_SportsSRS_Strides_OVERALL.csv.\n",
      "Loading files P16_Reference_Strides_OVERALL.csv and P16_SportsSRS_Strides_OVERALL.csv.\n",
      "Loading files P18_Reference_Strides_OVERALL.csv and P18_SportsSRS_Strides_OVERALL.csv.\n",
      "Loading files P19_Reference_Strides_OVERALL.csv and P19_SportsSRS_Strides_OVERALL.csv.\n",
      "Loading files P21_Reference_Strides_OVERALL.csv and P21_SportsSRS_Strides_OVERALL.csv.\n",
      "Loading files P23_Reference_Strides_OVERALL.csv and P23_SportsSRS_Strides_OVERALL.csv.\n"
     ]
    }
   ],
   "source": [
    "step_rate_dataset = load_step_rate(path_to_dir=PATH_STEP_RATE_DATA, verbose=1)"
   ]
  },
  {
   "cell_type": "code",
   "execution_count": 7,
   "id": "9d33e30b-8bbd-4ed4-b0fb-c0f8a8fde75e",
   "metadata": {},
   "outputs": [],
   "source": [
    "dataset_full = (heart_beat_dataset + breath_rate_dataset + step_rate_dataset)"
   ]
  },
  {
   "cell_type": "code",
   "execution_count": null,
   "id": "8aa2b77c-4d35-458a-9928-5c1270990789",
   "metadata": {},
   "outputs": [],
   "source": []
  },
  {
   "cell_type": "markdown",
   "id": "ca3afaae-c711-4fd9-b0fd-ba08a3909846",
   "metadata": {},
   "source": [
    "## Function to semi-simulate the data"
   ]
  },
  {
   "cell_type": "code",
   "execution_count": 8,
   "id": "12d5a6a1-9ce5-4424-95ef-361c4dcb5eb5",
   "metadata": {
    "tags": []
   },
   "outputs": [
    {
     "data": {
      "text/plain": [
       "array([1985.2642013 , 1985.94322342, 1987.22308435, 1988.86971251,\n",
       "       1990.34830416])"
      ]
     },
     "execution_count": 8,
     "metadata": {},
     "output_type": "execute_result"
    }
   ],
   "source": [
    "def modify_timeseries(arr: np.ndarray, offset: float=0, subselect_length=None, sigma: float=0.0, fraction: float=1.0, time_warp_scale=0.0):\n",
    "    \"\"\"Modify a event-based timeseries in order generate semi-simulated data.\n",
    "    \n",
    "    Parameters\n",
    "    ----------\n",
    "    arr: np.ndarray\n",
    "        Array to modify\n",
    "    offset: float\n",
    "        Offset to shift the time-series\n",
    "    sigma: float\n",
    "        Amount of noise, relative to the median difference of subsequent events\n",
    "    fraction: float\n",
    "        Fraction of events used\n",
    "        \n",
    "    Returns\n",
    "    -------\n",
    "    arr_modified : np.ndarray\n",
    "        Modified array\n",
    "    \"\"\"\n",
    "    arr_mod = arr.copy()\n",
    "    \n",
    "    # shift the array\n",
    "    arr_mod += offset\n",
    "    \n",
    "    # select part\n",
    "    if subselect_length:\n",
    "        start_idx = np.random.randint(0, max(1, len(arr_mod)-subselect_length))\n",
    "        arr_mod = arr_mod[start_idx:start_idx+subselect_length]\n",
    "            \n",
    "    # add gaussian noise to the events\n",
    "    arr_mod = arr_mod + np.random.normal(loc=0, scale=sigma*np.median(np.diff(arr)), size=len(arr_mod))\n",
    "    \n",
    "    # sort the array to maintain continuity\n",
    "    arr_mod.sort()\n",
    "    \n",
    "    # select the fraction of events\n",
    "    if fraction < 1.0:\n",
    "        arr_mod = arr_mod[np.random.random(len(arr_mod))<fraction]\n",
    "        \n",
    "    # linear time-warping\n",
    "    if time_warp_scale > 0.0:\n",
    "        pivot = arr_mod[len(arr_mod)//2]\n",
    "        # warp_scale = np.random.normal(loc=1, scale=time_warp_scale)\n",
    "        if np.random.rand() > 0.5:\n",
    "            warp_scale = 1 + time_warp_scale\n",
    "        else:\n",
    "            warp_scale = 1 - time_warp_scale\n",
    "        arr_mod = (arr_mod-pivot) * warp_scale + pivot\n",
    "\n",
    "    return arr_mod\n",
    "\n",
    "modify_timeseries(arr=heart_beat_dataset[0][0], offset=np.pi, subselect_length=10, sigma=0.1, fraction=0.5, \n",
    "                  time_warp_scale=0.005)"
   ]
  },
  {
   "cell_type": "code",
   "execution_count": 9,
   "id": "bb4b2ffd-e5c1-4e81-9c76-b0dd84ad314d",
   "metadata": {},
   "outputs": [],
   "source": [
    "# create dummy time-series\n",
    "arr_ref = np.cumsum(np.random.normal(loc=1, scale=0.25, size=600))\n",
    "arr_sig = modify_timeseries(arr=arr_ref, offset=np.pi, sigma=0.1, fraction=0.99)"
   ]
  },
  {
   "cell_type": "code",
   "execution_count": null,
   "id": "b636e360-67ee-469f-9a03-3ccddda1dc37",
   "metadata": {},
   "outputs": [],
   "source": []
  },
  {
   "cell_type": "markdown",
   "id": "a6691070-2b63-4c18-83a4-f1e5d9272513",
   "metadata": {},
   "source": [
    "## Define Methods"
   ]
  },
  {
   "cell_type": "code",
   "execution_count": 10,
   "id": "7c54e566-f814-481a-b80b-1e72d35ddad3",
   "metadata": {
    "tags": []
   },
   "outputs": [
    {
     "name": "stdout",
     "output_type": "stream",
     "text": [
      "Found optimum for a time shift of 3.140s in 1.867s\n"
     ]
    },
    {
     "data": {
      "image/png": "[encoded data removed]",
      "text/plain": [
       "<Figure size 432x288 with 1 Axes>"
      ]
     },
     "metadata": {
      "needs_background": "light"
     },
     "output_type": "display_data"
    }
   ],
   "source": [
    "import numpy as np\n",
    "from numba import njit\n",
    "\n",
    "\n",
    "@njit(parallel=False)\n",
    "def nearest_advocate_single(arr_ref: np.ndarray, arr_sig: np.ndarray, \n",
    "                            dist_max: float, dist_padding: float, regulate_paddings: bool=True):\n",
    "    '''Calculates the synchronicity of two arrays of timestamps in terms of the mean of all minimal distances between each event in arr_sig and it's nearest advocate in arr_ref.\n",
    "    arr_ref (np.array): Reference array or timestamps assumed to be correct\n",
    "    arr_sig (np.array): Signal array of  timestamps, assumed to be shifted by an unknown constant time-delta\n",
    "    dist_max (float): Maximal accepted distances, should be 1/4 of the median gap of arr_ref\n",
    "    regulate_paddings (bool): Regulate non-overlapping events in arr_sig with a maximum distance of err_max, default True\n",
    "    dist_padding (float): Distance assigned to non-overlapping (padding) events, should be 1/4 of the median gap of arr_ref. Only given if regulate_paddings is True\n",
    "    '''\n",
    "    # Assert input properties\n",
    "    assert arr_ref.shape[0] > 0    # reference array must be non-empty\n",
    "    assert arr_sig.shape[0] > 0    # signal array must be non-empty\n",
    "    assert dist_max > 0.0          # maximal distance must be greater than 0.0\n",
    "    if regulate_paddings:\n",
    "        assert dist_padding > 0.0  # maximal distance for paddings must be greater than 0.0\n",
    "\n",
    "    # store the lengths of the arrays\n",
    "    l_arr_ref = len(arr_ref)\n",
    "    l_arr_sig = len(arr_sig)\n",
    "            \n",
    "    ref_idx = 0              # index for arr_ref\n",
    "    sig_idx = 0              # index for arr_sig\n",
    "    counter = 0              # number of advocate events\n",
    "    cum_distance = 0.0       # cumulative distances between advocate events\n",
    "    \n",
    "    # Step 1: cut leading reference timestamps without finding advocates\n",
    "    while ref_idx+1 < l_arr_ref and arr_ref[ref_idx+1] <= arr_sig[sig_idx]:\n",
    "        ref_idx += 1\n",
    "        \n",
    "    # return dist_max, if arr_ref ends before arr_sig starts\n",
    "    if ref_idx+1 == l_arr_ref:\n",
    "        return dist_max\n",
    "    \n",
    "    # Case: arr_ref[ref_idx] < arr_sig[sig_idx] < arr_ref[ref_idx+1]\n",
    "    assert arr_ref[ref_idx+1] > arr_sig[sig_idx]\n",
    "    \n",
    "    # Step 2: count leading signal timestamps with finding advocates\n",
    "    while sig_idx < l_arr_sig and arr_sig[sig_idx] < arr_ref[ref_idx]:\n",
    "        # Invariant: arr_ref[ref_idx] < arr_sig[sig_idx] < arr_ref[ref_idx+1]\n",
    "        if regulate_paddings:\n",
    "            cum_distance += min(arr_ref[ref_idx]-arr_sig[sig_idx], dist_padding)\n",
    "            counter += 1\n",
    "        sig_idx += 1\n",
    "        \n",
    "    # return dist_max, if arr_sig ends before arr_ref starts\n",
    "    if sig_idx == l_arr_sig:\n",
    "        return dist_max     \n",
    "    \n",
    "    # Step 3 (regular case) and step 4 (match trailing signal timestamps)\n",
    "    while sig_idx < l_arr_sig:\n",
    "        # Step 3: regular case\n",
    "        if arr_sig[sig_idx] < arr_ref[-1]:\n",
    "            # forward arr_ref and then arr_sig until regalar case\n",
    "            while ref_idx+1 < l_arr_ref and arr_ref[ref_idx+1] <= arr_sig[sig_idx]:\n",
    "                ref_idx += 1\n",
    "            if ref_idx+1 >= l_arr_ref: \n",
    "                sig_idx += 1\n",
    "                continue\n",
    "            # Invariant: arr_ref[ref_idx] < arr_sig[sig_idx] < arr_ref[ref_idx+1]\n",
    "            # assert arr_ref[ref_idx] <= arr_sig[sig_idx]\n",
    "            # assert arr_sig[sig_idx] < arr_ref[ref_idx+1]\n",
    "            \n",
    "            cum_distance += min(arr_sig[sig_idx]-arr_ref[ref_idx], arr_ref[ref_idx+1]-arr_sig[sig_idx], dist_max) \n",
    "            counter += 1\n",
    "        # Step 4: match trailing reference timestamps with last signal timestamp\n",
    "        elif regulate_paddings:  \n",
    "            # Invariant: arr_ref[ref_idx+1] <= arr_sig[sig_idx], given by the else case\n",
    "            if arr_sig[sig_idx]-arr_ref[ref_idx+1] < dist_padding:\n",
    "                cum_distance += arr_sig[sig_idx]-arr_ref[ref_idx+1]\n",
    "                counter += 1\n",
    "            else: \n",
    "                # case with only dist_padding increments from now on\n",
    "                cum_distance += (l_arr_sig - sig_idx) * dist_padding\n",
    "                counter += (l_arr_sig - sig_idx)\n",
    "                break # stop, because the last values can be aggregated\n",
    "                \n",
    "        sig_idx += 1\n",
    "    \n",
    "    # return mean cumulative distance between found advocate events\n",
    "    return cum_distance / counter\n",
    "\n",
    "\n",
    "@njit(parallel=False)\n",
    "def nearest_advocate(arr_ref: np.ndarray, arr_sig: np.ndarray, \n",
    "                     td_min: float, td_max: float, td_prox: float=1.0, sps: float=10, sparse_factor: int=1, \n",
    "                     dist_max: float=0.0, regulate_paddings: bool=True, dist_padding: float=0.0):\n",
    "    '''Calculates the synchronicity of two arrays of timestamps for a search space between td_min and td_max with a precision of 1/sps. The synchronicity is given by the mean of all minimal distances between each event in arr_sig and it's nearest advocate in arr_ref.\n",
    "    arr_ref (np.array): Reference array or timestamps assumed to be correct\n",
    "    arr_sig (np.array): Signal array of  timestamps, assumed to be shifted by an unknown constant time-delta\n",
    "    td_min (float): lower bound of the search space for the time-shift\n",
    "    td_max (float): upper bound of the search space for the time-shift\n",
    "    sps (int): number of investigated time-shifts per second, should be higher than 10 times the number of median gap of arr_ref (default 10).\n",
    "    sparse_factor (int): factor for the sparseness of arr_sig for the calculation, higher is faster but may be less accurate (default 1)\n",
    "    dist_max (None, float): Maximal accepted distances, default None: 1/4 of the median gap of arr_ref\n",
    "    dist_padding (None, float): Assumed distances of non-overlapping (padding) matches, default None: 1/4 of the median gap of arr_ref\n",
    "    regulate_paddings (bool): regulate non-overlapping events in arr_sig with a maximum distance of err_max\n",
    "    '''\n",
    "    # set the default values for dist_max, dist_padding relative if not set\n",
    "    # TODO improve default value: min(np.median(np.diff(arr_sig)), np.median(np.diff(arr_ref))) / 4\n",
    "    if dist_max <= 0.0:\n",
    "        dist_max = np.median(np.diff(arr_ref))/4\n",
    "    if dist_padding <= 0.0:\n",
    "        dist_padding = np.median(np.diff(arr_ref))/4\n",
    "        \n",
    "    # Random subsample and create a copy of arr_sig once, as it could lead to problems otherwise\n",
    "    if sparse_factor > 1:\n",
    "        probe = arr_sig[sparse_factor//2::sparse_factor].copy()\n",
    "    else:\n",
    "        probe = arr_sig.copy()\n",
    "    \n",
    "    # Create an k x 2 matrix to store the investigated time-shifts and their respective mean distance\n",
    "    broad_search_n_samples = int((td_max-td_min)*sps)\n",
    "    fine_search_n_samples = int(2*10*td_prox*sps)   # fine search with factor 1/10 sampling\n",
    "    time_delays = np.empty((broad_search_n_samples+fine_search_n_samples, 2), dtype=np.float32)\n",
    "    time_delays[:broad_search_n_samples, 0] = np.arange(td_min, td_max, 1/sps)\n",
    "    # Calculate the mean distance for all time-shifts in the search space. \n",
    "    # The shift with the lowest mean distance is the best fit for the time-shift\n",
    "    idx = 0\n",
    "    while idx < broad_search_n_samples:\n",
    "        # calculate the nearest advocate criteria\n",
    "        time_delays[idx,1] = nearest_advocate_single(\n",
    "             arr_ref, \n",
    "             probe-time_delays[idx,0],  # the signal array is shifted by a time-delta\n",
    "             dist_max=dist_max, regulate_paddings=regulate_paddings, dist_padding=dist_padding)\n",
    "        idx += 1\n",
    "    \n",
    "    # finesearch around the peak\n",
    "    time_shift, min_mean_dist = time_delays[np.argmin(time_delays[:broad_search_n_samples,1])]\n",
    "    time_delays[broad_search_n_samples:, 0] = np.arange(time_shift-td_prox, time_shift+td_prox, 1/sps/10)\n",
    "    # Calculate the mean distance for all time-shifts in the search space. \n",
    "    while idx < time_delays.shape[0]:\n",
    "        # calculate the nearest advocate criteria\n",
    "        time_delays[idx,1] = nearest_advocate_single(\n",
    "             arr_ref, \n",
    "             probe-time_delays[idx,0],  # the signal array is shifted by a time-delta\n",
    "             dist_max=dist_max, regulate_paddings=regulate_paddings, dist_padding=dist_padding)\n",
    "        idx += 1     \n",
    "    return time_delays\n",
    "\n",
    "# run once before the test to just-in-time compile it\n",
    "start_time = time.time()\n",
    "time_delays = nearest_advocate(arr_ref=arr_ref, arr_sig=arr_sig, \n",
    "                             td_min=-10, td_max=10, td_prox=1, sps=SAMPLES_PER_S, sparse_factor=1, \n",
    "                             dist_max=DIST_MAX, regulate_paddings=REGULATE_PADDINGS, dist_padding=DIST_MAX)\n",
    "time_shift, min_mean_dist = time_delays[np.argmin(time_delays[:,1])]\n",
    "print(f\"Found optimum for a time shift of {time_shift:.3f}s in {time.time()-start_time:.3f}s\")\n",
    "\n",
    "sns.scatterplot(x=time_delays[:,0], y=time_delays[:,1], marker='.')\n",
    "plt.xlim(time_shift-5.0, time_shift+5.0)\n",
    "plt.show()"
   ]
  },
  {
   "cell_type": "code",
   "execution_count": null,
   "id": "3676c817-4144-4d0a-8e6d-2fd29c3bc0a1",
   "metadata": {},
   "outputs": [],
   "source": []
  },
  {
   "cell_type": "markdown",
   "id": "db8ac59a-4914-4486-a493-449e875b7c1f",
   "metadata": {},
   "source": [
    "## Plot the characteristical line of one sample"
   ]
  },
  {
   "cell_type": "code",
   "execution_count": 11,
   "id": "67df980e-4a53-4807-958a-d58ec21babba",
   "metadata": {},
   "outputs": [],
   "source": [
    "def plot_nearest_advocate(df_nearest, lb=-10, ub=15, savepath=None, alpha=0.05, cutofflevel=0.5):\n",
    "    # Plot main stuff and resulting optimum\n",
    "    # df_nearest[\"score\"] = -(df_nearest[\"error\"] - np.median(df_nearest[\"error\"])) / (np.median(df_nearest[\"error\"]) - np.min(df_nearest[\"error\"]))\n",
    "    # df_nearest[\"probability\"] = scipy.special.softmax(temperature*(df_nearest[\"score\"]-df_nearest[\"error\"].mean()))\n",
    "    sns.lineplot(data=df_nearest, x=\"time-delta\", y=\"error\", color=\"steelblue\", label=\"Distance\")\n",
    "    td_hat = df_nearest.loc[np.argmin(df_nearest[\"error\"])][\"time-delta\"]\n",
    "    plt.vlines(x=td_hat, ymin=0, ymax=1, color=\"firebrick\", label=f\"Shift = {td_hat:.2f}s\")\n",
    "\n",
    "    # Transform dataframe\n",
    "    # df_nearest = df_nearest[(lb < df_nearest[\"time-delta\"]) * (df_nearest[\"time-delta\"] < ub)]\n",
    "    avg = np.median(df_nearest[\"error\"])\n",
    "    df_nearest[\"score\"] = avg - df_nearest[\"error\"].copy()\n",
    "    max_score = df_nearest[\"score\"].max();\n",
    "    df_nearest.loc[df_nearest[\"score\"] < (cutofflevel*max_score), \"score\"] = 1e-9\n",
    "    df_nearest[\"score\"] /= df_nearest[\"score\"].sum()\n",
    "    sns.lineplot(data=df_nearest, x=\"time-delta\", y=\"score\", color=\"darkturquoise\", label=\"Prob. density\")\n",
    "    \n",
    "    # Confidence interval\n",
    "    df_nearest[\"cumscore\"] = df_nearest[\"score\"].cumsum() / df_nearest[\"score\"].sum()\n",
    "    low_border = df_nearest.loc[df_nearest[df_nearest[\"cumscore\"].gt(alpha/2)].index[0]]\n",
    "    high_border = df_nearest.loc[df_nearest[df_nearest[\"cumscore\"].gt(1-alpha/2)].index[0]]\n",
    "    width = high_border['time-delta']-low_border['time-delta']\n",
    "\n",
    "    # Plot statistics\n",
    "    avg_prox = time_delay_df.loc[\n",
    "        (td_hat+lb < time_delay_df[\"time-delta\"]) & (time_delay_df[\"time-delta\"] < td_hat+ub),\n",
    "        \"error\"].mean()\n",
    "    plt.hlines(y=avg_prox, xmin=td_hat+lb, xmax=td_hat+ub, color=\"black\", label=\"Mean distance\")\n",
    "    b = (avg - df_nearest[\"error\"].min()) #/ 2\n",
    "    plt.vlines(x=low_border[\"time-delta\"], ymin=0, ymax=1, color=\"black\", linestyle=\"dashed\")\n",
    "    plt.vlines(x=high_border[\"time-delta\"], ymin=0, ymax=1, color=\"black\", linestyle=\"dashed\", label=f\"{100*(1-alpha):.0f}% conf. {width:.1f}s\")\n",
    "    df_peak = df_nearest[(low_border[\"time-delta\"] <= df_nearest[\"time-delta\"]) * (df_nearest[\"time-delta\"] <= high_border[\"time-delta\"])]\n",
    "\n",
    "    plt.xlim([td_hat+lb, td_hat+ub])\n",
    "    plt.ylim([-0.01, 1.1*time_delay_df[\"error\"].max()])\n",
    "    plt.title(\"Characteristic Curve of Nearest Advocate\")\n",
    "    plt.xlabel(\"Time shift (s)\")\n",
    "    plt.ylabel(\"Mean distance (s)\")\n",
    "    \n",
    "    plt.legend(loc=\"lower right\")\n",
    "    if savepath:\n",
    "        plt.savefig(savepath, bbox_inches = \"tight\")\n",
    "    plt.show()"
   ]
  },
  {
   "cell_type": "code",
   "execution_count": 12,
   "id": "6d3a1970-155e-4cf2-bd90-5943be86b7c9",
   "metadata": {},
   "outputs": [],
   "source": [
    "arr_ref, arr_sig = heart_beat_dataset[0]\n",
    "arr_ref = arr_ref[:600]\n",
    "arr_sig = arr_sig[:600] + np.pi"
   ]
  },
  {
   "cell_type": "code",
   "execution_count": 13,
   "id": "9de029da-7820-4c01-852e-4dcb8b390cf1",
   "metadata": {},
   "outputs": [
    {
     "name": "stdout",
     "output_type": "stream",
     "text": [
      "Found optimum for a time shift of 2.635s in 0.023s\n"
     ]
    }
   ],
   "source": [
    "# run once before the test to just-in-time compile it\n",
    "start_time = time.time()\n",
    "DIST_MAX = -1\n",
    "time_delays = nearest_advocate(arr_ref=arr_ref, arr_sig=arr_sig, \n",
    "                             td_min=TD_MIN, td_max=TD_MAX, td_prox=1, sps=SAMPLES_PER_S, sparse_factor=1, \n",
    "                             dist_max=DIST_MAX, regulate_paddings=REGULATE_PADDINGS, dist_padding=DIST_MAX)\n",
    "time_shift, min_mean_dist = time_delays[np.argmin(time_delays[:,1])]\n",
    "print(f\"Found optimum for a time shift of {time_shift:.3f}s in {time.time()-start_time:.3f}s\")"
   ]
  },
  {
   "cell_type": "code",
   "execution_count": 14,
   "id": "f787644c-369a-4f8d-b1e8-5cb288f30190",
   "metadata": {},
   "outputs": [
    {
     "data": {
      "image/png": "[encoded data removed]",
      "text/plain": [
       "<Figure size 432x288 with 1 Axes>"
      ]
     },
     "metadata": {
      "needs_background": "light"
     },
     "output_type": "display_data"
    }
   ],
   "source": [
    "time_delay_df = pd.DataFrame(time_delays, columns=[\"time-delta\", \"error\"])\n",
    "plot_nearest_advocate(time_delay_df, \n",
    "                      lb=-4, ub=6,\n",
    "                      alpha=0.05, cutofflevel=0.5, \n",
    "                      savepath=\"fig/real_syncplot_nearestadvocate.png\")"
   ]
  },
  {
   "cell_type": "code",
   "execution_count": null,
   "id": "3fa26386-c667-4cb7-a0e1-f3f5bf797bb1",
   "metadata": {},
   "outputs": [],
   "source": []
  },
  {
   "cell_type": "markdown",
   "id": "315bcd4e-2dd1-4970-94d0-3747d21a18a9",
   "metadata": {},
   "source": [
    "## Plot for all heart beat measurements"
   ]
  },
  {
   "cell_type": "code",
   "execution_count": 15,
   "id": "2f65a802-b307-424f-8254-7533b872c44c",
   "metadata": {
    "tags": []
   },
   "outputs": [],
   "source": [
    "# for idx, (arr_ref, arr_sig) in enumerate(heart_beat_dataset):\n",
    "#     print(f\"\\nFile {idx}\")\n",
    "#     # subset the arrays\n",
    "#     arr_ref = arr_ref[:1000]\n",
    "#     arr_sig = arr_sig[:1000]\n",
    "    \n",
    "#     # Calculate the time delay\n",
    "#     start_time = time.time()\n",
    "#     DIST_MAX = -1\n",
    "#     time_delays = nearest_advocate(arr_ref=arr_ref, arr_sig=arr_sig, \n",
    "#                                  td_min=TD_MIN, td_max=TD_MAX, td_prox=1, sps=SAMPLES_PER_S, sparse_factor=1, \n",
    "#                                  dist_max=DIST_MAX, regulate_paddings=REGULATE_PADDINGS, dist_padding=DIST_MAX)\n",
    "#     time_shift, min_mean_dist = time_delays[np.argmin(time_delays[:,1])]\n",
    "#     print(f\"Found optimum for a time shift of {time_shift:.3f}s in {time.time()-start_time:.3f}s\")\n",
    "    \n",
    "#     # plot\n",
    "#     time_delay_df = pd.DataFrame(time_delays, columns=[\"time-delta\", \"error\"])\n",
    "#     plot_nearest_advocate(time_delay_df, \n",
    "#                           lb=-7, ub=10,\n",
    "#                           alpha=0.05, cutofflevel=0.5, \n",
    "#                           savepath=None)"
   ]
  },
  {
   "cell_type": "code",
   "execution_count": null,
   "id": "ea35f43b-82bd-4278-86ac-623361903385",
   "metadata": {},
   "outputs": [],
   "source": []
  }
 ],
 "metadata": {
  "kernelspec": {
   "display_name": "Python 3 (ipykernel)",
   "language": "python",
   "name": "python3"
  },
  "language_info": {
   "codemirror_mode": {
    "name": "ipython",
    "version": 3
   },
   "file_extension": ".py",
   "mimetype": "text/x-python",
   "name": "python",
   "nbconvert_exporter": "python",
   "pygments_lexer": "ipython3",
   "version": "3.10.5"
  }
 },
 "nbformat": 4,
 "nbformat_minor": 5
}
