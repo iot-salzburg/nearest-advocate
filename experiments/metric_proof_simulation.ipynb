{
 "cells": [
  {
   "cell_type": "markdown",
   "metadata": {},
   "source": [
    "# Formal Proof and Empirical Simulation of Nearest Advocate beeing a metric\n",
    "\n"
   ]
  },
  {
   "cell_type": "markdown",
   "metadata": {},
   "source": [
    "## Problem formulation\n",
    "\n",
    "Let $\\mathcal{T}_n = \\{t_i: \\ t_i \\in \\mathbb{R} \\land t_i-t_{i-1}>0 \\ \\forall i = 1,2,..., n\\}$ an event time series of true timestamps, i.e., sets with strict increasing order and \n",
    "$\\mathcal{S}_{m} = \\{s_j: \\ s_j \\in \\mathbb{R} \\land s_j-s_{j-1}>0 \\ \\forall j = 1,2,...,m \\}$ the measurement of $T_n$\n",
    "with a time delay $\\phi_s$ between the event time series such that:\n",
    "\n",
    "$$\\forall j \\leq m: \\ \\exists i \\leq n: \\ s_j = t_i + \\phi_s + \\varepsilon_{ji}$$\n",
    "   \n",
    "As we can expect the distribution of errors to be centered around zero $\\mathbb{E}[\\varepsilon]=0$, the time delay can be estimated if $m=n$ and $i=j$ using, e.g., the MAE:\n",
    "\n",
    "$$\\hat{\\phi_s} = \\argmin_{\\phi \\in \\mathbb{R}} \\sum_{i=1}^n \\vert s_i - t_i - \\phi \\vert$$\n",
    "\n",
    "For the case of undetected or not matched events in $\\mathcal{S}$, this estimate is no longer valid and the process of time delay estimation must be weakened to:\n",
    "\n",
    "We assume $m \\leq n$ and we know the mapping between matching events as injective and strictly monotonically increasing function $f: \\ j \\mapsto i$, then $\\phi$ can be estimated by:\n",
    "\n",
    "$$\\hat{\\phi_s} = \\argmin_{\\phi \\in \\mathbb{R}} \\sum_{j=1}^m \\vert s_j - t_{f(i)} - \\phi \\vert$$\n",
    "\n",
    "However, in practice, the function $f$ is often unknown, complicating the problem of time delay estimation. \n",
    "Therefore, we propose the algorithm **Nearest Advocate** so solve this problem, which does not depend on $f$.\n",
    "\n"
   ]
  },
  {
   "cell_type": "code",
   "execution_count": 1,
   "metadata": {},
   "outputs": [],
   "source": [
    "# Import packages used here\n",
    "import os\n",
    "# Set the path such that the package can be found locally\n",
    "os.chdir(\"/home/jovyan/work/Synchronization/git_nearest_advocate/\")\n",
    "\n",
    "import time\n",
    "import numpy as np\n",
    "np.random.seed(1)  # set seed\n",
    "import pandas as pd\n",
    "import seaborn as sns\n",
    "import matplotlib.pyplot as plt\n",
    "\n",
    "from src.nearest_advocate_numba import nearest_advocate, nearest_advocate_single\n",
    "\n",
    "\n",
    "SIM_COUNT = int(1e5)"
   ]
  },
  {
   "cell_type": "code",
   "execution_count": 2,
   "metadata": {},
   "outputs": [],
   "source": [
    "# Checks of the algorithm easy to calculate\n",
    "\n",
    "arr_ref = np.array([5, 10, 11, 14, 19])\n",
    "arr_sig = np.array([1, 3, 7, 13, 16, 17, 18, 21, 23])\n",
    "assert nearest_advocate_single(arr_ref=arr_ref, arr_sig=arr_sig, dist_max=10.0)*len(arr_sig) == 20\n",
    "assert nearest_advocate_single(arr_ref=arr_sig, arr_sig=arr_ref, dist_max=10.0)*len(arr_ref) == 9\n",
    "# check reverse\n",
    "assert nearest_advocate_single(arr_ref=-arr_ref[::-1], arr_sig=-arr_sig[::-1], dist_max=10.0)*len(arr_sig) == 20\n",
    "assert nearest_advocate_single(arr_ref=-arr_sig[::-1], arr_sig=-arr_ref[::-1], dist_max=10.0)*len(arr_ref) == 9\n",
    "\n",
    "arr_ref = np.array([5, 10, 11, 14, 19])\n",
    "arr_sig = np.array([1, 3, 7, 13, 16, 17, 18, 21, 23])\n",
    "assert nearest_advocate_single(arr_ref=arr_ref, arr_sig=arr_sig, dist_max=2.0)*len(arr_sig) == 16\n",
    "assert nearest_advocate_single(arr_ref=arr_sig, arr_sig=arr_ref, dist_max=2.0)*len(arr_ref) == 8\n",
    "# check reverse\n",
    "assert nearest_advocate_single(arr_ref=-arr_ref[::-1], arr_sig=-arr_sig[::-1], dist_max=2.0)*len(arr_sig) == 16\n",
    "assert nearest_advocate_single(arr_ref=-arr_sig[::-1], arr_sig=-arr_ref[::-1], dist_max=2.0)*len(arr_ref) == 8"
   ]
  },
  {
   "cell_type": "code",
   "execution_count": 3,
   "metadata": {},
   "outputs": [
    {
     "name": "stdout",
     "output_type": "stream",
     "text": [
      "Found an optimum at 3.1312s with a minimal mean distance of 0.082896s\n"
     ]
    },
    {
     "data": {
      "image/png": "[encoded data removed]",
      "text/plain": [
       "<Figure size 432x288 with 1 Axes>"
      ]
     },
     "metadata": {
      "needs_background": "light"
     },
     "output_type": "display_data"
    }
   ],
   "source": [
    "arr_ref = np.sort(np.cumsum(np.random.normal(loc=1, scale=0.25, size=1000)))\n",
    "arr_sig = np.sort(arr_ref + np.pi + np.random.normal(loc=0, scale=0.1, size=1000))\n",
    "\n",
    "time_shifts = nearest_advocate(arr_ref, arr_sig, td_min=-10, td_max=10)\n",
    "time_shift, min_mean_dist = time_shifts[np.argmin(time_shifts[:,1])]\n",
    "print(f\"Found an optimum at {time_shift:.4f}s with a minimal mean distance of {min_mean_dist:.6f}s\")\n",
    "#> Found an optimum at 3.15s with a minimal mean distance of 0.079508s\n",
    "\n",
    "import matplotlib.pyplot as plt\n",
    "plt.plot(time_shifts[:,0], time_shifts[:,1], color=\"steelblue\", label=\"Mean distance\")\n",
    "plt.vlines(x=time_shift, ymin=min_mean_dist, ymax=np.mean(time_shifts[:,1]), color=\"firebrick\", label=f\"Shift = {time_shift:.2f}s\")\n",
    "plt.xlim(time_shift-4, time_shift+4)\n",
    "plt.xlabel(\"Time delay (s)\")\n",
    "plt.ylabel(\"Mean distance (s)\")\n",
    "plt.legend(loc=\"lower right\")\n",
    "plt.show()"
   ]
  },
  {
   "cell_type": "code",
   "execution_count": 4,
   "metadata": {},
   "outputs": [],
   "source": [
    "N = 100\n",
    "DEF_DIST = 0.25\n",
    "TIME_SHIFT = 1000\n",
    "SEED = 0\n",
    "\n",
    "np.random.seed(SEED)\n",
    "arr_ref = np.sort(np.cumsum(np.random.normal(\n",
    "    loc=1, scale=0.25, size=N))).astype(np.float32)\n",
    "arr_sig = np.sort(arr_ref + TIME_SHIFT + np.random.normal(\n",
    "    loc=0, scale=0.1, size=N)).astype(np.float32)\n",
    "\n",
    "np_nearest = nearest_advocate(\n",
    "    arr_ref=arr_ref, arr_sig=arr_sig,\n",
    "    td_min=-60, td_max=60, sps=20, sparse_factor=1)\n",
    "time_shift, min_mean_dist = np_nearest[np.argmin(np_nearest[:, 1])]"
   ]
  },
  {
   "cell_type": "code",
   "execution_count": null,
   "metadata": {},
   "outputs": [],
   "source": []
  },
  {
   "cell_type": "markdown",
   "metadata": {},
   "source": [
    "## Definition of a Metric Space:\n",
    "\n",
    "Formally, a metric space is an ordered pair $(M, D)$ where $M$ is a set and $D$ is a metric on $M$, i.e., a function\n",
    "\n",
    "$$ D: M \\times M \\to \\mathbb{R} $$\n",
    "\n",
    "satisfying the following axioms for all points $x, y, z \\in M$:\n",
    "\n",
    "1. **Positive-definite:**\n",
    "    The distance from a point to any other point is non-negative:\n",
    "    $D(x, y) \\geq 0$ and the distance is only zero iff the two points are equal:\n",
    "   $$D(x, y) = 0 \\iff  x = y$$\n",
    "\n",
    "2. **Symmetry:** The distance from $x$ to $y$ is always the same as the distance from $y$ to $x$:\n",
    "   $$ D(x, y) = D(y, x) $$\n",
    "\n",
    "3. **Triangle Inequality:** The distance between two points is always less than or equal to the sum of the distances of those points to a third point:\n",
    "   $$ D(x, z) \\leq D(x, y) + D(y, z) $$\n"
   ]
  },
  {
   "cell_type": "markdown",
   "metadata": {},
   "source": [
    "### Application\n",
    "\n",
    "Here we construct a metric space as $(M, D_{\\text{NAd}})$ where $M = \\{\\mathcal{T} \\subset \\mathbb{R}: \\ \\mathcal{T}=\\{t_i: \\ t_i \\in \\mathbb{R} \\land \\ t_i-t_{i-1} > 0 \\ \\forall i = 1, 2, \\ldots, n\\}\\} \\subset \\mathcal{P}(\\mathbb{R})$ and $\\mathcal{X},\\mathcal{Y},\\mathcal{Z} \\in M$ are sets with strict increasing order for their elements in $\\mathbb{R}$. \n",
    "\n",
    "The function $D_{\\text{NAd}}: \\ M\\times M \\to \\mathbb{R}$ is the Nearest Advocate algorithm as defined in the code and illustrated in the pseudocode, with the single parameter $d_{\\max} > 0$.\n",
    "\n",
    "### Symmetric Nearest Advocate\n",
    "\n",
    "Similar to the Kullback-Leibler Divergence, the Nearest Advocate requires a symmetric version that is constructed by applying the basic function to its arguments in both directions.\n",
    "\n",
    "$$D_{\\text{NAd-symmetric}}(\\mathcal{X},\\mathcal{Y}) \\coloneqq \\frac{1}{2} \\left( D_{\\text{NAd}}(\\mathcal{X},\\mathcal{Y}) + D_{\\text{NAd}}(\\mathcal{Y},\\mathcal{X}) \\right)$$\n",
    "\n",
    "To shorten the notation, we denote $D_{\\text{NAd-symmetric}}$ as $D$ and express the single parameter $d_{\\max}$ in subscript as $D_{d_{\\max}}$.\n",
    "\n",
    "## Theorem 1:\n",
    "\n",
    "The Symmetric Nearest Advocate $D$ over $M_{\\Delta t_{\\min}} = \\{\\mathcal{T} \\subset \\mathbb{R}: \\ \\mathcal{T}=\\{t_i: \\ t_i \\in \\mathbb{R} \\land \\ t_i-t_{i-1} \\geq \\Delta t_{\\min} \\ \\forall i = 1, 2, \\ldots, n\\}\\}$ is a metric space for all $\\Delta t_{\\min} > 0$.\n",
    "\n"
   ]
  },
  {
   "cell_type": "markdown",
   "metadata": {},
   "source": [
    "## Proof Overview\n",
    "\n",
    "1. **Contradiction of Positive-Definiteness in $(M, D_{\\text{NAd}})$:** We explore a scenario that contradicts the assumption that $(M, D_{\\text{NAd}})$ is positive-definite.\n",
    "2. **Proof of Positive-Definiteness in $(M, D)$:** We demonstrate that the metric space $(M, D)$ satisfies the positive-definiteness property.\n",
    "3. **Contradiction of Symmetry in $(M, D_{\\text{NAd}})$:** We present a case that contradicts the symmetry property in $(M, D_{\\text{NAd}})$\n",
    "4. **Proof of Symmetry in $(M, D)$:** We prove that the metric space $(M, D)$adheres to the symmetry property.\n",
    "\n",
    "5. **Contradiction of Triangle Inequality in $M, D_{\\text{NAd}})$** We identify a contradiction to the triangle inequality in the context of $M, D_{\\text{NAd}})$.\n",
    "6. **Proof of Triangle Inequality in $(M', D)$:** We establish that the metric space $(M', D)$ satisfies the triangle inequality.\n",
    "\n",
    "Therefore, $(M', D)$ is confirmed as a metric space.\n"
   ]
  },
  {
   "cell_type": "markdown",
   "metadata": {},
   "source": [
    "### Ad 1) Contradiction of $(M, D_{\\text{NAd}})$ being positive-definite\n",
    "\n",
    "Let $\\mathcal{X}=\\{1,2,3\\}$, $\\mathcal{Y}=\\{1,3\\}$, then for any $d_{\\max}>0$\n",
    "\n",
    "$$D_{\\text{NAd}}(\\mathcal{X}, \\mathcal{Y}) = \\frac{1}{2}(\\min(\\vert 1-1 \\vert, d_{\\max}) + \\min(\\vert 3-3 \\vert, d_{\\max})) = 0$$\n",
    "\n",
    "Remember that each element in $\\mathcal{Y}$ is matched with its nearest advocate in $\\mathcal{X}$.\n",
    "\n",
    "Thus, $D_{\\text{NAd}}(\\mathcal{X}, \\mathcal{Y})=0 \\land \\mathcal{X}\\neq \\mathcal{Y}$ which contradicts the positive-definiteness.\n"
   ]
  },
  {
   "cell_type": "markdown",
   "metadata": {},
   "source": [
    "<img src=\"https://raw.githubusercontent.com/iot-salzburg/nearest-advocate/main/experiments/fig/NotTheMetric.gif\" width=\"440\" height=\"330\" />"
   ]
  },
  {
   "cell_type": "code",
   "execution_count": 5,
   "metadata": {},
   "outputs": [],
   "source": [
    "# Apply from the left and the right side\n",
    "arr_ref = np.array([1, 2, 3])\n",
    "arr_sig = np.array([1, 3])\n",
    "\n",
    "assert nearest_advocate_single(arr_ref=arr_ref, arr_sig=arr_sig, dist_max=1.0) == 0.0"
   ]
  },
  {
   "cell_type": "code",
   "execution_count": null,
   "metadata": {},
   "outputs": [],
   "source": []
  },
  {
   "cell_type": "markdown",
   "metadata": {},
   "source": [
    "### Ad 2) Proof of $(M, D)$ being positive-definite\n",
    "\n",
    "**Showing $D(\\mathcal{X}, \\mathcal{Y}) \\geq 0$ indirectly:**\n",
    "\n",
    "Suppose $\\exists \\mathcal{X}, \\mathcal{Y} \\in M: D(\\mathcal{X}, \\mathcal{Y}) < 0$\n",
    "\n",
    "$$^{w.l.o.g}\\Rightarrow D_{\\text{NAd}}(\\mathcal{X}, \\mathcal{Y}) < 0$$\n",
    "$$dist_{cum} < 0 \\ \\text{(within the pseudocode)}$$\n",
    "\n",
    "We show the matching Case 3 as it is the most complex one and the other can be shown analogously. The invariant we have in this case is $x_i \\leq y_j < x_{i+1}$:\n",
    "\n",
    "As we know $dist_{cum}$ is initialized with $0$.\n",
    "$$\\exists \\text{ at least one loop iteration for that } x_i\\in\\mathcal{X}, y_j\\in\\mathcal{Y}: \\text{distance} = \\min(y_j-x_i, x_{i+1}-y_j, d_{\\max})<0$$\n",
    "\n",
    "Case $y_j-x_i<0 \\land x_{i+1}-y_j<0$ contradict the loop invariant of the Matching Case 3.\n",
    "\n",
    "Case $d_{\\max}<0$ contradicts the definition.\n",
    "\n",
    "Therefore, $D(\\mathcal{X}, \\mathcal{Y}) \\geq 0$ holds $\\forall \\mathcal{X}, \\mathcal{Y} \\in M, \\forall d_{\\max} \\in \\mathbb{R}$.\n",
    "\n",
    "   \n",
    "**Showing $\\mathcal{X}=\\mathcal{Y} \\Rightarrow D(\\mathcal{X}, \\mathcal{Y}) = 0$:**\n",
    "\n",
    "$$\\mathcal{X}=\\mathcal{Y} \\Rightarrow \\forall y_j\\in\\mathcal{Y}: \\ \\exists x_i\\in\\mathcal{X}: \\ x_i=y_j$$\n",
    "\n",
    "Therefore, in each loop iteration $\\text{distance} = \\min(y_j-x_i, x_{i+1}-y_j, d_{\\max}) = 0$\n",
    "\n",
    "$$\\Rightarrow dist_{cum} = 0 \\Rightarrow D_{\\text{NAd}}(\\mathcal{X}, \\mathcal{Y}) = 0\\Rightarrow D(\\mathcal{X}, \\mathcal{Y}) = 0$$\n",
    "\n",
    "\n",
    "   \n",
    "**Showing $D(\\mathcal{X}, \\mathcal{Y}) = 0 \\Rightarrow \\mathcal{X}=\\mathcal{Y}$ indirectly:**\n",
    "\n",
    "Suppose $\\mathcal{X} \\neq \\mathcal{Y}$\n",
    "\n",
    "$$^{w.l.o.G}\\Rightarrow \\exists y_j\\in\\mathcal{Y}: \\ \\forall x_i\\in \\mathcal{X}: \\ x_i\\neq y_j$$\n",
    "\n",
    "As we have the invariant $x_i \\leq y_j < x_{i+1}$, it follows: \n",
    "\n",
    "$$\\Rightarrow \\text{distance} = \\min(y_j-x_i, x_{i+1}-y_j, d_{\\max}) > 0 \\Rightarrow D_{\\text{NAd}}(\\mathcal{X}, \\mathcal{Y}) = 0\\Rightarrow D(\\mathcal{X}, \\mathcal{Y}) = 0$$\n"
   ]
  },
  {
   "cell_type": "code",
   "execution_count": 6,
   "metadata": {},
   "outputs": [],
   "source": [
    "# Simulate positivity\n",
    "# $D(\\mathcal{X}, \\mathcal{Y}) \\geq 0$\n",
    "for _ in range(SIM_COUNT):\n",
    "    # Create a reference array whose inter-event intervals are sampled from a normal distribution.\n",
    "    arr_ref = np.sort(np.cumsum(np.random.normal(loc=1, scale=0.25, size=np.random.randint(2, 100))**2))\n",
    "    arr_sig = np.sort(np.cumsum(np.random.normal(loc=1, scale=0.25, size=np.random.randint(2, 100))**2))\n",
    "    dist_max = 1e-12 + np.random.normal()**2  # > 0\n",
    "\n",
    "    # Assert one-sided variant\n",
    "    assert nearest_advocate_single(arr_ref=arr_ref, arr_sig=arr_sig, dist_max=dist_max) > 0\n",
    "\n",
    "    # Assert symmetric variant\n",
    "    assert nearest_advocate_single(arr_ref=arr_ref, arr_sig=arr_sig, dist_max=dist_max, symmetric=True) > 0"
   ]
  },
  {
   "cell_type": "code",
   "execution_count": 7,
   "metadata": {},
   "outputs": [],
   "source": [
    "# Simulate distance to itself:\n",
    "# $\\mathcal{X}=\\mathcal{Y} \\Rightarrow D(\\mathcal{X}, \\mathcal{Y}) = 0$\n",
    "for _ in range(SIM_COUNT):\n",
    "    # Create an array whose inter-event intervals are sampled from a squared normal distribution.\n",
    "    arr_ref = np.sort(np.cumsum(np.random.normal(loc=1, scale=0.25, size=np.random.randint(2, 100))**2))\n",
    "\n",
    "    # Apply symmetric variant\n",
    "    min_mean_dist = nearest_advocate_single(arr_ref=arr_ref, arr_sig=arr_ref, dist_max=1.0, symmetric=True)\n",
    "\n",
    "    # Assert property (tolerate minor floating precision errors)\n",
    "    assert np.abs(min_mean_dist) < 1e-12"
   ]
  },
  {
   "cell_type": "code",
   "execution_count": null,
   "metadata": {},
   "outputs": [],
   "source": []
  },
  {
   "cell_type": "markdown",
   "metadata": {},
   "source": [
    "### Ad 3) Contradiction  of $(M, D_\\text{NAd})$ being symmetric.\n",
    "\n",
    "Let $\\mathcal{X}=\\{1,2,3\\}$, $\\mathcal{Y}=\\{1,3\\}$, then for any $d_{\\max}>0:$\n",
    "\n",
    "$$D_\\text{NAd}(\\mathcal{X}, \\mathcal{Y}) = \\frac{1}{2}(\\min(\\vert 1-1 \\vert, d_{\\max}) + \\min(\\vert 3-3 \\vert, d_{\\max})) = 0$$\n",
    "$$D_\\text{NAd}(\\mathcal{Y}, \\mathcal{X}) = \\frac{1}{3}(\\min(\\vert 1-1 \\vert, d_{\\max}) + \\min(2-1, 3-2, d_{\\max}) + \\min(\\vert 3-3 \\vert, d_{\\max}))$$\n",
    "$$D_\\text{NAd}(\\mathcal{Y}, \\mathcal{X}) = \\frac{1}{3}\\min(1, d_{\\max}) > 0$$\n",
    "\n",
    "$D_\\text{NAd}(\\mathcal{X}, \\mathcal{Y}) \\neq D_\\text{NAd}(\\mathcal{Y}, \\mathcal{X})$ contradicts the symmetry property."
   ]
  },
  {
   "cell_type": "markdown",
   "metadata": {},
   "source": [
    "<img src=\"https://raw.githubusercontent.com/iot-salzburg/nearest-advocate/main/experiments/fig/NotTheMetric.gif\" width=\"440\" height=\"330\" />\n"
   ]
  },
  {
   "cell_type": "code",
   "execution_count": 8,
   "metadata": {},
   "outputs": [],
   "source": [
    "# Apply from the left and the right side\n",
    "arr_ref = np.array([1, 2, 3])\n",
    "arr_sig = np.array([1, 3])\n",
    "\n",
    "D_xy = nearest_advocate_single(arr_ref=arr_ref, arr_sig=arr_sig, dist_max=1.0)  # 0.0\n",
    "D_yx = nearest_advocate_single(arr_ref=arr_sig, arr_sig=arr_ref, dist_max=1.0)  # 1/3\n",
    "assert D_xy != D_yx"
   ]
  },
  {
   "cell_type": "code",
   "execution_count": null,
   "metadata": {},
   "outputs": [],
   "source": []
  },
  {
   "cell_type": "markdown",
   "metadata": {},
   "source": [
    "### Ad 4) Proof of $(M, D)$ being symmetric.\n",
    "$\\forall \\mathcal{X}, \\mathcal{Y}\\in M, \\forall d_{\\max}>0$:\n",
    "\n",
    "$$D(\\mathcal{X}, \\mathcal{Y}) \\coloneqq \\frac{1}{2} \\left( D_\\text{NAd}(\\mathcal{X},\\mathcal{Y}) + D_\\text{NAd}(\\mathcal{Y},\\mathcal{X}) \\right) = \\frac{1}{2} \\left( D_\\text{NAd}(\\mathcal{Y},\\mathcal{X}) + D_\\text{NAd}(\\mathcal{X},\\mathcal{Y}) \\right) = D(\\mathcal{Y}, \\mathcal{X})$$\n",
    "\n",
    "The function $D$ over $M$ is symmetric."
   ]
  },
  {
   "cell_type": "code",
   "execution_count": 9,
   "metadata": {},
   "outputs": [],
   "source": [
    "# Simulate symmetry\n",
    "# $D(\\mathcal{X}, \\mathcal{Y}) = D(\\mathcal{Y}, \\mathcal{X})$\n",
    "for _ in range(SIM_COUNT):\n",
    "    # Create arrays whose inter-event intervals are sampled from a squared normal distribution.\n",
    "    arr_ref = np.sort(np.cumsum(np.random.normal(loc=1, scale=0.25, size=np.random.randint(2, 100))**2))\n",
    "    arr_sig = np.sort(np.cumsum(np.random.normal(loc=1, scale=0.25, size=np.random.randint(2, 100))**2))\n",
    "    dist_max = 1e-3 + np.random.random()\n",
    "\n",
    "    # Apply symmetric variant from the left side\n",
    "    min_mean_dist_l = nearest_advocate_single(arr_ref=arr_ref, arr_sig=arr_sig, dist_max=dist_max, symmetric=True)\n",
    "\n",
    "    # Apply symmetric variant from the right side\n",
    "    min_mean_dist_r = nearest_advocate_single(arr_ref=arr_sig, arr_sig=arr_ref, dist_max=dist_max, symmetric=True)\n",
    "\n",
    "    # Assert property\n",
    "    assert min_mean_dist_l == min_mean_dist_r"
   ]
  },
  {
   "cell_type": "code",
   "execution_count": null,
   "metadata": {},
   "outputs": [],
   "source": []
  },
  {
   "cell_type": "markdown",
   "metadata": {},
   "source": [
    "### Ad 5) Contradiction of triangle inequality for some $(M, D_{\\text{NAd}})$\n",
    "\n",
    "Let $\\mathcal{X}=\\{1,2\\}$, $\\mathcal{Y}=\\{2.1,2.9\\}$, $\\mathcal{Z}=\\{3,4\\}$, then for any $d_{\\max}\\geq 2:$\n",
    "\n",
    "\n",
    "$$2\\cdot D_\\text{NAd}(\\mathcal{X}, \\mathcal{Z}) = 2 + 1 = 3.0$$\n",
    "$$2\\cdot D_\\text{NAd}(\\mathcal{X}, \\mathcal{Y}) = 0.1 + 0.9 = 1.0$$\n",
    "$$2\\cdot D_\\text{NAd}(\\mathcal{Y}, \\mathcal{Z}) = 0.1 + 1.1 = 1.2$$\n",
    "\n",
    "<!-- More general for any $d_{\\max}>0$:\n",
    "\n",
    "Let $\\mathcal{X}=\\{1,2\\}$, $\\mathcal{Y}=\\{2.1,2.9\\}$, $\\mathcal{Y}=\\{3,4\\}$:\n",
    "\n",
    "$$2\\cdot (D_\\text{NAd}(\\mathcal{X}, \\mathcal{Y}) + D_\\text{NAd}(\\mathcal{Y}, \\mathcal{Z}) - D_\\text{NAd}(\\mathcal{X}, \\mathcal{Z})) = \\min(0.1, d_{\\max}) + \\min(0.9, d_{\\max}) + \\min(0.1, d_{\\max}) + \\min(1.1, d_{\\max}}) - \\min(1, _{\\max}}) - \\min(2, d_{\\max})$$\n",
    "$$< \\min(1.0, d_{\\max}) + \\min(1.2, d_{\\max}) - \\min(1, d_{\\max}) - \\min(2, d_{\\max}}) = \\min(1.2, d_{\\max}) - \\min(2, d_{\\max}) < 0 \\quad \\forall d_{\\max} > 1.2$$\n",
    "\n",
    "$D_\\text{NAd}(\\mathcal{X}, \\mathcal{Z}) > D_\\text{NAd}(\\mathcal{X}, \\mathcal{Y}) + D_\\text{NAd}(\\mathcal{Y}, \\mathcal{Z}) \\quad \\forall d_{\\max} > 1.2$ contradicts the triangle inequality. -->\n",
    "\n",
    "$D_{\\text{NAd}}(\\mathcal{X}, \\mathcal{Z}) > D_{\\text{NAd}}(\\mathcal{X}, \\mathcal{Y}) + D_{\\text{NAd}}(\\mathcal{Y}, \\mathcal{Z}) \\quad \\forall d_{\\max} \\geq 2$ contradicts the triangle inequality.\n",
    "\n",
    "Analogously, we show that in this case $D_{\\text{NAd}}(\\mathcal{Z}, \\mathcal{X}) > D_{\\text{NAd}}(\\mathcal{Z}, \\mathcal{Y}) + D_{\\text{NAd}}(\\mathcal{Y}, \\mathcal{X})$ does not hold and therefore the triangle equation is violated also for the symmetric $D$.\n",
    "\n",
    "We see that we could constrain $D(d_{\\max})$ such that this equation could still hold for a given $M$."
   ]
  },
  {
   "cell_type": "markdown",
   "metadata": {},
   "source": [
    "<img src=\"https://raw.githubusercontent.com/iot-salzburg/nearest-advocate/main/experiments/fig/NotTheMetric.gif\" width=\"440\" height=\"330\" />\n"
   ]
  },
  {
   "cell_type": "code",
   "execution_count": 10,
   "metadata": {},
   "outputs": [
    {
     "name": "stdout",
     "output_type": "stream",
     "text": [
      "D_NAd: 1.500000 > 0.500000 + 0.600000 = 1.100000\n",
      "Symmetric D_NAd: 3.000000 > 1.100000 + 1.100000 = 2.200000\n"
     ]
    }
   ],
   "source": [
    "# Contradiction of the general triangle inequality\n",
    "arr_x = np.array([1, 2])\n",
    "arr_y = np.array([2.1, 2.9])\n",
    "arr_z = np.array([3, 4])\n",
    "dist_max = 4\n",
    "\n",
    "D_xz = nearest_advocate_single(arr_ref=arr_x, arr_sig=arr_z, dist_max=dist_max)\n",
    "D_xy = nearest_advocate_single(arr_ref=arr_x, arr_sig=arr_y, dist_max=dist_max)\n",
    "D_yz = nearest_advocate_single(arr_ref=arr_y, arr_sig=arr_z, dist_max=dist_max)\n",
    "\n",
    "print(f\"D_NAd: {D_xz:.6f} > {D_xy:.6f} + {D_yz:.6f} = {D_xy+D_yz:.6f}\")\n",
    "assert not D_xz <= D_xy + D_yz\n",
    "\n",
    "D_xz = nearest_advocate_single(arr_ref=arr_x, arr_sig=arr_z, dist_max=dist_max, symmetric=True)\n",
    "D_xy = nearest_advocate_single(arr_ref=arr_x, arr_sig=arr_y, dist_max=dist_max, symmetric=True)\n",
    "D_yz = nearest_advocate_single(arr_ref=arr_y, arr_sig=arr_z, dist_max=dist_max, symmetric=True)\n",
    "\n",
    "print(f\"Symmetric D_NAd: {D_xz:.6f} > {D_xy:.6f} + {D_yz:.6f} = {D_xy+D_yz:.6f}\")\n",
    "assert not D_xz <= D_xy + D_yz"
   ]
  },
  {
   "cell_type": "code",
   "execution_count": null,
   "metadata": {},
   "outputs": [],
   "source": []
  },
  {
   "cell_type": "markdown",
   "metadata": {},
   "source": [
    "### Ad 6) Proof of the triangle inequality for $(D_{d_{\\max}}, M_{\\Delta t_{\\min}})$\n",
    "\n",
    "The triangle inequality can be shown if $M$ is constrained to $M' = M_{\\Delta t_{\\min}} = \\{\\mathcal{T} \\subset \\mathbb{R}: \\ \\mathcal{T}=\\{t_i: \\ t_i \\in \\mathbb{R} \\land \\ t_i-t_{i-1} > \\Delta t_{\\min} \\ \\forall i \\leq n\\}\\} \\subset \\mathcal{P}(\\mathbb{R})$ a set with strict increasing order with minimal distance of $\\Delta t_{\\min} > 0$ between each element.\n",
    "\n",
    "\n",
    "Then we can show that \n",
    "\n",
    "$$\\forall \\Delta t_{\\min}: \\ \\exists d'_{\\max}: \\ (D_\\text{NAd}(d_{\\max}), M_{\\Delta t_{\\min}}) \\text{ is a metric space } \\forall d_{\\max} \\leq d'_{\\max} = \\Delta t_{\\min}/2$$\n",
    "\n",
    "<!-- This does not hold:\n",
    "$\\exists d_{\\max}: \\ \\forall \\Delta t_{\\min}: \\ (D_\\text{NAd}(d_{\\max}), M_{\\Delta t_{\\min}})$ is a metric space as $ d_{\\max} < \\Delta t_{\\min}/2$ does not hold for all cases. -->\n",
    "\n",
    "#### Lemma 1:\n",
    "\n",
    "First, we have to show:\n",
    "\n",
    "$$\\forall \\Delta t_{\\min}: \\ \\exists d'_{\\max}: \\ D_\\text{NAd}(\\mathcal{X}_{n+1}, \\mathcal{Y}_{n+1}) = \\frac{1}{n+1}\\left(n\\cdot D_\\text{NAd}(\\mathcal{X}_{n}, \\mathcal{Y}_{n}) + \\vert y_{n+1} - x_{n+1}\\vert\\right)$$\n",
    "\n",
    "#### Proof: Lemma 1:\n",
    "\n",
    "This is always the case if every $y_{n+1}$ is only matched with $x_{n+1}$. As this should hold for newly added elements regardless of their order in the respective sets, we notate these elements by $x_j$ and $y_i$. W.l.o.g., we prove Lemma 1 by showing \n",
    "$x_j - y_i \\leq y_{i+1} - x_j \\quad \\forall y_i \\leq x_j < y_{i+1}$ \n",
    "by constraining the differences of two measurements over their true event timestamps:\n",
    "\n",
    "$$(y_{i+1} - x_j) - (x_j - y_i) = (y_{i+1} - t_{l+1} + \\Delta t_{\\min} + t_l - x_j) - (x_j - t_l + t_l - y_i)$$\n",
    "\n",
    "We use again the distance function $d(x_i, y_i) \\coloneqq \\min(x_i-y_i, \\ d_{\\max}) \\geq 0$ (which is not symmetric).\n",
    "\n",
    "$$(y_{i+1} - x_j) - (x_j - y_i) = d(y_{i+1}, t_{l+1}) + \\Delta t_{\\min} + d(t_l, x_j) - d(x_j, t_l) - d(t_l, y_i) \\geq \\Delta t_{\\min} - d(x_j, t_l) - d(t_l, y_i)$$\n",
    "\n",
    "This term can be limited by either constraining $d_{\\max}$ or the difference between $\\vert x_j - t_l\\vert$ rsp. $\\vert y_i - t_l\\vert$ with an upper threshold $\\varepsilon + \\vert\\phi\\vert$ where $\\varepsilon$ is the maximal error in measuring the true timestamp and $\\phi$ the time delay. Then two limits follow:\n",
    "\n",
    "$$(y_{i+1} - x_j) - (x_j - y_i) \\geq \\Delta t_{\\min} - 2 d_{\\max} \\geq 0 \\quad \\forall d_{\\max} \\leq \\Delta t_{\\min}/2$$\n",
    "$$(y_{i+1} - x_j) - (x_j - y_i) \\geq \\Delta t_{\\min} - 2 (\\varepsilon + \\vert\\phi\\vert) \\geq 0 \\quad \\forall 2 (\\varepsilon + \\vert\\phi\\vert) \\leq \\Delta t_{\\min}/2$$\n",
    "\n",
    "Therefore, Lemma 1 holds $\\forall d_{\\max} \\leq \\Delta t_{\\min}/2$. The second limit is of theoretical interest as it shows that the triangle inequality holds for any $\\Delta t_{\\min}$ if an arbitrarily high data quality and with already corrected time delay $\\phi$ can be achieved."
   ]
  },
  {
   "cell_type": "markdown",
   "metadata": {},
   "source": [
    "#### Proof of the Triangle Inequality for $(D_{d_{\\max}}, M_{\\Delta t_{\\min}})$ with Lemma 1\n",
    "\n",
    "$$D_\\text{NAd}(\\mathcal{X}_{n+1}, \\mathcal{Y}_{n+1}) + D_\\text{NAd}(\\mathcal{Y}_{n+1}, \\mathcal{Z}_{n+1}) = \\frac{1}{n+1}\\left( n\\cdot D_\\text{NAd}(\\mathcal{X}_{n}, \\mathcal{Y}_{n}) + n\\cdot D_\\text{NAd}(\\mathcal{Y}_{n}, \\mathcal{Z}_{n}) + \\vert y_{n+1} - x_{n+1}\\vert + \\vert z_{n+1} - y_{n+1}\\vert\\right)$$\n",
    "$$\\geq \\frac{1}{n+1}\\left( n\\cdot D_\\text{NAd}(\\mathcal{X}_{n}, \\mathcal{Z}_{n}) + \\vert y_{n+1} - x_{n+1} + z_{n+1} - y_{n+1}\\vert\\right)\n",
    "\\geq \\frac{1}{n+1}\\left( n\\cdot D_\\text{NAd}(\\mathcal{X}_{n}, \\mathcal{Z}_{n}) + \\vert z_{n+1} - x_{n+1}\\vert\\right) = D_\\text{NAd}(\\mathcal{X}_{n+1}, \\mathcal{Z}_{n+1})$$\n",
    "\n",
    "It is trivial to show that this also holds for the symmetric Nearest Advocate.\n",
    "\n",
    "\n",
    "#### Summary\n",
    "\n",
    "We proved the positive-definity, symmetry and triangular inequality. Therefore, $(D_{d_{\\max}}, M_{\\Delta t_{\\min}})$ is a metric. $\\square$"
   ]
  },
  {
   "cell_type": "code",
   "execution_count": null,
   "metadata": {},
   "outputs": [],
   "source": []
  },
  {
   "cell_type": "markdown",
   "metadata": {},
   "source": [
    "### Simulations for the Triangle Inequality - $\\mathcal{X},\\mathcal{Y},\\mathcal{Z}$ are independent event time series"
   ]
  },
  {
   "cell_type": "markdown",
   "metadata": {},
   "source": [
    "#### Simulate for fixed $\\varepsilon, \\phi$ and variable $d_{\\max}$"
   ]
  },
  {
   "cell_type": "code",
   "execution_count": 11,
   "metadata": {},
   "outputs": [
    {
     "data": {
      "text/plain": [
       "100000"
      ]
     },
     "execution_count": 11,
     "metadata": {},
     "output_type": "execute_result"
    }
   ],
   "source": [
    "SIM_COUNT  # number of runs in each setting"
   ]
  },
  {
   "cell_type": "code",
   "execution_count": 12,
   "metadata": {},
   "outputs": [
    {
     "data": {
      "text/plain": [
       "True"
      ]
     },
     "execution_count": 12,
     "metadata": {},
     "output_type": "execute_result"
    }
   ],
   "source": [
    "# simulate the triangle inequality with random parameters and assert property if the conditions hold\n",
    "def run_triangle_ineq_independent(size_n=10, delta_t_min=1.0, dist_max=1.0, scale=0.5, phi=0, symmetric=False, do_assert=True):\n",
    "    # Define the measurements  with a minimal distance\n",
    "    arr_x = np.sort(np.cumsum(np.random.normal(loc=0, scale=scale, size=size_n)**2 + delta_t_min)) + phi * np.random.rand() - phi/2\n",
    "    arr_y = np.sort(np.cumsum(np.random.normal(loc=0, scale=scale, size=size_n)**2 + delta_t_min)) + phi * np.random.rand() - phi/2\n",
    "    arr_z = np.sort(np.cumsum(np.random.normal(loc=0, scale=scale, size=size_n)**2 + delta_t_min)) + phi * np.random.rand() - phi/2\n",
    "\n",
    "    # Apply symmetric or one-sided variant\n",
    "    min_mean_dist_1 = nearest_advocate_single(arr_ref=arr_x, arr_sig=arr_z, dist_max=dist_max, symmetric=symmetric)\n",
    "    min_mean_dist_2 = nearest_advocate_single(arr_ref=arr_x, arr_sig=arr_y, dist_max=dist_max, symmetric=symmetric)\n",
    "    min_mean_dist_3 = nearest_advocate_single(arr_ref=arr_y, arr_sig=arr_z, dist_max=dist_max, symmetric=symmetric)\n",
    "\n",
    "    # Assert property for both conditions, use small addendum to handle rounding errors\n",
    "    if do_assert and not min_mean_dist_1 <= min_mean_dist_2 + min_mean_dist_3 + 1e-12:\n",
    "        if dist_max <= delta_t_min / 2:\n",
    "            print()\n",
    "            if dist_max <= delta_t_min / 2:\n",
    "                print(\"  Contradiction with small dist_max\")\n",
    "\n",
    "            print(f\"Dt_min={delta_t_min}, d_max={dist_max}, scale={scale}, phi={phi}\")\n",
    "            print(min_mean_dist_1, min_mean_dist_2, min_mean_dist_3, min_mean_dist_2 + min_mean_dist_3)\n",
    "            print(\"[\" + \", \".join([str(v) for v in arr_x]) + \"]\")\n",
    "            print(\"[\" + \", \".join([str(v) for v in arr_y]) + \"]\")\n",
    "            print(\"[\" + \", \".join([str(v) for v in arr_z]) + \"]\")\n",
    "            # assert min_mean_dist_1 <= min_mean_dist_2 + min_mean_dist_3 + 1e-12\n",
    "\n",
    "    return min_mean_dist_1 <= min_mean_dist_2 + min_mean_dist_3 + 1e-12\n",
    "\n",
    "run_triangle_ineq_independent(size_n=10, delta_t_min=1.0, dist_max=0.5, scale=0.5, do_assert=True)"
   ]
  },
  {
   "cell_type": "code",
   "execution_count": 13,
   "metadata": {},
   "outputs": [
    {
     "data": {
      "text/plain": [
       "29150"
      ]
     },
     "execution_count": 13,
     "metadata": {},
     "output_type": "execute_result"
    }
   ],
   "source": [
    "# Systematic search for invalid parameters\n",
    "space_dmax =        [0.1, 0.2, 0.3, 0.5, 1.0, 2.0, 3.0, 5.0]\n",
    "space_delta_t_min = [0.2, 0.4, 0.6, 1.0, 2.0, 4.0, 6.0, 10.0]\n",
    "arr_num_false = np.zeros((len(space_dmax), len(space_delta_t_min)))\n",
    "\n",
    "for i, dist_max in enumerate(space_dmax):\n",
    "    for j, delta_t_min in enumerate(space_delta_t_min):\n",
    "        for run in range(SIM_COUNT):\n",
    "            # Set parameters\n",
    "            size_n = np.random.randint(2, 40)\n",
    "            scale = np.random.random()\n",
    "            phi = np.random.normal(loc=0, scale=size_n * delta_t_min / 10)\n",
    "\n",
    "            # Simulate and cumulate\n",
    "            arr_num_false[i,j] += not run_triangle_ineq_independent(\n",
    "                delta_t_min=delta_t_min, dist_max=dist_max, scale=scale, phi=phi,\n",
    "                symmetric=False, do_assert=True)\n",
    "int(np.sum(arr_num_false))"
   ]
  },
  {
   "cell_type": "code",
   "execution_count": 14,
   "metadata": {},
   "outputs": [
    {
     "data": {
      "image/png": "[encoded data removed]",
      "text/plain": [
       "<Figure size 504x360 with 2 Axes>"
      ]
     },
     "metadata": {
      "needs_background": "light"
     },
     "output_type": "display_data"
    }
   ],
   "source": [
    "# Plot invalid triangle inequality as heatmap\n",
    "df_num_false = pd.DataFrame(arr_num_false, index=space_dmax, columns=space_delta_t_min)\n",
    "\n",
    "# Use seaborn to create a heatmap\n",
    "plt.figure(figsize=(7, 5))\n",
    "sns.heatmap(df_num_false, annot=True, fmt=\".0f\", cmap=\"coolwarm\")\n",
    "plt.title('Number of Invalid Triangle Inequality: Independent Events')\n",
    "plt.xlabel(r'Minimal distance $\\Delta t_{\\min}$ in $\\mathcal{T}$')\n",
    "plt.ylabel(r'Parameter $d_{\\max}$ for $D_{NAd}$')\n",
    "plt.savefig(\"experiments/fig/parameter_influence_dmax_independent.pdf\", bbox_inches='tight')\n",
    "plt.show()"
   ]
  },
  {
   "cell_type": "code",
   "execution_count": null,
   "metadata": {},
   "outputs": [],
   "source": []
  },
  {
   "cell_type": "markdown",
   "metadata": {},
   "source": [
    "### Evaluation for different lengths and independent $\\mathcal{X},\\mathcal{Y},\\mathcal{Z}$\n",
    "\n",
    "The proof of the triangular inequality requires same sample sizes of $\\mathcal{X},\\mathcal{Y},\\mathcal{Z}$ and their dependency to $\\mathcal{T}$. The dependency was only required to limit the term in Lemma 1 based on $\\varepsilon + \\vert \\phi \\vert$ and is not required if we rely on the contrained $d_{\\max}$.\n",
    "For unequal sample sizes we can apply a trick with which we fill up missing elements by very high dummy values with $\\Delta t_{\\min}$ inter-element distance that are shifted between $\\mathcal{X},\\mathcal{Y},\\mathcal{Z}$ such that they can't match with distance $< d_{\\max}$.\n",
    "Each dummy element will be matched with distance $d_{\\max}$, thus increasing the $D_{\\text{NAd}}$."
   ]
  },
  {
   "cell_type": "code",
   "execution_count": 15,
   "metadata": {},
   "outputs": [
    {
     "data": {
      "text/plain": [
       "True"
      ]
     },
     "execution_count": 15,
     "metadata": {},
     "output_type": "execute_result"
    }
   ],
   "source": [
    "# simulate the triangle inequality with random parameters and assert property if the conditions hold\n",
    "def run_triangle_ineq_difflengths(delta_t_min=1.0, dist_max=1.0, scale=0.5, phi=0, symmetric=False, do_assert=True):\n",
    "    # Define the measurements of the events\n",
    "    arr_x = np.sort(np.cumsum(np.random.normal(loc=0, scale=scale, size=np.random.randint(2, 10))**2 + delta_t_min)) + phi * np.random.rand() - phi/2\n",
    "    arr_y = np.sort(np.cumsum(np.random.normal(loc=0, scale=scale, size=np.random.randint(2, 10))**2 + delta_t_min)) + phi * np.random.rand() - phi/2\n",
    "    arr_z = np.sort(np.cumsum(np.random.normal(loc=0, scale=scale, size=np.random.randint(2, 10))**2 + delta_t_min)) + phi * np.random.rand() - phi/2\n",
    "\n",
    "    # Trick fill the missing values with dummy entries that are matched with distance dist_max\n",
    "    # not required in practical applications and could also lead to floating point precision errors\n",
    "    max_l = max(len(arr_x), len(arr_y), len(arr_z))\n",
    "    arr_x = np.concatenate((arr_x, np.linspace(1e9, 1e9+(max_l-len(arr_x))*delta_t_min, max_l-len(arr_x))))\n",
    "    arr_y = np.concatenate((arr_y, np.linspace(2e9, 2e9+(max_l-len(arr_y))*delta_t_min, max_l-len(arr_y))))\n",
    "    arr_z = np.concatenate((arr_z, np.linspace(3e9, 3e9+(max_l-len(arr_z))*delta_t_min, max_l-len(arr_z))))\n",
    "\n",
    "    # Apply symmetric or one-sided variant\n",
    "    min_mean_dist_1 = nearest_advocate_single(arr_ref=arr_x, arr_sig=arr_z, dist_max=dist_max, symmetric=symmetric)\n",
    "    min_mean_dist_2 = nearest_advocate_single(arr_ref=arr_x, arr_sig=arr_y, dist_max=dist_max, symmetric=symmetric)\n",
    "    min_mean_dist_3 = nearest_advocate_single(arr_ref=arr_y, arr_sig=arr_z, dist_max=dist_max, symmetric=symmetric)\n",
    "\n",
    "    # Assert property for both conditions, use small addendum to handle rounding errors\n",
    "    if do_assert and not min_mean_dist_1 <= min_mean_dist_2 + min_mean_dist_3 + 1e-12:\n",
    "        if dist_max <= delta_t_min / 2:\n",
    "            print()\n",
    "            if dist_max <= delta_t_min / 2:\n",
    "                print(\"  Contradiction with small dist_max\")\n",
    "            print(f\"Dt_min={delta_t_min}, d_max={dist_max}, scale={scale}, phi={phi}\")\n",
    "            print(min_mean_dist_1, min_mean_dist_2, min_mean_dist_3, min_mean_dist_2 + min_mean_dist_3)\n",
    "            print(\"[\" + \", \".join([str(v) for v in arr_x]) + \"]\")\n",
    "            print(\"[\" + \", \".join([str(v) for v in arr_y]) + \"]\")\n",
    "            print(\"[\" + \", \".join([str(v) for v in arr_z]) + \"]\")\n",
    "            # assert min_mean_dist_1 <= min_mean_dist_2 + min_mean_dist_3 + 1e-12\n",
    "\n",
    "    return min_mean_dist_1 <= min_mean_dist_2 + min_mean_dist_3 + 1e-12\n",
    "\n",
    "run_triangle_ineq_difflengths(delta_t_min=1.0, dist_max=0.5, do_assert=True)"
   ]
  },
  {
   "cell_type": "code",
   "execution_count": 16,
   "metadata": {},
   "outputs": [
    {
     "data": {
      "text/plain": [
       "16627"
      ]
     },
     "execution_count": 16,
     "metadata": {},
     "output_type": "execute_result"
    }
   ],
   "source": [
    "# Systematic search for invalid parameters\n",
    "n_runs = SIM_COUNT\n",
    "space_dmax =        [0.1, 0.2, 0.3, 0.5, 1.0, 2.0, 3.0, 5.0]\n",
    "space_delta_t_min = [0.2, 0.4, 0.6, 1.0, 2.0, 4.0, 6.0, 10.0]\n",
    "arr_num_false = np.zeros((len(space_dmax), len(space_delta_t_min)))\n",
    "\n",
    "for i, dist_max in enumerate(space_dmax):\n",
    "    for j, delta_t_min in enumerate(space_delta_t_min):\n",
    "        for run in range(n_runs):\n",
    "            # Set parameters\n",
    "            scale = np.random.random()\n",
    "            phi = np.random.normal(loc=0, scale=size_n * delta_t_min / 10)\n",
    "\n",
    "            # Simulate and cumulate\n",
    "            arr_num_false[i,j] += not run_triangle_ineq_difflengths(\n",
    "                delta_t_min=delta_t_min, dist_max=dist_max, scale=scale, phi=phi,\n",
    "                symmetric=False, do_assert=True)\n",
    "int(np.sum(arr_num_false))"
   ]
  },
  {
   "cell_type": "code",
   "execution_count": 17,
   "metadata": {},
   "outputs": [
    {
     "data": {
      "image/png": "[encoded data removed]",
      "text/plain": [
       "<Figure size 504x360 with 2 Axes>"
      ]
     },
     "metadata": {
      "needs_background": "light"
     },
     "output_type": "display_data"
    }
   ],
   "source": [
    "# Plot invalid triangle inequality as heatmap\n",
    "df_num_false = pd.DataFrame(arr_num_false, index=space_dmax, columns=space_delta_t_min)\n",
    "\n",
    "# Use seaborn to create a heatmap\n",
    "plt.figure(figsize=(7, 5))\n",
    "sns.heatmap(df_num_false, annot=True, fmt=\".0f\", cmap=\"coolwarm\")\n",
    "plt.title('Number of Invalid Triangle Inequalities: Independent Events')\n",
    "plt.xlabel(r'Minimal distance $\\Delta t_{\\min}$ in $\\mathcal{T}$')\n",
    "plt.ylabel(r'Parameter $d_{\\max}$ of $d_{NAd}$')\n",
    "plt.savefig(\"experiments/fig/parameter_influence_dmax_independent_difflengths.pdf\", bbox_inches='tight')\n",
    "plt.show()"
   ]
  },
  {
   "cell_type": "code",
   "execution_count": null,
   "metadata": {},
   "outputs": [],
   "source": []
  }
 ],
 "metadata": {
  "kernelspec": {
   "display_name": "Python 3 (ipykernel)",
   "language": "python",
   "name": "python3"
  },
  "language_info": {
   "codemirror_mode": {
    "name": "ipython",
    "version": 3
   },
   "file_extension": ".py",
   "mimetype": "text/x-python",
   "name": "python",
   "nbconvert_exporter": "python",
   "pygments_lexer": "ipython3",
   "version": "3.10.5"
  },
  "orig_nbformat": 4
 },
 "nbformat": 4,
 "nbformat_minor": 2
}
