{
 "cells": [
  {
   "cell_type": "markdown",
   "id": "d4b4f966-2041-4dae-9821-027d10ed0dd4",
   "metadata": {
    "tags": []
   },
   "source": [
    "# Comparision of methods for time delay estimation on semi-simulated event-based time-series data\n",
    "\n",
    "**Methods:**\n",
    "1. Nearest Advocate (NAd): dense, different sparse-factors  \n",
    "1. Pearson Cross-correlation (PCC): FFT and DFT  \n",
    "1. Kernel Cross-correlation (KCC)  \n",
    "1. Dynamic Time Warping (DTW)  \n",
    "\n",
    "**Experiments:**\n",
    "1. Sample different lenghts  \n",
    "1. Different noise\n",
    "1. remove a fraction of the events  \n",
    "\n",
    "## TODO\n",
    "\n",
    "- [ ] Clarify if simulated data is okay for length-experiment\n",
    "- [ ] Clarify if we should use NAd with multiple sparse-factor at first and then only dense and optimal sparse-factor?\n",
    "- [ ] Wording MAE mean absolute error instead of precision (higher is worse here)\n",
    "- [x] Parallelize the calculation\n",
    "- [x] Implement PCC\n",
    "- [ ] Implement KCC\n",
    "- [ ] Implement DTW\n",
    "- [x] Robustness Experiment (variable noise)\n",
    "- [x] Robustness Experiment (missing events)\n",
    "- [x] Fixate colors to methods\n",
    "- [ ] What about styles?"
   ]
  },
  {
   "cell_type": "code",
   "execution_count": 1,
   "id": "2ef372b1-a70e-4a34-a3e3-758f9c436fab",
   "metadata": {},
   "outputs": [],
   "source": [
    "import os\n",
    "import time\n",
    "\n",
    "import numpy as np\n",
    "np.random.seed(0)\n",
    "import numba\n",
    "import pandas as pd\n",
    "pd.set_option('display.max_rows', 500)\n",
    "pd.set_option('display.max_columns', 500)\n",
    "pd.set_option('display.width', 1000)\n",
    "\n",
    "import matplotlib.pyplot as plt\n",
    "import seaborn as sns\n",
    "\n",
    "from scipy.signal import correlate, correlation_lags\n",
    "\n",
    "from multiprocessing import Pool\n",
    "# Load methods\n",
    "%matplotlib inline\n",
    "\n",
    "# imports for dynamic linear timewarping using fastDTW\n",
    "from fastdtw import fastdtw\n",
    "from scipy.spatial.distance import euclidean\n",
    "from sklearn.metrics import r2_score"
   ]
  },
  {
   "cell_type": "code",
   "execution_count": 2,
   "id": "d7bba8d4-64de-4086-9eeb-0df61ac40714",
   "metadata": {},
   "outputs": [],
   "source": [
    "from data_loader import load_heart_beats, load_breath_rate, load_step_rate"
   ]
  },
  {
   "cell_type": "code",
   "execution_count": 3,
   "id": "18feb000-beec-4d1c-9900-11b4625106df",
   "metadata": {},
   "outputs": [],
   "source": [
    "# directories to load\n",
    "PATH_HEART_RATE_DATA = \"../data/HeartBeatData\"\n",
    "PATH_BREATH_RATE_DATA = \"../data/BreathRateData\"\n",
    "PATH_STEP_RATE_DATA = \"../data/StepRateData\"\n",
    "\n",
    "# parameters to semi-simulate data\n",
    "# OFFSET = np.pi  # this is randomly sampled now\n",
    "SIGMA = 0.1\n",
    "\n",
    "# parameters for Nearest-Advocate\n",
    "DIST_MAX = -1           # use the default values for dist_max and dist_padding of nearest_advocate\n",
    "REGULATE_PADDINGS = True  # regulate the paddings in nearest_advocate\n",
    "TD_MAX = 300               # search space of 10 minutes\n",
    "TD_MIN = -300\n",
    "SAMPLES_PER_S = 10        # precision of the search space (for steps of mean freq 0.5s)\n",
    "\n",
    "# parameters for PCC\n",
    "PCC_MODE = \"same\"\n",
    "\n",
    "# parameters for KCC\n",
    "KERNEL_PRECISION = 0.1"
   ]
  },
  {
   "cell_type": "code",
   "execution_count": null,
   "id": "9e8c2928-75fb-4752-b71b-26a9e4a629d7",
   "metadata": {},
   "outputs": [],
   "source": []
  },
  {
   "cell_type": "markdown",
   "id": "2447a2cc-7e5c-48c9-a7b6-605299cabbd1",
   "metadata": {},
   "source": [
    "## Data\n",
    "\n",
    "### Load the datasets"
   ]
  },
  {
   "cell_type": "code",
   "execution_count": 4,
   "id": "5cdd7469-c083-4f26-8990-26adeaef74ae",
   "metadata": {},
   "outputs": [
    {
     "name": "stdout",
     "output_type": "stream",
     "text": [
      "Loading files S18_11_nn.txt and S18_1_beats_synced.csv.\n",
      "Loading files S18_21_nn.txt and S18_2_beats_synced.csv.\n",
      "Loading files S19_11_nn.txt and S19_1_beats_synced.csv.\n",
      "Loading files S20_11_nn.txt and S20_1_beats_synced.csv.\n",
      "Loading files S20_21_nn.txt and S20_2_beats_synced.csv.\n",
      "Loading files S21_11_nn.txt and S21_1_beats_synced.csv.\n",
      "Loading files S21_21_nn.txt and S21_2_beats_synced.csv.\n",
      "Loading files S23_11_nn.txt and S23_1_beats_synced.csv.\n",
      "Loading files S23_21_nn.txt and S23_2_beats_synced.csv.\n",
      "Loading files S24_11_nn.txt and S24_1_beats_synced.csv.\n",
      "Loading files S24_21_nn.txt and S24_2_beats_synced.csv.\n",
      "Loading files S26_11_nn.txt and S26_1_beats_synced.csv.\n",
      "Loading files S27_11_nn.txt and S27_1_beats_synced.csv.\n",
      "Loading files S28_11_nn.txt and S28_1_beats_synced.csv.\n",
      "Loading files S28_21_nn.txt and S28_2_beats_synced.csv.\n",
      "Loading files S29_11_nn.txt and S29_1_beats_synced.csv.\n",
      "Loading files S29_21_nn.txt and S29_2_beats_synced.csv.\n"
     ]
    }
   ],
   "source": [
    "heart_beat_dataset = load_heart_beats(path_to_dir=PATH_HEART_RATE_DATA, verbose=1)"
   ]
  },
  {
   "cell_type": "code",
   "execution_count": 5,
   "id": "816c1a45-c5e6-4080-bc27-d9a283fa26fc",
   "metadata": {},
   "outputs": [
    {
     "name": "stdout",
     "output_type": "stream",
     "text": [
      "Loading files P04_Reference_FlowReversals_OVERALL.csv and P04_SportsSRS_FlowReversals_OVERALL.csv.\n",
      "Loading files P05_Reference_FlowReversals_OVERALL.csv and P05_SportsSRS_FlowReversals_OVERALL.csv.\n",
      "Loading files P06_Reference_FlowReversals_OVERALL.csv and P06_SportsSRS_FlowReversals_OVERALL.csv.\n",
      "Loading files P07_Reference_FlowReversals_OVERALL.csv and P07_SportsSRS_FlowReversals_OVERALL.csv.\n",
      "Loading files P08_Reference_FlowReversals_OVERALL.csv and P08_SportsSRS_FlowReversals_OVERALL.csv.\n",
      "Loading files P09_Reference_FlowReversals_OVERALL.csv and P09_SportsSRS_FlowReversals_OVERALL.csv.\n",
      "Loading files P10_Reference_FlowReversals_OVERALL.csv and P10_SportsSRS_FlowReversals_OVERALL.csv.\n",
      "Loading files P11_Reference_FlowReversals_OVERALL.csv and P11_SportsSRS_FlowReversals_OVERALL.csv.\n",
      "Loading files P12_Reference_FlowReversals_OVERALL.csv and P12_SportsSRS_FlowReversals_OVERALL.csv.\n",
      "Loading files P13_Reference_FlowReversals_OVERALL.csv and P13_SportsSRS_FlowReversals_OVERALL.csv.\n",
      "Loading files P14_Reference_FlowReversals_OVERALL.csv and P14_SportsSRS_FlowReversals_OVERALL.csv.\n",
      "Loading files P15_Reference_FlowReversals_OVERALL.csv and P15_SportsSRS_FlowReversals_OVERALL.csv.\n",
      "Loading files P16_Reference_FlowReversals_OVERALL.csv and P16_SportsSRS_FlowReversals_OVERALL.csv.\n",
      "Loading files P18_Reference_FlowReversals_OVERALL.csv and P18_SportsSRS_FlowReversals_OVERALL.csv.\n",
      "Loading files P19_Reference_FlowReversals_OVERALL.csv and P19_SportsSRS_FlowReversals_OVERALL.csv.\n",
      "Loading files P20_Reference_FlowReversals_OVERALL.csv and P20_SportsSRS_FlowReversals_OVERALL.csv.\n",
      "Loading files P21_Reference_FlowReversals_OVERALL.csv and P21_SportsSRS_FlowReversals_OVERALL.csv.\n",
      "Loading files P22_Reference_FlowReversals_OVERALL.csv and P22_SportsSRS_FlowReversals_OVERALL.csv.\n",
      "Loading files P23_Reference_FlowReversals_OVERALL.csv and P23_SportsSRS_FlowReversals_OVERALL.csv.\n"
     ]
    }
   ],
   "source": [
    "breath_rate_dataset = load_breath_rate(path_to_dir=PATH_BREATH_RATE_DATA, verbose=1)"
   ]
  },
  {
   "cell_type": "code",
   "execution_count": 6,
   "id": "a33064d5-91f7-4164-a3c9-a19e5b1920a8",
   "metadata": {},
   "outputs": [
    {
     "name": "stdout",
     "output_type": "stream",
     "text": [
      "Loading files P04_Reference_Strides_OVERALL.csv and P04_SportsSRS_Strides_OVERALL.csv.\n",
      "Loading files P05_Reference_Strides_OVERALL.csv and P05_SportsSRS_Strides_OVERALL.csv.\n",
      "Loading files P06_Reference_Strides_OVERALL.csv and P06_SportsSRS_Strides_OVERALL.csv.\n",
      "Loading files P07_Reference_Strides_OVERALL.csv and P07_SportsSRS_Strides_OVERALL.csv.\n",
      "Loading files P08_Reference_Strides_OVERALL.csv and P08_SportsSRS_Strides_OVERALL.csv.\n",
      "Loading files P09_Reference_Strides_OVERALL.csv and P09_SportsSRS_Strides_OVERALL.csv.\n",
      "Loading files P10_Reference_Strides_OVERALL.csv and P10_SportsSRS_Strides_OVERALL.csv.\n",
      "Loading files P11_Reference_Strides_OVERALL.csv and P11_SportsSRS_Strides_OVERALL.csv.\n",
      "Loading files P12_Reference_Strides_OVERALL.csv and P12_SportsSRS_Strides_OVERALL.csv.\n",
      "Loading files P13_Reference_Strides_OVERALL.csv and P13_SportsSRS_Strides_OVERALL.csv.\n",
      "Loading files P14_Reference_Strides_OVERALL.csv and P14_SportsSRS_Strides_OVERALL.csv.\n",
      "Loading files P15_Reference_Strides_OVERALL.csv and P15_SportsSRS_Strides_OVERALL.csv.\n",
      "Loading files P16_Reference_Strides_OVERALL.csv and P16_SportsSRS_Strides_OVERALL.csv.\n",
      "Loading files P18_Reference_Strides_OVERALL.csv and P18_SportsSRS_Strides_OVERALL.csv.\n",
      "Loading files P19_Reference_Strides_OVERALL.csv and P19_SportsSRS_Strides_OVERALL.csv.\n",
      "Loading files P20_Reference_Strides_OVERALL.csv and P20_SportsSRS_Strides_OVERALL.csv.\n",
      "Loading files P21_Reference_Strides_OVERALL.csv and P21_SportsSRS_Strides_OVERALL.csv.\n",
      "Loading files P22_Reference_Strides_OVERALL.csv and P22_SportsSRS_Strides_OVERALL.csv.\n",
      "Loading files P23_Reference_Strides_OVERALL.csv and P23_SportsSRS_Strides_OVERALL.csv.\n"
     ]
    }
   ],
   "source": [
    "step_rate_dataset = load_step_rate(path_to_dir=PATH_STEP_RATE_DATA, verbose=1)"
   ]
  },
  {
   "cell_type": "markdown",
   "id": "4d77847b-9f06-405b-a685-85065018ba6f",
   "metadata": {},
   "source": [
    "### Statistics of the datasets"
   ]
  },
  {
   "cell_type": "code",
   "execution_count": 7,
   "id": "2b07b161-5486-41d1-aa15-12fa7e43c192",
   "metadata": {
    "tags": []
   },
   "outputs": [],
   "source": [
    "n_measurements = 2 * len((heart_beat_dataset + breath_rate_dataset + step_rate_dataset))\n",
    "\n",
    "df_measurements = pd.DataFrame(columns=[\"dataset\", \"length\", \"count\", \"mean_diff\", \"median_diff\"], \n",
    "                               index=range(n_measurements))\n",
    "idx = 0\n",
    "for data_idx, dataset in enumerate((heart_beat_dataset, breath_rate_dataset, step_rate_dataset)):\n",
    "    for m in dataset:\n",
    "        for array in m:\n",
    "            df_measurements.loc[idx, \"dataset\"] = {0: \"HR\", 1: \"BR\", 2: \"SR\"}.get(data_idx)\n",
    "            df_measurements.loc[idx, \"count\"] = len(array)\n",
    "            df_measurements.loc[idx, \"length\"] = array[-1] - array[0]\n",
    "            df_measurements.loc[idx, \"mean_diff\"] = np.mean(np.diff(array))\n",
    "            df_measurements.loc[idx, \"median_diff\"] = np.median(np.diff(array))\n",
    "            idx += 1"
   ]
  },
  {
   "cell_type": "code",
   "execution_count": 8,
   "id": "2db5bdce-8657-47d1-96a2-c14ebc131595",
   "metadata": {},
   "outputs": [
    {
     "data": {
      "text/html": [
       "<div>\n",
       "<style scoped>\n",
       "    .dataframe tbody tr th:only-of-type {\n",
       "        vertical-align: middle;\n",
       "    }\n",
       "\n",
       "    .dataframe tbody tr th {\n",
       "        vertical-align: top;\n",
       "    }\n",
       "\n",
       "    .dataframe thead th {\n",
       "        text-align: right;\n",
       "    }\n",
       "</style>\n",
       "<table border=\"1\" class=\"dataframe\">\n",
       "  <thead>\n",
       "    <tr style=\"text-align: right;\">\n",
       "      <th></th>\n",
       "      <th>dataset</th>\n",
       "      <th>length</th>\n",
       "      <th>count</th>\n",
       "      <th>mean_diff</th>\n",
       "      <th>median_diff</th>\n",
       "    </tr>\n",
       "  </thead>\n",
       "  <tbody>\n",
       "    <tr>\n",
       "      <th>count</th>\n",
       "      <td>110</td>\n",
       "      <td>110.000</td>\n",
       "      <td>110</td>\n",
       "      <td>110.000000</td>\n",
       "      <td>110.0</td>\n",
       "    </tr>\n",
       "    <tr>\n",
       "      <th>unique</th>\n",
       "      <td>3</td>\n",
       "      <td>110.000</td>\n",
       "      <td>108</td>\n",
       "      <td>110.000000</td>\n",
       "      <td>98.0</td>\n",
       "    </tr>\n",
       "    <tr>\n",
       "      <th>top</th>\n",
       "      <td>BR</td>\n",
       "      <td>28918.762</td>\n",
       "      <td>6177</td>\n",
       "      <td>1.008993</td>\n",
       "      <td>0.9</td>\n",
       "    </tr>\n",
       "    <tr>\n",
       "      <th>freq</th>\n",
       "      <td>38</td>\n",
       "      <td>1.000</td>\n",
       "      <td>2</td>\n",
       "      <td>1.000000</td>\n",
       "      <td>4.0</td>\n",
       "    </tr>\n",
       "  </tbody>\n",
       "</table>\n",
       "</div>"
      ],
      "text/plain": [
       "       dataset     length  count   mean_diff  median_diff\n",
       "count      110    110.000    110  110.000000        110.0\n",
       "unique       3    110.000    108  110.000000         98.0\n",
       "top         BR  28918.762   6177    1.008993          0.9\n",
       "freq        38      1.000      2    1.000000          4.0"
      ]
     },
     "execution_count": 8,
     "metadata": {},
     "output_type": "execute_result"
    }
   ],
   "source": [
    "df_measurements.describe()"
   ]
  },
  {
   "cell_type": "code",
   "execution_count": 9,
   "id": "9b807a86-80a6-4994-a1d1-71972a11ee3d",
   "metadata": {},
   "outputs": [
    {
     "data": {
      "text/html": [
       "<div>\n",
       "<style scoped>\n",
       "    .dataframe tbody tr th:only-of-type {\n",
       "        vertical-align: middle;\n",
       "    }\n",
       "\n",
       "    .dataframe tbody tr th {\n",
       "        vertical-align: top;\n",
       "    }\n",
       "\n",
       "    .dataframe thead th {\n",
       "        text-align: right;\n",
       "    }\n",
       "</style>\n",
       "<table border=\"1\" class=\"dataframe\">\n",
       "  <thead>\n",
       "    <tr style=\"text-align: right;\">\n",
       "      <th></th>\n",
       "      <th>dataset</th>\n",
       "      <th>count</th>\n",
       "      <th>length</th>\n",
       "      <th>mean_diff</th>\n",
       "      <th>median_diff</th>\n",
       "    </tr>\n",
       "    <tr>\n",
       "      <th>dataset</th>\n",
       "      <th></th>\n",
       "      <th></th>\n",
       "      <th></th>\n",
       "      <th></th>\n",
       "      <th></th>\n",
       "    </tr>\n",
       "  </thead>\n",
       "  <tbody>\n",
       "    <tr>\n",
       "      <th>BR</th>\n",
       "      <td>38</td>\n",
       "      <td>89195</td>\n",
       "      <td>2474.382132</td>\n",
       "      <td>1.065622</td>\n",
       "      <td>0.984776</td>\n",
       "    </tr>\n",
       "    <tr>\n",
       "      <th>HR</th>\n",
       "      <td>34</td>\n",
       "      <td>900934</td>\n",
       "      <td>27844.688509</td>\n",
       "      <td>1.058960</td>\n",
       "      <td>1.053532</td>\n",
       "    </tr>\n",
       "    <tr>\n",
       "      <th>SR</th>\n",
       "      <td>38</td>\n",
       "      <td>201869</td>\n",
       "      <td>2421.616069</td>\n",
       "      <td>0.467060</td>\n",
       "      <td>0.387300</td>\n",
       "    </tr>\n",
       "  </tbody>\n",
       "</table>\n",
       "</div>"
      ],
      "text/plain": [
       "         dataset   count        length  mean_diff  median_diff\n",
       "dataset                                                       \n",
       "BR            38   89195   2474.382132   1.065622     0.984776\n",
       "HR            34  900934  27844.688509   1.058960     1.053532\n",
       "SR            38  201869   2421.616069   0.467060     0.387300"
      ]
     },
     "execution_count": 9,
     "metadata": {},
     "output_type": "execute_result"
    }
   ],
   "source": [
    "# how many datasets, events and total number of seconds does we have\n",
    "df_measurements.groupby(\"dataset\").agg({\"dataset\": \"count\", \"count\": \"sum\", \"length\": \"mean\", \n",
    "                                        \"mean_diff\": \"mean\", \"median_diff\": \"mean\"})"
   ]
  },
  {
   "cell_type": "code",
   "execution_count": 10,
   "id": "26ea1175-7788-4a7d-af64-f3f16c99dc7a",
   "metadata": {},
   "outputs": [],
   "source": [
    "# melt the dataset for the plot\n",
    "df_measurements_melted = pd.melt(\n",
    "    df_measurements, id_vars=\"dataset\", var_name=\"measurement\", \n",
    "    value_vars=[\"count\", \"length\", \"mean_diff\", \"median_diff\"], value_name=\"value\")"
   ]
  },
  {
   "cell_type": "code",
   "execution_count": 11,
   "id": "0bcee653-068f-4ca0-9f29-ba6cc149440a",
   "metadata": {},
   "outputs": [
    {
     "data": {
      "image/png": "[encoded data removed]",
      "text/plain": [
       "<Figure size 432x288 with 1 Axes>"
      ]
     },
     "metadata": {
      "needs_background": "light"
     },
     "output_type": "display_data"
    }
   ],
   "source": [
    "df_tmp = df_measurements_melted[df_measurements_melted[\"measurement\"].isin([\"mean_diff\", \"median_diff\"])]\n",
    "sns.boxplot(data=df_tmp, \n",
    "            y=\"value\", x=\"measurement\", hue=\"dataset\")\n",
    "plt.show()"
   ]
  },
  {
   "cell_type": "code",
   "execution_count": null,
   "id": "9d33e30b-8bbd-4ed4-b0fb-c0f8a8fde75e",
   "metadata": {},
   "outputs": [],
   "source": []
  },
  {
   "cell_type": "markdown",
   "id": "ca3afaae-c711-4fd9-b0fd-ba08a3909846",
   "metadata": {},
   "source": [
    "## Function to semi-simulate the data"
   ]
  },
  {
   "cell_type": "code",
   "execution_count": 12,
   "id": "12d5a6a1-9ce5-4424-95ef-361c4dcb5eb5",
   "metadata": {
    "tags": []
   },
   "outputs": [
    {
     "data": {
      "text/plain": [
       "array([1985.2642013 , 1985.94322342, 1987.22308435, 1988.86971251,\n",
       "       1990.34830416])"
      ]
     },
     "execution_count": 12,
     "metadata": {},
     "output_type": "execute_result"
    }
   ],
   "source": [
    "def modify_timeseries(arr: np.ndarray, offset: float=0, subselect_length=None, sigma: float=0.0, fraction: float=1.0, time_warp_scale=0.0):\n",
    "    \"\"\"Modify a event-based timeseries in order generate semi-simulated data.\n",
    "    \n",
    "    Parameters\n",
    "    ----------\n",
    "    arr: np.ndarray\n",
    "        Array to modify\n",
    "    offset: float\n",
    "        Offset to shift the time-series\n",
    "    sigma: float\n",
    "        Amount of noise, relative to the median difference of subsequent events\n",
    "    fraction: float\n",
    "        Fraction of events used\n",
    "        \n",
    "    Returns\n",
    "    -------\n",
    "    arr_modified : np.ndarray\n",
    "        Modified array\n",
    "    \"\"\"\n",
    "    arr_mod = arr.copy()\n",
    "    \n",
    "    # shift the array\n",
    "    arr_mod += offset\n",
    "    \n",
    "    # select part\n",
    "    if subselect_length:\n",
    "        start_idx = np.random.randint(0, max(1, len(arr_mod)-subselect_length))\n",
    "        arr_mod = arr_mod[start_idx:start_idx+subselect_length]\n",
    "            \n",
    "    # add gaussian noise to the events\n",
    "    arr_mod = arr_mod + np.random.normal(loc=0, scale=sigma*np.median(np.diff(arr)), size=len(arr_mod))\n",
    "    \n",
    "    # sort the array to maintain continuity\n",
    "    arr_mod.sort()\n",
    "    \n",
    "    # select the fraction of events\n",
    "    if fraction < 1.0:\n",
    "        arr_mod = arr_mod[np.random.random(len(arr_mod))<fraction]\n",
    "        \n",
    "    # linear time-warping\n",
    "    if time_warp_scale > 0.0:\n",
    "        pivot = arr_mod[len(arr_mod)//2]\n",
    "        # warp_scale = np.random.normal(loc=1, scale=time_warp_scale)\n",
    "        if np.random.rand() > 0.5:\n",
    "            warp_scale = 1 + time_warp_scale\n",
    "        else:\n",
    "            warp_scale = 1 - time_warp_scale\n",
    "        arr_mod = (arr_mod-pivot) * warp_scale + pivot\n",
    "\n",
    "    return arr_mod\n",
    "\n",
    "modify_timeseries(arr=heart_beat_dataset[0][0], offset=np.pi, subselect_length=10, sigma=0.1, fraction=0.5, \n",
    "                  time_warp_scale=0.005)"
   ]
  },
  {
   "cell_type": "code",
   "execution_count": 13,
   "id": "bb4b2ffd-e5c1-4e81-9c76-b0dd84ad314d",
   "metadata": {},
   "outputs": [],
   "source": [
    "# create dummy time-series\n",
    "arr_ref = np.cumsum(np.random.normal(loc=1, scale=0.25, size=600))\n",
    "arr_sig = modify_timeseries(arr=arr_ref, offset=np.pi, sigma=0.1, fraction=0.99)"
   ]
  },
  {
   "cell_type": "code",
   "execution_count": null,
   "id": "b636e360-67ee-469f-9a03-3ccddda1dc37",
   "metadata": {},
   "outputs": [],
   "source": []
  },
  {
   "cell_type": "markdown",
   "id": "a6691070-2b63-4c18-83a4-f1e5d9272513",
   "metadata": {
    "tags": []
   },
   "source": [
    "## Define Methods"
   ]
  },
  {
   "cell_type": "code",
   "execution_count": 14,
   "id": "8bc46851-4de1-4ced-92fa-bb3e61c5f5b4",
   "metadata": {},
   "outputs": [],
   "source": [
    "# Colorscheme for all methods, TODO add new methods here\n",
    "custom_blues = sns.color_palette(\"Blues\", 5)\n",
    "custom_reds = sns.color_palette(\"OrRd\", 4)\n",
    "custom_greens = sns.color_palette(\"Greens\", 4)\n",
    "custom_purp = sns.color_palette(\"BuPu\", 4)\n",
    "\n",
    "# colorscheme = {\n",
    "#  'NAd-dense': {'c': custom_blues[-1], 'p': 'o', 'l': '-'},\n",
    "#  'NAd-sparse10': {'c': custom_blues[-2], 'p': 'o', 'l': '-'},\n",
    "#  'NAd-sparse100': {'c': custom_blues[-3], 'p': 'o', 'l': '-'},\n",
    "#  'NAd-opt_sparse': {'c': custom_blues[-4], 'p': 'o', 'l': '-'},\n",
    "#  'PCC-FFT': {'c': custom_reds[-1], 'p': 'x', 'l': '--'},\n",
    "#  'PCC-DFT': {'c': custom_reds[-2], 'p': 'x', 'l': '--'},\n",
    "#  'PCC-FFT-smooth': {'c': custom_reds[-3], 'p': 'x', 'l': '--'},\n",
    "#  'KCC': {'c': custom_greens[-1], 'p': '^', 'l': '.-'},\n",
    "#  'DTW': {'c': custom_purp[-1], 'p': 's', 'l': '..'}\n",
    "# }\n",
    "colorscheme = {\n",
    " 'NAd-dense': {'c': 'C0', 'p': 'o', 'l': (1,0)},\n",
    " 'NAd-sparse10': {'c': 'C1', 'p': 'o', 'l': (1,0)},\n",
    " 'NAd-sparse100': {'c': 'C2', 'p': 'o', 'l': (1,0)},\n",
    " 'NAd-opt_sparse': {'c': 'C3', 'p': 'o', 'l': (1,0)},\n",
    " 'PCC-FFT': {'c': 'C4', 'p': 'd', 'l': (2,2)},\n",
    " 'PCC-DFT': {'c': 'C5', 'p': 'd', 'l': (2,2)},\n",
    " 'PCC-FFT-smooth': {'c': 'C6', 'p': 'd', 'l': (2,2)},\n",
    " 'KCC-1': {'c': 'C7', 'p': '^', 'l': (4,1,1,1)},\n",
    " 'KCC-4': {'c': 'C8', 'p': '^', 'l': (4,1,1,1)},\n",
    " 'KCC-0.2': {'c': 'C9', 'p': '^', 'l': (4,1,1,1)},\n",
    " 'DTW': {'c': 'C10', 'p': 's', 'l': (1,1,1,1)}  # dotted\n",
    "}"
   ]
  },
  {
   "cell_type": "code",
   "execution_count": 15,
   "id": "7c54e566-f814-481a-b80b-1e72d35ddad3",
   "metadata": {
    "tags": []
   },
   "outputs": [
    {
     "name": "stdout",
     "output_type": "stream",
     "text": [
      "Found optimum for a time shift of 3.140s in 0.408s\n"
     ]
    },
    {
     "data": {
      "image/png": "[encoded data removed]",
      "text/plain": [
       "<Figure size 432x288 with 1 Axes>"
      ]
     },
     "metadata": {
      "needs_background": "light"
     },
     "output_type": "display_data"
    }
   ],
   "source": [
    "import numpy as np\n",
    "from numba import njit\n",
    "\n",
    "\n",
    "@njit(parallel=False)\n",
    "def nearest_advocate_single(arr_ref: np.ndarray, arr_sig: np.ndarray, \n",
    "                            dist_max: float, dist_padding: float, regulate_paddings: bool=True):\n",
    "    '''Calculates the synchronicity of two arrays of timestamps in terms of the mean of all minimal distances between each event in arr_sig and it's nearest advocate in arr_ref.\n",
    "    arr_ref (np.array): Reference array or timestamps assumed to be correct\n",
    "    arr_sig (np.array): Signal array of  timestamps, assumed to be shifted by an unknown constant time-delta\n",
    "    dist_max (float): Maximal accepted distances, should be 1/4 of the median gap of arr_ref\n",
    "    regulate_paddings (bool): Regulate non-overlapping events in arr_sig with a maximum distance of err_max, default True\n",
    "    dist_padding (float): Distance assigned to non-overlapping (padding) events, should be 1/4 of the median gap of arr_ref. Only given if regulate_paddings is True\n",
    "    '''\n",
    "    # Assert input properties\n",
    "    assert arr_ref.shape[0] > 0    # reference array must be non-empty\n",
    "    assert arr_sig.shape[0] > 0    # signal array must be non-empty\n",
    "    assert dist_max > 0.0          # maximal distance must be greater than 0.0\n",
    "    if regulate_paddings:\n",
    "        assert dist_padding > 0.0  # maximal distance for paddings must be greater than 0.0\n",
    "\n",
    "    # store the lengths of the arrays\n",
    "    l_arr_ref = len(arr_ref)\n",
    "    l_arr_sig = len(arr_sig)\n",
    "            \n",
    "    ref_idx = 0              # index for arr_ref\n",
    "    sig_idx = 0              # index for arr_sig\n",
    "    counter = 0              # number of advocate events\n",
    "    cum_distance = 0.0       # cumulative distances between advocate events\n",
    "    \n",
    "    # Step 1: cut leading reference timestamps without finding advocates\n",
    "    while ref_idx+1 < l_arr_ref and arr_ref[ref_idx+1] <= arr_sig[sig_idx]:\n",
    "        ref_idx += 1\n",
    "        \n",
    "    # return dist_max, if arr_ref ends before arr_sig starts\n",
    "    if ref_idx+1 == l_arr_ref:\n",
    "        return dist_max\n",
    "    \n",
    "    # Case: arr_ref[ref_idx] < arr_sig[sig_idx] < arr_ref[ref_idx+1]\n",
    "    assert arr_ref[ref_idx+1] > arr_sig[sig_idx]\n",
    "    \n",
    "    # Step 2: count leading signal timestamps with finding advocates\n",
    "    while sig_idx < l_arr_sig and arr_sig[sig_idx] < arr_ref[ref_idx]:\n",
    "        # Invariant: arr_ref[ref_idx] < arr_sig[sig_idx] < arr_ref[ref_idx+1]\n",
    "        if regulate_paddings:\n",
    "            cum_distance += min(arr_ref[ref_idx]-arr_sig[sig_idx], dist_padding)\n",
    "            counter += 1\n",
    "        sig_idx += 1\n",
    "        \n",
    "    # return dist_max, if arr_sig ends before arr_ref starts\n",
    "    if sig_idx == l_arr_sig:\n",
    "        return dist_max     \n",
    "    \n",
    "    # Step 3 (regular case) and step 4 (match trailing signal timestamps)\n",
    "    while sig_idx < l_arr_sig:\n",
    "        # Step 3: regular case\n",
    "        if arr_sig[sig_idx] < arr_ref[-1]:\n",
    "            # forward arr_ref and then arr_sig until regalar case\n",
    "            while ref_idx+1 < l_arr_ref and arr_ref[ref_idx+1] <= arr_sig[sig_idx]:\n",
    "                ref_idx += 1\n",
    "            if ref_idx+1 >= l_arr_ref: \n",
    "                sig_idx += 1\n",
    "                continue\n",
    "            # Invariant: arr_ref[ref_idx] < arr_sig[sig_idx] < arr_ref[ref_idx+1]\n",
    "            # assert arr_ref[ref_idx] <= arr_sig[sig_idx]\n",
    "            # assert arr_sig[sig_idx] < arr_ref[ref_idx+1]\n",
    "            \n",
    "            cum_distance += min(arr_sig[sig_idx]-arr_ref[ref_idx], arr_ref[ref_idx+1]-arr_sig[sig_idx], dist_max) \n",
    "            counter += 1\n",
    "        # Step 4: match trailing reference timestamps with last signal timestamp\n",
    "        elif regulate_paddings:  \n",
    "            # Invariant: arr_ref[ref_idx+1] <= arr_sig[sig_idx], given by the else case\n",
    "            if arr_sig[sig_idx]-arr_ref[ref_idx+1] < dist_padding:\n",
    "                cum_distance += arr_sig[sig_idx]-arr_ref[ref_idx+1]\n",
    "                counter += 1\n",
    "            else: \n",
    "                # case with only dist_padding increments from now on\n",
    "                cum_distance += (l_arr_sig - sig_idx) * dist_padding\n",
    "                counter += (l_arr_sig - sig_idx)\n",
    "                break # stop, because the last values can be aggregated\n",
    "                \n",
    "        sig_idx += 1\n",
    "    \n",
    "    # return mean cumulative distance between found advocate events\n",
    "    return cum_distance / counter\n",
    "\n",
    "\n",
    "# @njit(parallel=False)\n",
    "def nearest_advocate(arr_ref: np.ndarray, arr_sig: np.ndarray, \n",
    "                     td_min: float, td_max: float, td_prox=None, sps: float=10, sparse_factor: int=1, \n",
    "                     dist_max: float=0.0, regulate_paddings: bool=True, dist_padding: float=0.0):\n",
    "    '''Calculates the synchronicity of two arrays of timestamps for a search space between td_min and td_max with a precision of 1/sps. The synchronicity is given by the mean of all minimal distances between each event in arr_sig and it's nearest advocate in arr_ref.\n",
    "    arr_ref (np.array): Reference array or timestamps assumed to be correct\n",
    "    arr_sig (np.array): Signal array of  timestamps, assumed to be shifted by an unknown constant time-delta\n",
    "    td_min (float): lower bound of the search space for the time-shift\n",
    "    td_max (float): upper bound of the search space for the time-shift\n",
    "    sps (int): number of investigated time-shifts per second, should be higher than 10 times the number of median gap of arr_ref (default 10).\n",
    "    sparse_factor (int): factor for the sparseness of arr_sig for the calculation, higher is faster but may be less accurate (default 1)\n",
    "    dist_max (None, float): Maximal accepted distances, default None: 1/4 of the median gap of arr_ref\n",
    "    dist_padding (None, float): Assumed distances of non-overlapping (padding) matches, default None: 1/4 of the median gap of arr_ref\n",
    "    regulate_paddings (bool): regulate non-overlapping events in arr_sig with a maximum distance of err_max\n",
    "    '''\n",
    "    # set the default values for dist_max, dist_padding relative if not set\n",
    "    # TODO improve default value: min(np.median(np.diff(arr_sig)), np.median(np.diff(arr_ref))) / 4\n",
    "    if dist_max <= 0.0:\n",
    "        dist_max = np.median(np.diff(arr_ref))/4\n",
    "    if dist_padding <= 0.0:\n",
    "        dist_padding = np.median(np.diff(arr_ref))/4\n",
    "    if td_prox is None:\n",
    "        td_prox = 1.5 * np.median(np.diff(arr_ref))\n",
    "        \n",
    "    # Random subsample and create a copy of arr_sig once, as it could lead to problems otherwise\n",
    "    if sparse_factor > 1:\n",
    "        probe = arr_sig[sparse_factor//2::sparse_factor].copy()\n",
    "    else:\n",
    "        probe = arr_sig.copy()\n",
    "    \n",
    "    # Create an k x 2 matrix to store the investigated time-shifts and their respective mean distance\n",
    "    broad_search_n_samples = int((td_max-td_min)*sps)\n",
    "    fine_search_n_samples = int(2*10*td_prox*sps)   # fine search with factor 1/10 sampling\n",
    "    time_delays = np.empty((broad_search_n_samples+fine_search_n_samples, 2), dtype=np.float32)\n",
    "    time_delays[:broad_search_n_samples, 0] = np.arange(td_min, td_max-1e-12, 1/sps)[:broad_search_n_samples]\n",
    "    # Calculate the mean distance for all time-shifts in the search space. \n",
    "    # The shift with the lowest mean distance is the best fit for the time-shift\n",
    "    idx = 0\n",
    "    while idx < broad_search_n_samples:\n",
    "        # calculate the nearest advocate criteria\n",
    "        time_delays[idx,1] = nearest_advocate_single(\n",
    "             arr_ref, \n",
    "             probe-time_delays[idx,0],  # the signal array is shifted by a time-delta\n",
    "             dist_max=dist_max, regulate_paddings=regulate_paddings, dist_padding=dist_padding)\n",
    "        idx += 1\n",
    "    \n",
    "    # finesearch around the peak\n",
    "    time_shift, min_mean_dist = time_delays[np.argmin(time_delays[:broad_search_n_samples,1])]\n",
    "    time_delays[broad_search_n_samples:, 0] = np.arange(time_shift-td_prox, time_shift+td_prox-1e-12, \n",
    "                                                        1/sps/10)[:fine_search_n_samples]\n",
    "    # Calculate the mean distance for all time-shifts in the search space. \n",
    "    while idx < time_delays.shape[0]:\n",
    "        # calculate the nearest advocate criteria\n",
    "        time_delays[idx,1] = nearest_advocate_single(\n",
    "             arr_ref, \n",
    "             probe-time_delays[idx,0],  # the signal array is shifted by a time-delta\n",
    "             dist_max=dist_max, regulate_paddings=regulate_paddings, dist_padding=dist_padding)\n",
    "        idx += 1     \n",
    "    return time_delays\n",
    "\n",
    "# run once before the test to just-in-time compile it\n",
    "start_time = time.time()\n",
    "arr_ref = np.cumsum(np.random.normal(loc=1, scale=0.25, size=600))\n",
    "arr_sig = modify_timeseries(arr=arr_ref, offset=np.pi, sigma=0.1, fraction=0.99)\n",
    "time_delays = nearest_advocate(arr_ref=arr_ref, arr_sig=arr_sig, \n",
    "                             td_min=-10, td_max=10, td_prox=1, sps=SAMPLES_PER_S, sparse_factor=1, \n",
    "                             dist_max=DIST_MAX, regulate_paddings=REGULATE_PADDINGS, dist_padding=DIST_MAX)\n",
    "time_shift, min_mean_dist = time_delays[np.argmin(time_delays[:,1])]\n",
    "print(f\"Found optimum for a time shift of {time_shift:.3f}s in {time.time()-start_time:.3f}s\")\n",
    "\n",
    "sns.scatterplot(x=time_delays[:,0], y=time_delays[:,1], marker='.')\n",
    "plt.xlim(time_shift-5.0, time_shift+5.0)\n",
    "plt.show()"
   ]
  },
  {
   "cell_type": "code",
   "execution_count": 16,
   "id": "0cd98106-0645-4eb4-a4f8-bc944179ab1d",
   "metadata": {
    "tags": []
   },
   "outputs": [
    {
     "name": "stdout",
     "output_type": "stream",
     "text": [
      "Found optimum at 31.400s with value 0.9052\n"
     ]
    },
    {
     "data": {
      "image/png": "[encoded data removed]",
      "text/plain": [
       "<Figure size 432x288 with 1 Axes>"
      ]
     },
     "metadata": {
      "needs_background": "light"
     },
     "output_type": "display_data"
    }
   ],
   "source": [
    "def pearson_cc(arr_ref: np.ndarray, arr_sig: np.ndarray, \n",
    "               mode: str=\"same\", method: str=\"auto\",\n",
    "              smooth_outliers=False):\n",
    "    \"\"\"Pearson Cross-correlation between two event-based time-series.\n",
    "    An inter-event interpolation is performed in order to create continuous \n",
    "    signals. The results are normalized between -1 and 1\n",
    "    mode, method: see the documentation of scipy.signal.correlate\n",
    "    \"\"\"\n",
    "    # Interpolate\n",
    "    stepwidth = 1/SAMPLES_PER_S\n",
    "    time_vector = np.arange(int(max(arr_ref[0], arr_sig[0])), \n",
    "                            int(min(arr_ref[-1], arr_sig[-1])), \n",
    "                            step=stepwidth)\n",
    "    arr_ref_cont = np.interp(time_vector, arr_ref[:-1], np.diff(arr_ref))\n",
    "    arr_sig_cont = np.interp(time_vector, arr_sig[:-1], np.diff(arr_sig))\n",
    "    \n",
    "    # Remove outliers\n",
    "    if smooth_outliers:\n",
    "        l_bound = 0.5 * np.mean(np.diff(arr_ref))\n",
    "        u_bound = 2.0 * np.mean(np.diff(arr_ref))\n",
    "        arr_ref_cont[arr_ref_cont < l_bound] = l_bound; arr_ref_cont[arr_ref_cont > u_bound] = u_bound; \n",
    "        arr_sig_cont[arr_sig_cont < l_bound] = l_bound; arr_sig_cont[arr_sig_cont > u_bound] = u_bound; \n",
    "\n",
    "    # calculte the correlation\n",
    "    corrs = correlate(arr_sig_cont, arr_ref_cont, mode=mode, method=method)\n",
    "    time_lags = stepwidth * correlation_lags(\n",
    "        arr_ref_cont.size, arr_sig_cont.size, mode=mode)\n",
    "    \n",
    "    \n",
    "    # return where there is an overlap above 50%    \n",
    "    if mode == \"full\":\n",
    "        # normalize the correlations\n",
    "        regularization = 100\n",
    "        overlap_widths = (regularization + len(time_lags)/2 - np.abs(time_lags)/stepwidth)\n",
    "        corrs = corrs / overlap_widths \n",
    "        # norm into the range -1, 1\n",
    "        corrs = corrs / np.sqrt(np.mean(arr_ref_cont**2) * np.mean(arr_sig_cont**2))\n",
    "        time_delays = np.array([time_lags, corrs]).T\n",
    "        return time_delays[overlap_widths>len(arr_ref_cont)/2]\n",
    "    if mode == \"same\":    \n",
    "        # normalize the correlations\n",
    "        overlap_widths = (len(time_lags) - np.abs(time_lags)/stepwidth)\n",
    "        corrs = corrs / overlap_widths \n",
    "        # norm into the range -1, 1\n",
    "        corrs = corrs / np.sqrt(np.mean(arr_ref_cont**2) * np.mean(arr_sig_cont**2))\n",
    "        time_delays = np.array([time_lags, corrs]).T\n",
    "        return time_delays\n",
    "    \n",
    "arr_ref = np.cumsum(np.random.normal(loc=1, scale=0.25, size=600))\n",
    "arr_sig = modify_timeseries(arr=arr_ref, offset=10*np.pi, sigma=0.1, fraction=0.99)[:100]\n",
    "time_delays = pearson_cc(arr_ref, arr_sig, mode=\"full\", method=\"fft\")\n",
    "time_shift, metric = time_delays[np.argmax(time_delays[:,1])]\n",
    "print(f\"Found optimum at {time_shift:.3f}s with value {metric:.4f}\")\n",
    "\n",
    "sns.scatterplot(x=time_delays[:,0], y=time_delays[:,1], marker='.')\n",
    "plt.show()"
   ]
  },
  {
   "cell_type": "code",
   "execution_count": 17,
   "id": "096d749a-650c-4980-9442-78074c24b469",
   "metadata": {
    "tags": []
   },
   "outputs": [
    {
     "name": "stdout",
     "output_type": "stream",
     "text": [
      "Found optimum at 31.500s with value 0.5173\n"
     ]
    },
    {
     "data": {
      "image/png": "[encoded data removed]",
      "text/plain": [
       "<Figure size 432x288 with 1 Axes>"
      ]
     },
     "metadata": {
      "needs_background": "light"
     },
     "output_type": "display_data"
    }
   ],
   "source": [
    "def pearson_cc(arr_ref: np.ndarray, arr_sig: np.ndarray, \n",
    "               mode: str=\"same\", method: str=\"auto\",\n",
    "              smooth_outliers=False, significant_area=10):\n",
    "    \"\"\"Pearson Cross-correlation between two event-based time-series.\n",
    "    An inter-event interpolation is performed in order to create continuous \n",
    "    signals. The results are normalized between -1 and 1\n",
    "    mode, method: see the documentation of scipy.signal.correlate\n",
    "    \"\"\"\n",
    "    # Interpolate on a constant sample rate\n",
    "    stepwidth = 1/SAMPLES_PER_S\n",
    "    time_vector = np.arange(int(max(arr_ref[0], arr_sig[0])), \n",
    "                            int(min(arr_ref[-1], arr_sig[-1])), \n",
    "                            step=stepwidth)\n",
    "    arr_ref_cont = np.interp(time_vector, arr_ref[:-1], np.diff(arr_ref))\n",
    "    arr_sig_cont = np.interp(time_vector, arr_sig[:-1], np.diff(arr_sig))\n",
    "    # arr_ref_ones = np.ones(len(arr_ref_cont))\n",
    "    # arr_sig_ones = np.ones(len(arr_sig_cont))\n",
    "    n = len(arr_ref_cont)\n",
    "\n",
    "    # Remove outliers\n",
    "    if smooth_outliers:\n",
    "        l_bound = 0.5 * np.mean(np.diff(arr_ref))\n",
    "        u_bound = 2.0 * np.mean(np.diff(arr_ref))\n",
    "        arr_ref_cont[arr_ref_cont < l_bound] = l_bound; arr_ref_cont[arr_ref_cont > u_bound] = u_bound; \n",
    "        arr_sig_cont[arr_sig_cont < l_bound] = l_bound; arr_sig_cont[arr_sig_cont > u_bound] = u_bound; \n",
    "\n",
    "    # calculte the correlation\n",
    "    corrs = correlate(arr_sig_cont, arr_ref_cont, mode=mode) / np.sqrt(\n",
    "        (correlate(arr_ref_cont, arr_ref_cont, mode=mode)[int(len(arr_ref_cont)/2)] \n",
    "         * correlate(arr_sig_cont, arr_sig_cont, mode=mode)[int(len(arr_sig_cont)/2)]))\n",
    "    # corrs_ones = correlate(arr_sig_ones, arr_ref_ones, mode=mode, method=method)\n",
    "    # corrs_ones /= corrs_ones.max()\n",
    "    time_lags = stepwidth * correlation_lags(\n",
    "        arr_ref_cont.size, arr_sig_cont.size, mode=mode)\n",
    "\n",
    "    # normalize the correlations\n",
    "    overlap = (stepwidth + time_lags.max() - np.abs(time_lags))/time_lags.max()\n",
    "    corrs = corrs / (overlap + 1e0)\n",
    "    time_delays = np.array([time_lags, corrs]).T\n",
    "\n",
    "    if mode != \"same\":       \n",
    "        raise Exception(\"Not implemented yet\")\n",
    "    if mode == \"full\":      \n",
    "        # overlap above 50%    \n",
    "        time_delays = time_delays[overlap > 0.5]\n",
    "        \n",
    "    # find the peak by searching for the largest differences in the signal\n",
    "    significant_peak = np.argmax(np.diff(time_delays[:,1]))\n",
    "    time_delays_proximity = time_delays[(significant_peak-significant_area*SAMPLES_PER_S//2\n",
    "                                     ):significant_peak+significant_area*SAMPLES_PER_S//2]\n",
    "    if len(time_delays_proximity) > 0:\n",
    "        peak_idx = np.argmax(time_delays_proximity[:,1])\n",
    "        time_shift, metric = time_delays_proximity[peak_idx]\n",
    "    else:\n",
    "        time_shift, metric = time_delays[np.argmax(time_delays[:,1])] \n",
    "    return time_shift, metric, time_delays\n",
    "    \n",
    "arr_ref = np.cumsum(np.random.normal(loc=1, scale=0.25, size=600))\n",
    "arr_sig = modify_timeseries(arr=arr_ref, offset=10*np.pi, sigma=0.1, fraction=1.0)[:100]\n",
    "time_shift, metric, time_delays = pearson_cc(arr_ref, arr_sig, mode=\"same\", method=\"fft\")\n",
    "# time_shift, metric = time_delays[np.argmax(time_delays[:,1])]\n",
    "print(f\"Found optimum at {time_shift:.3f}s with value {metric:.4f}\")\n",
    "\n",
    "sns.scatterplot(x=time_delays[:,0], y=time_delays[:,1], marker='.')\n",
    "sns.scatterplot(x=time_delays[:-1,0], y=100*np.diff(time_delays[:,1]))\n",
    "plt.show()"
   ]
  },
  {
   "cell_type": "code",
   "execution_count": null,
   "id": "325d50c8-9f4c-458c-a1c1-8cabb9eebd6f",
   "metadata": {},
   "outputs": [],
   "source": []
  },
  {
   "cell_type": "code",
   "execution_count": 18,
   "id": "b77fb3c6-8e70-4b10-818a-2534e55df16d",
   "metadata": {
    "tags": []
   },
   "outputs": [
    {
     "name": "stdout",
     "output_type": "stream",
     "text": [
      "Found optimum at 4987.600s with value 0.0575\n"
     ]
    },
    {
     "data": {
      "image/png": "[encoded data removed]",
      "text/plain": [
       "<Figure size 432x288 with 1 Axes>"
      ]
     },
     "metadata": {
      "needs_background": "light"
     },
     "output_type": "display_data"
    }
   ],
   "source": [
    "@numba.njit\n",
    "def discretize_arrays(arr_ref, arr_sig):\n",
    "    start_ts = min(arr_ref[0],arr_sig[0])\n",
    "    stop_ts = max(arr_ref[-1],arr_sig[-1])\n",
    "    arr_ref_onehot = np.zeros(int((stop_ts-start_ts+1)/KERNEL_PRECISION))\n",
    "    arr_sig_onehot = np.zeros(int((stop_ts-start_ts+1)/KERNEL_PRECISION))\n",
    "    idx = 0\n",
    "    arr_ref_idx = 0\n",
    "    arr_sig_idx = 0\n",
    "    cum_time = start_ts - 1\n",
    "    for idx in range(len(arr_ref_onehot)):\n",
    "        if arr_ref_idx< len(arr_ref) and cum_time > arr_ref[arr_ref_idx]:\n",
    "            arr_ref_onehot[idx] = 1\n",
    "            arr_ref_idx += 1\n",
    "        if arr_sig_idx< len(arr_sig) and cum_time > arr_sig[arr_sig_idx]:\n",
    "            arr_sig_onehot[idx] = 1\n",
    "            arr_sig_idx += 1\n",
    "        cum_time += KERNEL_PRECISION\n",
    "    return arr_ref_onehot, arr_sig_onehot\n",
    "\n",
    "@numba.njit\n",
    "def discretize_array(arr_ref):\n",
    "    arr_ref_onehot = np.zeros(int((arr_ref[-1]-arr_ref[0]+1)/KERNEL_PRECISION))\n",
    "    idx = 0\n",
    "    arr_ref_idx = 0\n",
    "    cum_time = 0\n",
    "    for idx in range(len(arr_ref_onehot)):\n",
    "        if arr_ref_idx< len(arr_ref) and cum_time > arr_ref[arr_ref_idx]:\n",
    "            arr_ref_onehot[idx] = 1\n",
    "            arr_ref_idx += 1\n",
    "        cum_time += KERNEL_PRECISION\n",
    "    return arr_ref_onehot\n",
    "\n",
    "def kernel_cc(arr_ref: np.ndarray, arr_sig: np.ndarray,\n",
    "              kernel_width: float=0.5,\n",
    "               mode: str=\"same\", method: str=\"auto\"):\n",
    "    \"\"\"Kernel Cross-correlation between two event-based time-series.\n",
    "    An a kernel convolution is performed in order to create continuous \n",
    "    signals. The results are normalized between -1 and 1\n",
    "    mode, method: see the documentation of scipy.signal.correlate\n",
    "    \"\"\"\n",
    "    # Discretize\n",
    "    arr_ref_onehot, arr_sig_onehot = discretize_arrays(arr_ref, arr_sig)\n",
    "    \n",
    "    # Convolve with a triangular kernel of width \n",
    "    kernel = 1-np.abs(np.arange(-kernel_width, kernel_width, 2*KERNEL_PRECISION))\n",
    "    kernel = kernel / kernel.sum()\n",
    "    arr_ref_cont = np.convolve(arr_ref_onehot, kernel, mode=\"same\")\n",
    "    # arr_ref_cont /= arr_ref_cont.sum()\n",
    "    arr_sig_cont = np.convolve(arr_sig_onehot, kernel, mode=\"same\")\n",
    "    # arr_sig_cont /= arr_sig_cont.sum()\n",
    "    \n",
    "    # calculte the correlation\n",
    "    corrs = correlate(arr_sig_cont, arr_ref_cont, mode=mode, method=\"fft\")\n",
    "    time_lags =  KERNEL_PRECISION * correlation_lags(\n",
    "        arr_sig_cont.size, arr_ref_cont.size, mode=mode)\n",
    "\n",
    "    # return where there is an overlap above 50%    \n",
    "    if mode == \"full\":\n",
    "        # normalize the correlations\n",
    "        overlap_widths = (KERNEL_PRECISION*len(time_lags)/2 - np.abs(time_lags))\n",
    "        # corrs = corrs / (overlap_widths + 10)\n",
    "        corrs /= len(corrs)\n",
    "        time_delays = np.array([time_lags, corrs]).T\n",
    "        return time_delays[overlap_widths>np.max(overlap_widths)/2]\n",
    "    if mode == \"same\":  \n",
    "        # raise Exception(f\"Not implemented mode: '{mode}'\")\n",
    "        # normalize the correlations\n",
    "        overlap_widths = (KERNEL_PRECISION*len(time_lags)/2 - np.abs(time_lags))\n",
    "        corrs /= (overlap_widths+350)# + KERNEL_PRECISION*len(arr_ref_onehot))\n",
    "        # # norm into the range -1, 1\n",
    "        # corrs = corrs / np.sqrt(np.mean(arr_ref_cont**2) * np.mean(arr_sig_cont**2))\n",
    "        time_delays = np.array([time_lags, corrs]).T\n",
    "        return time_delays\n",
    "    \n",
    "arr_ref = np.cumsum(np.random.normal(loc=1, scale=0.25, size=10000))\n",
    "arr_sig = modify_timeseries(arr=arr_ref, offset=10*np.pi, sigma=0.1, fraction=0.2,\n",
    "                           time_warp_scale=0.00, subselect_length=1000)\n",
    "time_delays = kernel_cc(arr_ref, arr_sig, mode=\"same\", method=\"fft\", kernel_width=1.0)\n",
    "time_shift, metric = time_delays[np.argmax(time_delays[:,1])]\n",
    "print(f\"Found optimum at {time_shift:.3f}s with value {metric:.4f}\")\n",
    "\n",
    "sns.scatterplot(x=time_delays[:,0], y=time_delays[:,1], marker='.')\n",
    "plt.show()"
   ]
  },
  {
   "cell_type": "code",
   "execution_count": 19,
   "id": "bb3d7af1-62a6-497d-ab58-b63149edfa7e",
   "metadata": {},
   "outputs": [],
   "source": [
    "kernel_width = 1.0; mode=\"same\"; method = \"fft\""
   ]
  },
  {
   "cell_type": "code",
   "execution_count": 20,
   "id": "1978d11c-967e-460f-a486-8c5dab9bfbfd",
   "metadata": {},
   "outputs": [],
   "source": [
    "# Discretize\n",
    "arr_ref_onehot, arr_sig_onehot = discretize_arrays(arr_ref, arr_sig)\n",
    "# arr_ref_onehot = discretize_array(arr_ref)\n",
    "# arr_sig_onehot = discretize_array(arr_sig)\n",
    "\n",
    "# Convolve with a triangular kernel of width \n",
    "kernel = 1-np.abs(np.arange(-kernel_width, kernel_width, 2*KERNEL_PRECISION))\n",
    "kernel = kernel / kernel.sum()\n",
    "arr_ref_cont = np.convolve(arr_ref_onehot, kernel, mode=\"same\")\n",
    "arr_ref_cont /= arr_ref_cont.sum()\n",
    "arr_sig_cont = np.convolve(arr_sig_onehot, kernel, mode=\"same\")\n",
    "arr_sig_cont /= arr_sig_cont.sum()\n",
    "\n",
    "# calculte the correlation\n",
    "corrs = correlate(arr_sig_cont, arr_ref_cont, mode=mode, method=method)\n",
    "time_lags =  KERNEL_PRECISION * correlation_lags(\n",
    "    arr_sig_cont.size, arr_ref_cont.size, mode=mode)"
   ]
  },
  {
   "cell_type": "code",
   "execution_count": 21,
   "id": "67e8c5a1-77b3-4a89-8a4a-7656c2ee8797",
   "metadata": {},
   "outputs": [
    {
     "data": {
      "text/plain": [
       "(99754,\n",
       " 99754,\n",
       " 99754,\n",
       " array([4987.7, 4987.6, 4987.5, ..., 4987.4, 4987.5, 4987.6]))"
      ]
     },
     "execution_count": 21,
     "metadata": {},
     "output_type": "execute_result"
    }
   ],
   "source": [
    "len(arr_ref_onehot), len(arr_sig_onehot), len(time_lags), np.abs(time_lags)"
   ]
  },
  {
   "cell_type": "code",
   "execution_count": null,
   "id": "2c8ec32a-aee2-46d7-afe7-854501537a35",
   "metadata": {},
   "outputs": [],
   "source": []
  },
  {
   "cell_type": "code",
   "execution_count": 22,
   "id": "6e3d5071-d2e4-4854-8586-7e4149caddd5",
   "metadata": {},
   "outputs": [
    {
     "data": {
      "text/plain": [
       "array([0. , 0.1, 0.2, ..., 0.3, 0.2, 0.1])"
      ]
     },
     "execution_count": 22,
     "metadata": {},
     "output_type": "execute_result"
    }
   ],
   "source": [
    "(KERNEL_PRECISION*len(time_lags)/2 - np.abs(time_lags))"
   ]
  },
  {
   "cell_type": "code",
   "execution_count": 23,
   "id": "ecf2a804-deb6-43a0-9b10-acb531f54204",
   "metadata": {},
   "outputs": [
    {
     "data": {
      "text/plain": [
       "array([0. , 0.1, 0.2, ..., 0.3, 0.2, 0.1])"
      ]
     },
     "execution_count": 23,
     "metadata": {},
     "output_type": "execute_result"
    },
    {
     "data": {
      "image/png": "[encoded data removed]",
      "text/plain": [
       "<Figure size 432x288 with 1 Axes>"
      ]
     },
     "metadata": {
      "needs_background": "light"
     },
     "output_type": "display_data"
    }
   ],
   "source": [
    "plt.plot(corrs)\n",
    "overlap_widths = (KERNEL_PRECISION*len(time_lags)/2 - np.abs(time_lags))\n",
    "plt.plot(overlap_widths)\n",
    "overlap_widths\n",
    "# corrs / (overlap_widths + 30)"
   ]
  },
  {
   "cell_type": "code",
   "execution_count": 24,
   "id": "20c45afd-8c1f-4ffa-ae0c-e9703909cabb",
   "metadata": {},
   "outputs": [
    {
     "data": {
      "text/plain": [
       "[<matplotlib.lines.Line2D at 0x7f5c98c11b10>]"
      ]
     },
     "execution_count": 24,
     "metadata": {},
     "output_type": "execute_result"
    },
    {
     "data": {
      "image/png": "[encoded data removed]",
      "text/plain": [
       "<Figure size 432x288 with 1 Axes>"
      ]
     },
     "metadata": {
      "needs_background": "light"
     },
     "output_type": "display_data"
    }
   ],
   "source": [
    "plt.plot(corrs / (overlap_widths+KERNEL_PRECISION*len(arr_ref_onehot)))"
   ]
  },
  {
   "cell_type": "code",
   "execution_count": 25,
   "id": "fc1090a0-3231-4a5f-b8a1-fd093a81f3a2",
   "metadata": {},
   "outputs": [
    {
     "data": {
      "image/png": "[encoded data removed]",
      "text/plain": [
       "<Figure size 432x288 with 1 Axes>"
      ]
     },
     "metadata": {
      "needs_background": "light"
     },
     "output_type": "display_data"
    },
    {
     "data": {
      "image/png": "[encoded data removed]",
      "text/plain": [
       "<Figure size 432x288 with 1 Axes>"
      ]
     },
     "metadata": {
      "needs_background": "light"
     },
     "output_type": "display_data"
    },
    {
     "data": {
      "image/png": "[encoded data removed]",
      "text/plain": [
       "<Figure size 432x288 with 1 Axes>"
      ]
     },
     "metadata": {
      "needs_background": "light"
     },
     "output_type": "display_data"
    }
   ],
   "source": [
    "# TODO define other functions\n",
    "\n",
    "\n",
    "\n",
    "# dynamic linear timewarping via recursive fastDTW implementation\n",
    "# for more information see also: https://cs.fit.edu/~pkc/papers/tdm04.pdf\n",
    "def dynamic_linear_timewarping(arr_ref: np.ndarray, arr_sig: np.ndarray, radius=euclidean):\n",
    "    \"\"\"Uses fastdtw implementation to calculate optimal alignment \n",
    "    between two time series arrays with equal length or non-equal length. \n",
    "    The warp path distance is a measure of the difference between the two time\n",
    "    series after they have been warped together, which is measured by the sum \n",
    "    of the distances between each pair of points connected by the vertical lines.\n",
    "    Implementation: distance, warped_path = fastDTW(x, y, radius), where:\n",
    "    x = timeseries of length x\n",
    "    y = timeseries of length y\n",
    "    radius = search distance outside of projected warppath from previous resol. of refining warppath \n",
    "    distance = Minimum distance warppath between X and Y  \n",
    "    warped_path = The warped path distance between X and Y \n",
    "    \"\"\"\n",
    "    \n",
    "    # arr_ref_2 = np.array([arr_ref[:-1], np.diff(arr_ref)]).T\n",
    "    # arr_sig_2 = np.array([arr_sig[:-1], np.diff(arr_sig)]).T\n",
    "    \n",
    "    # fastDTW call\n",
    "    distance, warped_path = fastdtw(arr_ref, arr_sig, dist=radius) \n",
    "    \n",
    "    # create dataframe_array and time_shift result\n",
    "    time_shift, element_shift = [], []\n",
    "    for i, (e_ref, e_sig) in enumerate(warped_path): \n",
    "        if e_ref != 0 and e_sig != 0 and e_ref < len(arr_ref)-1 and e_sig < len(arr_sig)-1:\n",
    "            element_shift.append(e_ref - e_sig)\n",
    "            time_shift.append(arr_ref[e_ref] - arr_sig[e_sig])\n",
    "            # print(e_ref, e_sig, arr_ref[e_ref, 0], arr_sig[e_sig, 0])\n",
    "            # break\n",
    "\n",
    "    # calculate median return parameter\n",
    "    median_element_shift = np.median(element_shift)\n",
    "    median_time_shift = np.median(time_shift)\n",
    "    \n",
    "    #return all\n",
    "    return distance, warped_path, element_shift, median_element_shift, time_shift, median_time_shift\n",
    "\n",
    "\n",
    "# testing DTW function\n",
    "arr_ref = np.cumsum(np.random.normal(loc=2, scale=0.25, size=600))\n",
    "arr_sig = modify_timeseries(arr=arr_ref, offset=np.pi, sigma=0.1, fraction=0.99)[:100]\n",
    "distance, warped_path, element_shift, median_element_shift, time_shift, median_time_shift = dynamic_linear_timewarping(arr_ref, arr_sig)\n",
    "\n",
    "plt.scatter(*zip(*warped_path))\n",
    "plt.plot(warped_path[0], warped_path[1], 'w')\n",
    "plt.xlabel('TimeSeries Ref')\n",
    "plt.ylabel('TimeSeries Sig')\n",
    "plt.title(f'DTW Minimum Path with minimum distance: {np.round(distance,2)}')\n",
    "plt.show()\n",
    "\n",
    "plt.plot(element_shift)\n",
    "plt.title(f'Median element shift: {np.round(median_element_shift,2)}')\n",
    "plt.show()\n",
    "\n",
    "plt.plot(time_shift)\n",
    "plt.title(f'Median time shift: {np.round(median_time_shift,2)}')\n",
    "plt.show()"
   ]
  },
  {
   "cell_type": "markdown",
   "id": "f620e3cc-502e-4536-83c4-faf93bacbecb",
   "metadata": {},
   "source": [
    "## Experiment 1: Precision by Length\n",
    "\n",
    "The time-series is purely simulated, as the longest real arrays are about 30,000 events long"
   ]
  },
  {
   "cell_type": "code",
   "execution_count": 26,
   "id": "2217ff4c-1201-4309-8085-4a613abcfca8",
   "metadata": {},
   "outputs": [],
   "source": [
    "LENGTHS = [int(l) for l in [1e1, 2e1, 5e1, 1e2, 2e2, 5e2, 1e3, 2e3, 5e3, 1e4, 2e4, 5e4, 1e5]]  # , 2e5, 5e5, 1e6]]\n",
    "N_ITERATIONS = 25         # number of iterations per length, used for the interquartils\n",
    "METHODS = ['NAd-dense', 'NAd-sparse10', 'NAd-sparse100', 'PCC-FFT', 'KCC-1', 'DTW']  # TODO: add method specifics\n",
    "# don't use PCC-DFT here as it uses multiple cores by default\n",
    "\n",
    "REF_SIGMA = 0.5\n",
    "SIGMA = 0.25\n",
    "\n",
    "MAX_TIMEOUT = 3  # maximal wait time to ignore the method afterwards\n",
    "ignore_method_timeout = {k: False for k in [\"PCC-FFT\", 'NAd-dense']}"
   ]
  },
  {
   "cell_type": "code",
   "execution_count": 27,
   "id": "993b634f-4b90-45e3-a354-cb971057a4d1",
   "metadata": {
    "tags": []
   },
   "outputs": [],
   "source": [
    "# evaluate a given length\n",
    "def evaluate_length(iteration):\n",
    "    # define the local DataFrame for one single pair\n",
    "    df_runtimes = pd.DataFrame({m: np.nan*np.zeros(len(LENGTHS)) for m in METHODS})\n",
    "    df_runtimes[\"length\"] = LENGTHS\n",
    "    df_precision = pd.DataFrame({m: np.nan*np.zeros(len(LENGTHS)) for m in METHODS})\n",
    "    df_precision[\"length\"] = LENGTHS\n",
    "\n",
    "    for idx, length in enumerate(LENGTHS):\n",
    "        np.random.seed(N_ITERATIONS*iteration+idx)\n",
    "        l_bound, u_bound = max(TD_MIN, -length/2), min(TD_MAX, length/2)\n",
    "        offset = np.random.random() * (u_bound-l_bound) + l_bound\n",
    "        # Create two related event-based array, they differ by a time-shift and gaussian noise\n",
    "        arr_ref = np.sort(np.cumsum(np.random.normal(loc=1, scale=REF_SIGMA, size=int(length)))).astype(np.float32)\n",
    "        arr_sig = np.sort(arr_ref + offset + np.random.normal(loc=0, scale=SIGMA, size=int(length))).astype(np.float32)\n",
    "\n",
    "        # NAd-dense\n",
    "        if not ignore_method_timeout[\"NAd-dense\"]:\n",
    "            start_time = time.time()\n",
    "            time_delays = nearest_advocate(\n",
    "                arr_ref=arr_ref, arr_sig=arr_sig, \n",
    "                td_min=TD_MIN, td_max=TD_MAX, sps=SAMPLES_PER_S, sparse_factor=1, \n",
    "                dist_max=DIST_MAX, regulate_paddings=REGULATE_PADDINGS, dist_padding=DIST_MAX)\n",
    "            time_shift, min_mean_dist = time_delays[np.argmin(time_delays[:,1])]\n",
    "            df_runtimes.loc[idx, \"NAd-dense\"] = time.time() - start_time\n",
    "            df_precision.loc[idx, \"NAd-dense\"] = np.abs(time_shift-offset)\n",
    "            if time.time() - start_time > MAX_TIMEOUT:\n",
    "                ignore_method_timeout[\"NAd-dense\"] = True\n",
    "\n",
    "        # NAd-sparse10\n",
    "        start_time = time.time()\n",
    "        time_delays = nearest_advocate(\n",
    "            arr_ref=arr_ref, arr_sig=arr_sig, \n",
    "            td_min=TD_MIN, td_max=TD_MAX, sps=SAMPLES_PER_S, sparse_factor=10, \n",
    "            dist_max=DIST_MAX, regulate_paddings=REGULATE_PADDINGS, dist_padding=DIST_MAX)\n",
    "        time_shift, min_mean_dist = time_delays[np.argmin(time_delays[:,1])]\n",
    "        df_runtimes.loc[idx, \"NAd-sparse10\"] = time.time() - start_time\n",
    "        df_precision.loc[idx, \"NAd-sparse10\"] = np.abs(time_shift-offset)\n",
    "\n",
    "        # NAd-sparse100\n",
    "        start_time = time.time()\n",
    "        try:\n",
    "            time_delays = nearest_advocate(\n",
    "                arr_ref=arr_ref, arr_sig=arr_sig, \n",
    "                td_min=TD_MIN, td_max=TD_MAX, sps=SAMPLES_PER_S, sparse_factor=100, \n",
    "                dist_max=DIST_MAX, regulate_paddings=REGULATE_PADDINGS, dist_padding=DIST_MAX)\n",
    "            time_shift, min_mean_dist = time_delays[np.argmin(time_delays[:,1])]\n",
    "            df_runtimes.loc[idx, \"NAd-sparse100\"] = time.time() - start_time\n",
    "            df_precision.loc[idx, \"NAd-sparse100\"] = np.abs(time_shift-offset)\n",
    "        except AssertionError:\n",
    "            pass\n",
    "            # print(f\"WARNING: AssertionError, skipping.\")\n",
    "        \n",
    "        # PCC-FFT\n",
    "        start_time = time.time()\n",
    "        time_shift, metric, time_delays = pearson_cc(arr_ref, arr_sig, mode=PCC_MODE, method=\"fft\")\n",
    "        df_runtimes.loc[idx, \"PCC-FFT\"] = time.time() - start_time\n",
    "        df_precision.loc[idx, \"PCC-FFT\"] = np.abs(time_shift-offset)\n",
    "        \n",
    "        # KCC\n",
    "        start_time = time.time()\n",
    "        try:\n",
    "            time_delays = kernel_cc(arr_ref, arr_sig, method=\"fft\", kernel_width=1.0)\n",
    "            time_shift, metric = time_delays[np.argmax(time_delays[:,1])]\n",
    "            df_runtimes.loc[idx, \"KCC-1\"] = time.time() - start_time\n",
    "            df_precision.loc[idx, \"KCC-1\"] = np.abs(time_shift-offset)\n",
    "            # print(f\"\\n{time_shift:.3f},\\t {offset:.3f}\", end=\"\")\n",
    "        except:\n",
    "            pass\n",
    "        \n",
    "        # DTW (with multiple settings?) TODO\n",
    "    \n",
    "    return df_runtimes, df_precision\n",
    "    \n",
    "# Initialize the pool with the number of processes\n",
    "with Pool(processes=30) as pool: \n",
    "    results = pool.map(evaluate_length, range(N_ITERATIONS))\n",
    "#df_runtimes = pd.concat([res[0] for res in results]).sort_values(\"length\")\n",
    "df_precision = pd.concat([res[1] for res in results]).sort_values(\"length\")"
   ]
  },
  {
   "cell_type": "code",
   "execution_count": 28,
   "id": "3b08be4c-47be-4e19-9a7d-954043bccb5d",
   "metadata": {},
   "outputs": [
    {
     "data": {
      "text/html": [
       "<div>\n",
       "<style scoped>\n",
       "    .dataframe tbody tr th:only-of-type {\n",
       "        vertical-align: middle;\n",
       "    }\n",
       "\n",
       "    .dataframe tbody tr th {\n",
       "        vertical-align: top;\n",
       "    }\n",
       "\n",
       "    .dataframe thead th {\n",
       "        text-align: right;\n",
       "    }\n",
       "</style>\n",
       "<table border=\"1\" class=\"dataframe\">\n",
       "  <thead>\n",
       "    <tr style=\"text-align: right;\">\n",
       "      <th></th>\n",
       "      <th>NAd-dense</th>\n",
       "      <th>NAd-sparse10</th>\n",
       "      <th>NAd-sparse100</th>\n",
       "      <th>PCC-FFT</th>\n",
       "      <th>KCC-1</th>\n",
       "      <th>DTW</th>\n",
       "      <th>length</th>\n",
       "    </tr>\n",
       "  </thead>\n",
       "  <tbody>\n",
       "    <tr>\n",
       "      <th>4</th>\n",
       "      <td>0.014074</td>\n",
       "      <td>9.794074</td>\n",
       "      <td>42.204075</td>\n",
       "      <td>0.006325</td>\n",
       "      <td>0.006325</td>\n",
       "      <td>NaN</td>\n",
       "      <td>200</td>\n",
       "    </tr>\n",
       "    <tr>\n",
       "      <th>4</th>\n",
       "      <td>0.133563</td>\n",
       "      <td>0.123565</td>\n",
       "      <td>50.673562</td>\n",
       "      <td>0.125175</td>\n",
       "      <td>0.074825</td>\n",
       "      <td>NaN</td>\n",
       "      <td>200</td>\n",
       "    </tr>\n",
       "    <tr>\n",
       "      <th>1</th>\n",
       "      <td>0.301715</td>\n",
       "      <td>2.328285</td>\n",
       "      <td>NaN</td>\n",
       "      <td>11.274685</td>\n",
       "      <td>0.225315</td>\n",
       "      <td>NaN</td>\n",
       "      <td>20</td>\n",
       "    </tr>\n",
       "    <tr>\n",
       "      <th>2</th>\n",
       "      <td>0.121321</td>\n",
       "      <td>0.331322</td>\n",
       "      <td>NaN</td>\n",
       "      <td>22.726427</td>\n",
       "      <td>0.026427</td>\n",
       "      <td>NaN</td>\n",
       "      <td>50</td>\n",
       "    </tr>\n",
       "    <tr>\n",
       "      <th>2</th>\n",
       "      <td>0.013176</td>\n",
       "      <td>3.106823</td>\n",
       "      <td>NaN</td>\n",
       "      <td>8.903043</td>\n",
       "      <td>0.103043</td>\n",
       "      <td>NaN</td>\n",
       "      <td>50</td>\n",
       "    </tr>\n",
       "  </tbody>\n",
       "</table>\n",
       "</div>"
      ],
      "text/plain": [
       "   NAd-dense  NAd-sparse10  NAd-sparse100    PCC-FFT     KCC-1  DTW  length\n",
       "4   0.014074      9.794074      42.204075   0.006325  0.006325  NaN     200\n",
       "4   0.133563      0.123565      50.673562   0.125175  0.074825  NaN     200\n",
       "1   0.301715      2.328285            NaN  11.274685  0.225315  NaN      20\n",
       "2   0.121321      0.331322            NaN  22.726427  0.026427  NaN      50\n",
       "2   0.013176      3.106823            NaN   8.903043  0.103043  NaN      50"
      ]
     },
     "execution_count": 28,
     "metadata": {},
     "output_type": "execute_result"
    }
   ],
   "source": [
    "df_precision.sample(5)"
   ]
  },
  {
   "cell_type": "code",
   "execution_count": 29,
   "id": "46521bca-045c-4f6e-9c27-9c782dedbd0f",
   "metadata": {},
   "outputs": [
    {
     "data": {
      "image/png": "[encoded data removed]",
      "text/plain": [
       "<Figure size 576x360 with 1 Axes>"
      ]
     },
     "metadata": {
      "needs_background": "light"
     },
     "output_type": "display_data"
    }
   ],
   "source": [
    "fig, axes = plt.subplots(1,1, figsize=(8, 5))\n",
    "\n",
    "# melt the DataFrame\n",
    "df_precision_melted = pd.melt(df_precision, id_vars=\"length\", var_name=\"Method\", \n",
    "                              value_vars=METHODS, value_name=\"precision\")\n",
    "\n",
    "precision_plot = sns.lineplot(data=df_precision_melted, \n",
    "                              x=\"length\", y=\"precision\", \n",
    "                              hue=\"Method\", style=\"Method\", \n",
    "                              markers={m: colorscheme[m][\"p\"] for m in METHODS},\n",
    "                              dashes={m: colorscheme[m][\"l\"] for m in METHODS},\n",
    "                              palette={m: colorscheme[m][\"c\"] for m in METHODS}, \n",
    "                              estimator=np.median, errorbar=lambda x: (np.quantile(x, 0.25), np.quantile(x, 0.75)))\n",
    "plt.title(\"Influence of Length on the Precision\")\n",
    "plt.xlabel(\"Length of the time-series (s)\")\n",
    "plt.ylabel(\"MAE (s)\")\n",
    "# plt.ylim((0.02, 50))\n",
    "precision_plot.set(xscale='log')\n",
    "precision_plot.set(yscale='log')\n",
    "plt.savefig(\"fig/semisimulated_precision_length.png\")\n",
    "plt.show()"
   ]
  },
  {
   "cell_type": "code",
   "execution_count": 30,
   "id": "cce3739c-3f06-4cb1-8826-dc47b9071611",
   "metadata": {},
   "outputs": [
    {
     "data": {
      "image/png": "[encoded data removed]",
      "text/plain": [
       "<Figure size 576x360 with 1 Axes>"
      ]
     },
     "metadata": {
      "needs_background": "light"
     },
     "output_type": "display_data"
    }
   ],
   "source": [
    "fig, axes = plt.subplots(1,1, figsize=(8, 5))\n",
    "\n",
    "# melt the DataFrame\n",
    "df_precision_melted = pd.melt(df_precision, id_vars=\"length\", var_name=\"Method\", \n",
    "                              value_vars=METHODS, value_name=\"precision\")\n",
    "\n",
    "precision_plot = sns.lineplot(data=df_precision_melted, \n",
    "                              x=\"length\", y=\"precision\", \n",
    "                              hue=\"Method\", style=\"Method\", \n",
    "                              markers={m: colorscheme[m][\"p\"] for m in METHODS},\n",
    "                              dashes={m: colorscheme[m][\"l\"] for m in METHODS},\n",
    "                              palette={m: colorscheme[m][\"c\"] for m in METHODS}, \n",
    "                              estimator=np.median, errorbar=lambda x: (np.quantile(x, 0.25), np.quantile(x, 0.75)))\n",
    "plt.title(\"Influence of Length on the Precision\")\n",
    "plt.xlabel(\"Length of the time-series (s)\")\n",
    "plt.ylabel(\"MAE (s)\")\n",
    "# plt.ylim((0.02, 50))\n",
    "precision_plot.set(xscale='log')\n",
    "precision_plot.set(yscale='log')\n",
    "plt.savefig(\"fig/semisimulated_precision_length.png\")\n",
    "plt.show()"
   ]
  },
  {
   "cell_type": "code",
   "execution_count": 31,
   "id": "c3e481b7-9404-44c8-bcd9-7bd2a58d4eec",
   "metadata": {},
   "outputs": [
    {
     "data": {
      "image/png": "[encoded data removed]",
      "text/plain": [
       "<Figure size 576x360 with 1 Axes>"
      ]
     },
     "metadata": {
      "needs_background": "light"
     },
     "output_type": "display_data"
    }
   ],
   "source": [
    "fig, axes = plt.subplots(1,1, figsize=(8, 5))\n",
    "\n",
    "# melt the DataFrame\n",
    "df_precision_melted = pd.melt(df_precision, id_vars=\"length\", var_name=\"Method\", \n",
    "                              value_vars=METHODS, value_name=\"precision\")\n",
    "\n",
    "precision_plot = sns.lineplot(data=df_precision_melted, \n",
    "                              x=\"length\", y=\"precision\", \n",
    "                              hue=\"Method\", style=\"Method\", \n",
    "                              markers={m: colorscheme[m][\"p\"] for m in METHODS},\n",
    "                              dashes={m: colorscheme[m][\"l\"] for m in METHODS},\n",
    "                              palette={m: colorscheme[m][\"c\"] for m in METHODS}, \n",
    "                              estimator=np.median, errorbar=lambda x: (np.quantile(x, 0.25), np.quantile(x, 0.75)))\n",
    "plt.title(\"Influence of Length on the Precision\")\n",
    "plt.xlabel(\"Length of the time-series (s)\")\n",
    "plt.ylabel(\"MAE (s)\")\n",
    "# plt.ylim((0.02, 50))\n",
    "precision_plot.set(xscale='log')\n",
    "precision_plot.set(yscale='log')\n",
    "plt.savefig(\"fig/semisimulated_precision_length.png\")\n",
    "plt.show()"
   ]
  },
  {
   "cell_type": "code",
   "execution_count": null,
   "id": "18f961d3-16c7-4637-8dcc-4c022768d97c",
   "metadata": {},
   "outputs": [],
   "source": []
  },
  {
   "cell_type": "markdown",
   "id": "a07a7c68-bf3f-4846-a6b2-ef6655bea738",
   "metadata": {},
   "source": [
    "## Experiment 2: Runtime by Length\n",
    "\n",
    "The time-series is purely simulated, as the longest real arrays are about 30,000 events long"
   ]
  },
  {
   "cell_type": "code",
   "execution_count": 32,
   "id": "5748aa6b-b1c9-45ec-8fa6-45c5d13098ab",
   "metadata": {},
   "outputs": [],
   "source": [
    "LENGTHS = [int(l) for l in [1e1, 2e1, 5e1, 1e2, 2e2, 5e2, 1e3, 2e3, 5e3, 1e4, 2e4, 5e4, 1e5]]  # , 2e5, 5e5, 1e6]] # TODO run all\n",
    "N_ITERATIONS = 3         # number of iterations per length, used for the interquartils\n",
    "METHODS = ['NAd-dense', 'NAd-sparse10', 'NAd-sparse100', 'PCC-FFT', 'PCC-DFT', 'KCC-1', 'DTW']  # TODO: add method specifics\n",
    "\n",
    "REF_SIGMA = 0.5\n",
    "SIGMA = 0.25\n",
    "\n",
    "MAX_TIMEOUT = 3  # maximal wait time to ignore the method afterwards\n",
    "ignore_method_timeout = {k: False for k in [\"PCC-DFT\", \"PCC-FFT\", 'NAd-dense']}"
   ]
  },
  {
   "cell_type": "code",
   "execution_count": 33,
   "id": "ee1f62df-c4c2-4e67-90e3-5875bb18acac",
   "metadata": {
    "tags": []
   },
   "outputs": [
    {
     "ename": "TypeError",
     "evalue": "tuple indices must be integers or slices, not tuple",
     "output_type": "error",
     "traceback": [
      "\u001b[0;31m---------------------------------------------------------------------------\u001b[0m",
      "\u001b[0;31mTypeError\u001b[0m                                 Traceback (most recent call last)",
      "Input \u001b[0;32mIn [33]\u001b[0m, in \u001b[0;36m<cell line: 93>\u001b[0;34m()\u001b[0m\n\u001b[1;32m     92\u001b[0m results \u001b[38;5;241m=\u001b[39m \u001b[38;5;28mlist\u001b[39m()\n\u001b[1;32m     93\u001b[0m \u001b[38;5;28;01mfor\u001b[39;00m it \u001b[38;5;129;01min\u001b[39;00m \u001b[38;5;28mrange\u001b[39m(N_ITERATIONS):\n\u001b[0;32m---> 94\u001b[0m     results\u001b[38;5;241m.\u001b[39mappend(\u001b[43mevaluate_length\u001b[49m\u001b[43m(\u001b[49m\u001b[43mit\u001b[49m\u001b[43m)\u001b[49m)\n\u001b[1;32m     95\u001b[0m df_runtimes \u001b[38;5;241m=\u001b[39m pd\u001b[38;5;241m.\u001b[39mconcat([res[\u001b[38;5;241m0\u001b[39m] \u001b[38;5;28;01mfor\u001b[39;00m res \u001b[38;5;129;01min\u001b[39;00m results])\u001b[38;5;241m.\u001b[39msort_values(\u001b[38;5;124m\"\u001b[39m\u001b[38;5;124mlength\u001b[39m\u001b[38;5;124m\"\u001b[39m)\n",
      "Input \u001b[0;32mIn [33]\u001b[0m, in \u001b[0;36mevaluate_length\u001b[0;34m(iteration)\u001b[0m\n\u001b[1;32m     61\u001b[0m start_time \u001b[38;5;241m=\u001b[39m time\u001b[38;5;241m.\u001b[39mtime()\n\u001b[1;32m     62\u001b[0m time_delays \u001b[38;5;241m=\u001b[39m pearson_cc(arr_ref, arr_sig, mode\u001b[38;5;241m=\u001b[39m\u001b[38;5;124m\"\u001b[39m\u001b[38;5;124msame\u001b[39m\u001b[38;5;124m\"\u001b[39m, method\u001b[38;5;241m=\u001b[39m\u001b[38;5;124m\"\u001b[39m\u001b[38;5;124mfft\u001b[39m\u001b[38;5;124m\"\u001b[39m)\n\u001b[0;32m---> 63\u001b[0m time_shift, metric \u001b[38;5;241m=\u001b[39m time_delays[np\u001b[38;5;241m.\u001b[39margmax(\u001b[43mtime_delays\u001b[49m\u001b[43m[\u001b[49m\u001b[43m:\u001b[49m\u001b[43m,\u001b[49m\u001b[38;5;241;43m1\u001b[39;49m\u001b[43m]\u001b[49m)]\n\u001b[1;32m     64\u001b[0m df_runtimes\u001b[38;5;241m.\u001b[39mloc[idx, \u001b[38;5;124m\"\u001b[39m\u001b[38;5;124mPCC-FFT\u001b[39m\u001b[38;5;124m\"\u001b[39m] \u001b[38;5;241m=\u001b[39m time\u001b[38;5;241m.\u001b[39mtime() \u001b[38;5;241m-\u001b[39m start_time\n\u001b[1;32m     65\u001b[0m df_precision\u001b[38;5;241m.\u001b[39mloc[idx, \u001b[38;5;124m\"\u001b[39m\u001b[38;5;124mPCC-FFT\u001b[39m\u001b[38;5;124m\"\u001b[39m] \u001b[38;5;241m=\u001b[39m np\u001b[38;5;241m.\u001b[39mabs(time_shift\u001b[38;5;241m-\u001b[39moffset)\n",
      "\u001b[0;31mTypeError\u001b[0m: tuple indices must be integers or slices, not tuple"
     ]
    }
   ],
   "source": [
    "# evaluate a given length\n",
    "def evaluate_length(iteration):\n",
    "    # define the local DataFrame for one single pair\n",
    "    df_runtimes = pd.DataFrame({m: np.nan*np.zeros(len(LENGTHS)) for m in METHODS})\n",
    "    df_runtimes[\"length\"] = LENGTHS\n",
    "    df_precision = pd.DataFrame({m: np.nan*np.zeros(len(LENGTHS)) for m in METHODS})\n",
    "    df_precision[\"length\"] = LENGTHS\n",
    "\n",
    "    # dummy evaluation for JIT-compiliation\n",
    "    _ = nearest_advocate(\n",
    "                arr_ref=np.array([1.0, 2.0, 3.0]).astype(np.float32), arr_sig=np.array([1.0, 2.0, 3.0]).astype(np.float32), \n",
    "                td_min=-1, td_max=+1, sps=SAMPLES_PER_S, sparse_factor=1, \n",
    "                dist_max=DIST_MAX, regulate_paddings=REGULATE_PADDINGS, dist_padding=DIST_MAX)\n",
    "    \n",
    "    for idx, length in enumerate(LENGTHS):\n",
    "        np.random.seed(N_ITERATIONS*iteration+idx)\n",
    "        l_bound, u_bound = max(TD_MIN, -length/2), min(TD_MAX, length/2)\n",
    "        offset = np.random.random() * (u_bound-l_bound) + l_bound\n",
    "        # Create two related event-based array, they differ by a time-shift and gaussian noise\n",
    "        arr_ref = np.sort(np.cumsum(np.random.normal(loc=1, scale=REF_SIGMA, size=int(length)))).astype(np.float32)\n",
    "        arr_sig = np.sort(arr_ref + offset + np.random.normal(loc=0, scale=SIGMA, size=int(length))).astype(np.float32)\n",
    "\n",
    "        # NAd-dense\n",
    "        if not ignore_method_timeout[\"NAd-dense\"]:\n",
    "            start_time = time.time()\n",
    "            time_delays = nearest_advocate(\n",
    "                arr_ref=arr_ref, arr_sig=arr_sig, \n",
    "                td_min=TD_MIN, td_max=TD_MAX, sps=SAMPLES_PER_S, sparse_factor=1, \n",
    "                dist_max=DIST_MAX, regulate_paddings=REGULATE_PADDINGS, dist_padding=DIST_MAX)\n",
    "            time_shift, min_mean_dist = time_delays[np.argmin(time_delays[:,1])]\n",
    "            df_runtimes.loc[idx, \"NAd-dense\"] = time.time() - start_time\n",
    "            df_precision.loc[idx, \"NAd-dense\"] = np.abs(time_shift-offset)\n",
    "            if time.time() - start_time > MAX_TIMEOUT:\n",
    "                ignore_method_timeout[\"NAd-dense\"] = True\n",
    "\n",
    "        # NAd-sparse10\n",
    "        start_time = time.time()\n",
    "        time_delays = nearest_advocate(\n",
    "            arr_ref=arr_ref, arr_sig=arr_sig, \n",
    "            td_min=TD_MIN, td_max=TD_MAX, sps=SAMPLES_PER_S, sparse_factor=10, \n",
    "            dist_max=DIST_MAX, regulate_paddings=REGULATE_PADDINGS, dist_padding=DIST_MAX)\n",
    "        time_shift, min_mean_dist = time_delays[np.argmin(time_delays[:,1])]\n",
    "        df_runtimes.loc[idx, \"NAd-sparse10\"] = time.time() - start_time\n",
    "        df_precision.loc[idx, \"NAd-sparse10\"] = np.abs(time_shift-offset)\n",
    "\n",
    "        # NAd-sparse100\n",
    "        start_time = time.time()\n",
    "        try:\n",
    "            time_delays = nearest_advocate(\n",
    "                arr_ref=arr_ref, arr_sig=arr_sig, \n",
    "                td_min=TD_MIN, td_max=TD_MAX, sps=SAMPLES_PER_S, sparse_factor=100, \n",
    "                dist_max=DIST_MAX, regulate_paddings=REGULATE_PADDINGS, dist_padding=DIST_MAX)\n",
    "            time_shift, min_mean_dist = time_delays[np.argmin(time_delays[:,1])]\n",
    "            df_runtimes.loc[idx, \"NAd-sparse100\"] = time.time() - start_time\n",
    "            df_precision.loc[idx, \"NAd-sparse100\"] = np.abs(time_shift-offset)\n",
    "        except AssertionError:\n",
    "            pass\n",
    "            # print(f\"WARNING: AssertionError, skipping.\")\n",
    "        \n",
    "        # PCC-FFT\n",
    "        start_time = time.time()\n",
    "        time_delays = pearson_cc(arr_ref, arr_sig, mode=\"same\", method=\"fft\")\n",
    "        time_shift, metric = time_delays[np.argmax(time_delays[:,1])]\n",
    "        df_runtimes.loc[idx, \"PCC-FFT\"] = time.time() - start_time\n",
    "        df_precision.loc[idx, \"PCC-FFT\"] = np.abs(time_shift-offset)\n",
    "        \n",
    "        # PCC-DFT: only for runtimes\n",
    "        if not ignore_method_timeout[\"PCC-DFT\"]:\n",
    "            start_time = time.time()\n",
    "            time_delays = pearson_cc(arr_ref, arr_sig, mode=\"same\", method=\"direct\")\n",
    "            time_shift, metric = time_delays[np.argmax(time_delays[:,1])]\n",
    "            df_runtimes.loc[idx, \"PCC-DFT\"] = time.time() - start_time\n",
    "            # df_precision.loc[idx, \"PCC-DFT\"] = np.abs(time_shift-offset) # the same\n",
    "            if time.time() - start_time > MAX_TIMEOUT:\n",
    "                ignore_method_timeout[\"PCC-DFT\"] = True\n",
    "        \n",
    "        # KCC\n",
    "        start_time = time.time()\n",
    "        try:\n",
    "            time_delays = kernel_cc(arr_ref, arr_sig, method=\"fft\", kernel_width=1.0)\n",
    "            time_shift, metric = time_delays[np.argmax(time_delays[:,1])]\n",
    "            df_runtimes.loc[idx, \"KCC-1\"] = time.time() - start_time\n",
    "            df_precision.loc[idx, \"KCC-1\"] = np.abs(time_shift-offset)\n",
    "        except:\n",
    "            pass\n",
    "        \n",
    "        # DTW (with multiple settings?) TODO\n",
    "    \n",
    "    return df_runtimes, df_precision\n",
    "    \n",
    "# Don't run in parallel, as PCC-DFT claims all available cores\n",
    "results = list()\n",
    "for it in range(N_ITERATIONS):\n",
    "    results.append(evaluate_length(it))\n",
    "df_runtimes = pd.concat([res[0] for res in results]).sort_values(\"length\")\n",
    "# df_precision = pd.concat([res[1] for res in results]).sort_values(\"length\")"
   ]
  },
  {
   "cell_type": "code",
   "execution_count": null,
   "id": "8e95fbf9-743c-45ba-863b-aeb4ff8c6ea5",
   "metadata": {},
   "outputs": [],
   "source": [
    "df_runtimes.sample(5)"
   ]
  },
  {
   "cell_type": "code",
   "execution_count": null,
   "id": "36bc5656-943a-4f8c-a23d-ca7bd7418eea",
   "metadata": {},
   "outputs": [],
   "source": [
    "fig, axes = plt.subplots(1,1, figsize=(8, 5))\n",
    "\n",
    "# melt the DataFrame\n",
    "df_runtimes_melted = pd.melt(df_runtimes, id_vars=\"length\", var_name=\"Method\", \n",
    "                              value_vars=METHODS, value_name=\"runtime\")\n",
    "precision_plot = sns.lineplot(data=df_runtimes_melted, \n",
    "                              x=\"length\", y=\"runtime\", \n",
    "                              hue=\"Method\", style=\"Method\", \n",
    "                              markers={m: colorscheme[m][\"p\"] for m in METHODS},\n",
    "                              dashes={m: colorscheme[m][\"l\"] for m in METHODS},\n",
    "                              palette={m: colorscheme[m][\"c\"] for m in METHODS}, \n",
    "                              estimator=np.median, errorbar=lambda x: (np.quantile(x, 0.25), np.quantile(x, 0.75)))\n",
    "plt.title(\"Influence of Length on the Runtime\")\n",
    "plt.xlabel(\"Length of the time-series (s)\")\n",
    "plt.ylabel(\"Runtime (s)\")\n",
    "precision_plot.set(xscale='log')\n",
    "precision_plot.set(yscale='log')\n",
    "plt.savefig(\"fig/semisimulated_runtime_length.png\")\n",
    "plt.show()"
   ]
  },
  {
   "cell_type": "code",
   "execution_count": null,
   "id": "f6340c12-6bb8-481a-9c09-4c63f4d16946",
   "metadata": {},
   "outputs": [],
   "source": [
    "fig, axes = plt.subplots(1,1, figsize=(8, 5))\n",
    "\n",
    "# melt the DataFrame\n",
    "df_runtimes_melted = pd.melt(df_runtimes, id_vars=\"length\", var_name=\"Method\", \n",
    "                              value_vars=METHODS, value_name=\"runtime\")\n",
    "precision_plot = sns.lineplot(data=df_runtimes_melted, \n",
    "                              x=\"length\", y=\"runtime\", \n",
    "                              hue=\"Method\", style=\"Method\", \n",
    "                              markers={m: colorscheme[m][\"p\"] for m in METHODS},\n",
    "                              dashes={m: colorscheme[m][\"l\"] for m in METHODS},\n",
    "                              palette={m: colorscheme[m][\"c\"] for m in METHODS}, \n",
    "                              estimator=np.median, errorbar=lambda x: (np.quantile(x, 0.25), np.quantile(x, 0.75)))\n",
    "plt.title(\"Influence of Length on the Runtime\")\n",
    "plt.xlabel(\"Length of the time-series (s)\")\n",
    "plt.ylabel(\"Runtime (s)\")\n",
    "precision_plot.set(xscale='log')\n",
    "precision_plot.set(yscale='log')\n",
    "plt.savefig(\"fig/semisimulated_runtime_length.png\")\n",
    "plt.show()"
   ]
  },
  {
   "cell_type": "code",
   "execution_count": null,
   "id": "17e5240f-faca-4755-b9da-131a321cb02b",
   "metadata": {},
   "outputs": [],
   "source": []
  },
  {
   "cell_type": "markdown",
   "id": "68dd5894-b4b5-47bd-b53d-fa17ce546313",
   "metadata": {},
   "source": [
    "## Experiment 2: Robustness by different noise\n",
    "\n",
    "Fixate other settings"
   ]
  },
  {
   "cell_type": "code",
   "execution_count": null,
   "id": "9e121e88-068d-4a08-9815-b5320379d044",
   "metadata": {},
   "outputs": [],
   "source": [
    "SIGMAS = [0, 0.01, 0.02, 0.05, 0.1, 0.2, 0.3, 0.4, 0.5]\n",
    "METHODS = ['NAd-dense', 'NAd-sparse10', 'NAd-sparse100', 'PCC-FFT', 'PCC-FFT-smooth', 'KCC-1', 'DTW']  # TODO: add method specifics\n",
    "\n",
    "# OFFSET = np.pi  # this is randomly sampled now\n",
    "SUBSELECT_LENGTH = 1000\n",
    "FRACTION = 1.0\n",
    "TIME_WARP_SCALE = 0.0"
   ]
  },
  {
   "cell_type": "code",
   "execution_count": null,
   "id": "955c1493-4ca8-447a-811a-c6e0f453255e",
   "metadata": {
    "tags": []
   },
   "outputs": [],
   "source": [
    "# evaluate a given sigma\n",
    "def evaluate_sigma(sigma):\n",
    "    # generate semi-simulated pairs of measurements\n",
    "    measurements = (heart_beat_dataset + breath_rate_dataset + step_rate_dataset)\n",
    "    # measurements = (breath_rate_dataset)\n",
    "    semi_simulated_pairs = list()\n",
    "    n_measurements = 0\n",
    "    for measurement in measurements:\n",
    "        for array in measurement:\n",
    "            l_bound = max(TD_MIN, -len(array)/2, -SUBSELECT_LENGTH)\n",
    "            u_bound = min(TD_MAX, len(array)/2, SUBSELECT_LENGTH)\n",
    "            offset = np.random.random() * (u_bound-l_bound) + l_bound\n",
    "\n",
    "            semi_simulated_pairs.append(\n",
    "                (array, modify_timeseries(arr=array, offset=offset, subselect_length=SUBSELECT_LENGTH, \n",
    "                                          sigma=sigma, fraction=FRACTION, time_warp_scale=TIME_WARP_SCALE),\n",
    "                offset)\n",
    "            )\n",
    "            n_measurements += 1\n",
    "    assert n_measurements == 2 * len(measurements)  # otherwise there ar !=2 arrays per measurement\n",
    "    \n",
    "    # define the local DataFrame for one single pair\n",
    "    df_precision = pd.DataFrame({m: np.nan*np.zeros(n_measurements) for m in METHODS})\n",
    "    df_precision[\"sigma\"] = [sigma for _ in range(n_measurements)]\n",
    "\n",
    "    # loop through all semi-simulated pairs\n",
    "    for idx, (arr_ref, arr_sig, offset) in enumerate(semi_simulated_pairs):\n",
    "        # NAd-dense\n",
    "        time_delays = nearest_advocate(\n",
    "            arr_ref=arr_ref, arr_sig=arr_sig, \n",
    "            td_min=TD_MIN, td_max=TD_MAX, sps=SAMPLES_PER_S, sparse_factor=1, \n",
    "            dist_max=DIST_MAX, regulate_paddings=REGULATE_PADDINGS, dist_padding=DIST_MAX)\n",
    "        time_shift, min_mean_dist = time_delays[np.argmin(time_delays[:,1])]\n",
    "        df_precision.loc[idx, \"NAd-dense\"] = np.abs(time_shift-offset)\n",
    "\n",
    "        # NAd-sparse10\n",
    "        time_delays = nearest_advocate(\n",
    "            arr_ref=arr_ref, arr_sig=arr_sig, \n",
    "            td_min=TD_MIN, td_max=TD_MAX, sps=SAMPLES_PER_S, sparse_factor=10, \n",
    "            dist_max=DIST_MAX, regulate_paddings=REGULATE_PADDINGS, dist_padding=DIST_MAX)\n",
    "        time_shift, min_mean_dist = time_delays[np.argmin(time_delays[:,1])]\n",
    "        df_precision.loc[idx, \"NAd-sparse10\"] = np.abs(time_shift-offset)\n",
    "\n",
    "        # NAd-sparse100\n",
    "        try:\n",
    "            time_delays = nearest_advocate(\n",
    "                arr_ref=arr_ref, arr_sig=arr_sig, \n",
    "                td_min=TD_MIN, td_max=TD_MAX, sps=SAMPLES_PER_S, sparse_factor=100, \n",
    "                dist_max=DIST_MAX, regulate_paddings=REGULATE_PADDINGS, dist_padding=DIST_MAX)\n",
    "            time_shift, min_mean_dist = time_delays[np.argmin(time_delays[:,1])]\n",
    "            df_precision.loc[idx, \"NAd-sparse100\"] = np.abs(time_shift-offset)\n",
    "        except AssertionError:\n",
    "            pass\n",
    "            # print(f\"WARNING: AssertionError, skipping.\")\n",
    "        \n",
    "        # PCC-FFT\n",
    "        time_shift, metric, time_delays = pearson_cc(arr_ref, arr_sig, mode=PCC_MODE, method=\"fft\")\n",
    "        df_precision.loc[idx, \"PCC-FFT\"] = np.abs(time_shift-offset)\n",
    "        \n",
    "        # PCC-FFT-smooth\n",
    "        time_shift, metric, time_delays = pearson_cc(arr_ref, arr_sig, mode=PCC_MODE, method=\"fft\", smooth_outliers=True)\n",
    "        df_precision.loc[idx, \"PCC-FFT-smooth\"] = np.abs(time_shift-offset)\n",
    "        \n",
    "        # KCC\n",
    "        time_delays = kernel_cc(arr_ref, arr_sig, method=\"fft\", kernel_width=1.0)\n",
    "        time_shift, metric = time_delays[np.argmax(time_delays[:,1])]\n",
    "        df_precision.loc[idx, \"KCC-1\"] = np.abs(time_shift-offset)\n",
    "\n",
    "        # DTW (with multiple settings?) TODO\n",
    "    \n",
    "    return df_precision\n",
    "    \n",
    "# Initialize the pool with the number of processes\n",
    "with Pool(processes=30) as pool: \n",
    "    results = pool.map(evaluate_sigma, SIGMAS)\n",
    "df_precision = pd.concat(results).sort_values(\"sigma\")\n",
    "df_precision.sample(5)"
   ]
  },
  {
   "cell_type": "code",
   "execution_count": null,
   "id": "b0b0c1c9-cb9d-475d-b2cb-4940c31511aa",
   "metadata": {},
   "outputs": [],
   "source": [
    "fig, axes = plt.subplots(1,1, figsize=(8, 5))\n",
    "\n",
    "# melt the DataFrame\n",
    "df_precision_melted = pd.melt(df_precision, id_vars=\"sigma\", var_name=\"Method\", \n",
    "                              value_vars=METHODS, value_name=\"precision\")\n",
    "precision_plot = sns.lineplot(data=df_precision_melted, \n",
    "                              x=\"sigma\", y=\"precision\", \n",
    "                              hue=\"Method\", style=\"Method\", \n",
    "                              markers={m: colorscheme[m][\"p\"] for m in METHODS},\n",
    "                              dashes={m: colorscheme[m][\"l\"] for m in METHODS},\n",
    "                              palette={m: colorscheme[m][\"c\"] for m in METHODS}, \n",
    "                              estimator=np.median, errorbar=lambda x: (np.quantile(x, 0.25), np.quantile(x, 0.75)))\n",
    "plt.title(\"Influence of Gaussian Noise on the Precision\")\n",
    "plt.xlabel(\"Gaussian Noise\")\n",
    "plt.ylabel(\"MAE (s)\")\n",
    "# plt.ylim((0.02, 50))\n",
    "precision_plot.set(yscale='log')\n",
    "# precision_plot.set(xscale='log')\n",
    "plt.savefig(\"fig/semisimulated_precision_noise.png\")\n",
    "plt.legend(loc=\"lower right\")\n",
    "plt.show()"
   ]
  },
  {
   "cell_type": "code",
   "execution_count": null,
   "id": "9506446c-85ad-4d90-a91f-08944e1d4465",
   "metadata": {},
   "outputs": [],
   "source": []
  },
  {
   "cell_type": "markdown",
   "id": "7f0a9bd9-6244-4057-8b74-71917d1c0b04",
   "metadata": {},
   "source": [
    "## Experiment 3: Robustness against missing events"
   ]
  },
  {
   "cell_type": "code",
   "execution_count": null,
   "id": "131354b5-7534-4392-b9a8-c2155227b774",
   "metadata": {},
   "outputs": [],
   "source": [
    "FRACTIONS = [0.02, 0.05, 0.1, 0.2, 0.3, 0.4, 0.5, 0.6, 0.7, 0.8, 0.9, 1.0]\n",
    "METHODS = ['NAd-dense', 'NAd-sparse10', 'NAd-sparse100', 'PCC-FFT', 'PCC-FFT-smooth', 'KCC-1', 'DTW']  # TODO: add method specifics\n",
    "\n",
    "# OFFSET = np.pi  # this is randomly sampled now\n",
    "SUBSELECT_LENGTH = 1000\n",
    "SIGMA = 0.1               # run with a relative sigma of 0.1\n",
    "TIME_WARP_SCALE = 0.0"
   ]
  },
  {
   "cell_type": "code",
   "execution_count": null,
   "id": "47cd611d-56d8-4df0-a1b2-ea7c0d0e396f",
   "metadata": {
    "tags": []
   },
   "outputs": [],
   "source": [
    "# evaluate a given fraction\n",
    "def evaluate_fraction(fraction):\n",
    "    # generate semi-simulated pairs of measurements\n",
    "    measurements = (heart_beat_dataset + breath_rate_dataset + step_rate_dataset)\n",
    "    # measurements = (breath_rate_dataset)\n",
    "    semi_simulated_pairs = list()\n",
    "    n_measurements = 0\n",
    "    for measurement in measurements:\n",
    "        for array in measurement:\n",
    "            l_bound = max(TD_MIN, -len(array)/2, -SUBSELECT_LENGTH)\n",
    "            u_bound = min(TD_MAX, len(array)/2, SUBSELECT_LENGTH)\n",
    "            offset = np.random.random() * (u_bound-l_bound) + l_bound\n",
    "            semi_simulated_pairs.append(\n",
    "                (array, modify_timeseries(arr=array, offset=offset, subselect_length=SUBSELECT_LENGTH, \n",
    "                                          sigma=SIGMA, fraction=fraction, time_warp_scale=TIME_WARP_SCALE),\n",
    "                offset)\n",
    "            )\n",
    "            n_measurements += 1\n",
    "    assert n_measurements == 2 * len(measurements)  # otherwise there ar !=2 arrays per measurement\n",
    "    \n",
    "    # define the local DataFrame for one single pair\n",
    "    df_precision = pd.DataFrame({m: np.nan*np.zeros(n_measurements) for m in METHODS})\n",
    "    df_precision[\"fraction\"] = [fraction for _ in range(n_measurements)]\n",
    "\n",
    "    # loop through all semi-simulated pairs\n",
    "    for idx, (arr_ref, arr_sig, offset) in enumerate(semi_simulated_pairs):\n",
    "        # NAd-dense\n",
    "        try:\n",
    "            np_nearest = nearest_advocate(\n",
    "                arr_ref=arr_ref, arr_sig=arr_sig, \n",
    "                td_min=TD_MIN, td_max=TD_MAX, sps=SAMPLES_PER_S, sparse_factor=1, \n",
    "                dist_max=DIST_MAX, regulate_paddings=REGULATE_PADDINGS, dist_padding=DIST_MAX)\n",
    "            time_shift, min_mean_dist = np_nearest[np.argmin(np_nearest[:,1])]\n",
    "            df_precision.loc[idx, \"NAd-dense\"] = np.abs(time_shift-offset)\n",
    "        except:\n",
    "            pass\n",
    "\n",
    "        # NAd-sparse10\n",
    "        try:\n",
    "            np_nearest = nearest_advocate(\n",
    "                arr_ref=arr_ref, arr_sig=arr_sig, \n",
    "                td_min=TD_MIN, td_max=TD_MAX, sps=SAMPLES_PER_S, sparse_factor=10, \n",
    "                dist_max=DIST_MAX, regulate_paddings=REGULATE_PADDINGS, dist_padding=DIST_MAX)\n",
    "            time_shift, min_mean_dist = np_nearest[np.argmin(np_nearest[:,1])]\n",
    "            df_precision.loc[idx, \"NAd-sparse10\"] = np.abs(time_shift-offset)\n",
    "        except:\n",
    "            pass\n",
    "\n",
    "        # NAd-sparse100\n",
    "        try:\n",
    "            np_nearest = nearest_advocate(\n",
    "                arr_ref=arr_ref, arr_sig=arr_sig, \n",
    "                td_min=TD_MIN, td_max=TD_MAX, sps=SAMPLES_PER_S, sparse_factor=100, \n",
    "                dist_max=DIST_MAX, regulate_paddings=REGULATE_PADDINGS, dist_padding=DIST_MAX)\n",
    "            time_shift, min_mean_dist = np_nearest[np.argmin(np_nearest[:,1])]\n",
    "            df_precision.loc[idx, \"NAd-sparse100\"] = np.abs(time_shift-offset)\n",
    "        except:\n",
    "            pass\n",
    "        \n",
    "        # PCC-FFT\n",
    "        try:\n",
    "            time_shift, metric, time_delays = pearson_cc(arr_ref, arr_sig, mode=PCC_MODE, method=\"fft\")\n",
    "            df_precision.loc[idx, \"PCC-FFT\"] = np.abs(time_shift-offset)\n",
    "        except:\n",
    "            pass\n",
    "        \n",
    "        # PCC-FFT-smooth\n",
    "        try:\n",
    "            time_shift, metric, time_delays = pearson_cc(arr_ref, arr_sig, mode=PCC_MODE, method=\"fft\", smooth_outliers=True)\n",
    "            df_precision.loc[idx, \"PCC-FFT-smooth\"] = np.abs(time_shift-offset)\n",
    "        except:\n",
    "            pass\n",
    "        \n",
    "        # KCC\n",
    "        try:\n",
    "            time_delays = kernel_cc(arr_ref, arr_sig, method=\"fft\", kernel_width=1.0)\n",
    "            time_shift, metric = time_delays[np.argmax(time_delays[:,1])]\n",
    "            df_precision.loc[idx, \"KCC-1\"] = np.abs(time_shift-offset)\n",
    "        except:\n",
    "            pass\n",
    "        \n",
    "        # DTW (with multiple settings?) TODO\n",
    "    return df_precision\n",
    "    \n",
    "    \n",
    "# Initialize the pool with the number of processes\n",
    "with Pool(processes=30) as pool: \n",
    "    results = pool.map(evaluate_fraction, FRACTIONS)\n",
    "df_precision = pd.concat(results).sort_values(\"fraction\")\n",
    "df_precision.head(5)"
   ]
  },
  {
   "cell_type": "code",
   "execution_count": null,
   "id": "78dec9b3-9ab7-437f-aa8c-d3ac6a4cfbb3",
   "metadata": {
    "tags": []
   },
   "outputs": [],
   "source": [
    "fig, axes = plt.subplots(1,1, figsize=(8, 5))\n",
    "\n",
    "# melt the DataFrame\n",
    "df_precision_melted = pd.melt(df_precision, id_vars=\"fraction\", var_name=\"Method\", \n",
    "                              value_vars=METHODS, value_name=\"precision\")\n",
    "precision_plot = sns.lineplot(data=df_precision_melted, \n",
    "                              x=\"fraction\", y=\"precision\", \n",
    "                              hue=\"Method\", style=\"Method\", \n",
    "                              markers={m: colorscheme[m][\"p\"] for m in METHODS},\n",
    "                              dashes={m: colorscheme[m][\"l\"] for m in METHODS},\n",
    "                              palette={m: colorscheme[m][\"c\"] for m in METHODS}, \n",
    "                              estimator=np.median, errorbar=lambda x: (np.quantile(x, 0.25), np.quantile(x, 0.75)))\n",
    "plt.title(\"Influence of Fraction of Retained Events on the Precision\")\n",
    "plt.xlabel(\"Fraction of events retained\")\n",
    "plt.ylabel(\"MAE (s)\")\n",
    "# plt.ylim((0.02, 50))\n",
    "precision_plot.set(yscale='log')\n",
    "# precision_plot.set(xscale='log')\n",
    "plt.savefig(\"fig/semisimulated_precision_retention.png\")\n",
    "plt.legend(\"\")\n",
    "plt.show()"
   ]
  },
  {
   "cell_type": "code",
   "execution_count": null,
   "id": "8bce4b62-e7b6-4b40-981f-f8be400e3e8d",
   "metadata": {},
   "outputs": [],
   "source": []
  },
  {
   "cell_type": "markdown",
   "id": "88947620-4a24-459d-a542-acba7551472e",
   "metadata": {},
   "source": [
    "## Experiment 4: Robustness against linear time-warping"
   ]
  },
  {
   "cell_type": "code",
   "execution_count": null,
   "id": "937f70be-1a42-4794-be91-1d215cd77112",
   "metadata": {},
   "outputs": [],
   "source": [
    "TIME_WARP_SCALES = [0, 1e-5, 2e-5, 5e-5, 1e-4, 2e-4, 5e-4, 0.001, 0.002, 0.005, 0.01, 0.02, 0.05, 0.1]  # we found 0.9934\n",
    "METHODS = ['NAd-dense', 'NAd-sparse10', 'NAd-sparse100', 'PCC-FFT', 'PCC-FFT-smooth', 'KCC-1', 'DTW']  # TODO: add method specifics\n",
    "\n",
    "# OFFSET = np.pi  # this is randomly sampled now\n",
    "SUBSELECT_LENGTH = 1000\n",
    "SIGMA = 0.1               # run with a relative sigma of 0.1\n",
    "FRACTION = 1.0            # retain all events"
   ]
  },
  {
   "cell_type": "code",
   "execution_count": null,
   "id": "2523bb49-6d71-4ddb-b762-384075be29f5",
   "metadata": {
    "tags": []
   },
   "outputs": [],
   "source": [
    "# evaluate a given time_warp_scale\n",
    "def evaluate_time_warp_scale(time_warp_scale):\n",
    "    # generate semi-simulated pairs of measurements\n",
    "    measurements = (heart_beat_dataset + breath_rate_dataset + step_rate_dataset)\n",
    "    # measurements = (breath_rate_dataset)\n",
    "    semi_simulated_pairs = list()\n",
    "    n_measurements = 0\n",
    "    for measurement in measurements:\n",
    "        for array in measurement:\n",
    "            l_bound = max(TD_MIN, -len(array)/2, -SUBSELECT_LENGTH)\n",
    "            u_bound = min(TD_MAX, len(array)/2, SUBSELECT_LENGTH)\n",
    "            offset = np.random.random() * (u_bound-l_bound) + l_bound\n",
    "            semi_simulated_pairs.append(\n",
    "                (array, modify_timeseries(arr=array, offset=offset, subselect_length=SUBSELECT_LENGTH, \n",
    "                                          sigma=SIGMA, fraction=FRACTION, time_warp_scale=time_warp_scale),\n",
    "                offset)\n",
    "            )\n",
    "            n_measurements += 1\n",
    "    assert n_measurements == 2 * len(measurements)  # otherwise there ar !=2 arrays per measurement\n",
    "    \n",
    "    # define the local DataFrame for one single pair\n",
    "    df_precision = pd.DataFrame({m: np.nan*np.zeros(n_measurements) for m in METHODS})\n",
    "    df_precision[\"time_warp_scale\"] = [time_warp_scale for _ in range(n_measurements)]\n",
    "\n",
    "    # loop through all semi-simulated pairs\n",
    "    for idx, (arr_ref, arr_sig, offset) in enumerate(semi_simulated_pairs):\n",
    "        # NAd-dense\n",
    "        try:\n",
    "            time_delays = nearest_advocate(\n",
    "                arr_ref=arr_ref, arr_sig=arr_sig, \n",
    "                td_min=TD_MIN, td_max=TD_MAX, sps=SAMPLES_PER_S, sparse_factor=1, \n",
    "                dist_max=DIST_MAX, regulate_paddings=REGULATE_PADDINGS, dist_padding=DIST_MAX)\n",
    "            time_shift, min_mean_dist = time_delays[np.argmin(time_delays[:,1])]\n",
    "            df_precision.loc[idx, \"NAd-dense\"] = np.abs(time_shift-offset)\n",
    "        except:\n",
    "            pass\n",
    "\n",
    "        # NAd-sparse10\n",
    "        try:\n",
    "            time_delays = nearest_advocate(\n",
    "                arr_ref=arr_ref, arr_sig=arr_sig, \n",
    "                td_min=TD_MIN, td_max=TD_MAX, sps=SAMPLES_PER_S, sparse_factor=10, \n",
    "                dist_max=DIST_MAX, regulate_paddings=REGULATE_PADDINGS, dist_padding=DIST_MAX)\n",
    "            time_shift, min_mean_dist = time_delays[np.argmin(time_delays[:,1])]\n",
    "            df_precision.loc[idx, \"NAd-sparse10\"] = np.abs(time_shift-offset)\n",
    "        except:\n",
    "            pass\n",
    "\n",
    "        # NAd-sparse100\n",
    "        try:\n",
    "            time_delays = nearest_advocate(\n",
    "                arr_ref=arr_ref, arr_sig=arr_sig, \n",
    "                td_min=TD_MIN, td_max=TD_MAX, sps=SAMPLES_PER_S, sparse_factor=100, \n",
    "                dist_max=DIST_MAX, regulate_paddings=REGULATE_PADDINGS, dist_padding=DIST_MAX)\n",
    "            time_shift, min_mean_dist = time_delays[np.argmin(time_delays[:,1])]\n",
    "            df_precision.loc[idx, \"NAd-sparse100\"] = np.abs(time_shift-offset)\n",
    "        except:\n",
    "            pass\n",
    "        \n",
    "        # PCC-FFT\n",
    "        try:\n",
    "            time_shift, metric, time_delays = pearson_cc(arr_ref, arr_sig, mode=PCC_MODE, method=\"fft\")\n",
    "            df_precision.loc[idx, \"PCC-FFT\"] = np.abs(time_shift-offset)\n",
    "        except:\n",
    "            pass\n",
    "        \n",
    "        # PCC-FFT-smooth\n",
    "        try:\n",
    "            time_shift, metric, time_delays = pearson_cc(arr_ref, arr_sig, mode=PCC_MODE, method=\"fft\", smooth_outliers=True)\n",
    "            df_precision.loc[idx, \"PCC-FFT-smooth\"] = np.abs(time_shift-offset)\n",
    "        except:\n",
    "            pass\n",
    "        \n",
    "        # KCC\n",
    "        try:\n",
    "            time_delays = kernel_cc(arr_ref, arr_sig, method=\"fft\", kernel_width=1.0)\n",
    "            time_shift, metric = time_delays[np.argmax(time_delays[:,1])]\n",
    "            df_precision.loc[idx, \"KCC-1\"] = np.abs(time_shift-offset)\n",
    "        except:\n",
    "            pass\n",
    "        \n",
    "        # DTW (with multiple settings?) TODO\n",
    "    return df_precision\n",
    "    \n",
    "    \n",
    "# Initialize the pool with the number of processes\n",
    "with Pool(processes=16) as pool: \n",
    "    results = pool.map(evaluate_time_warp_scale, TIME_WARP_SCALES)\n",
    "df_precision = pd.concat(results).sort_values(\"time_warp_scale\")\n",
    "df_precision.head(5)"
   ]
  },
  {
   "cell_type": "code",
   "execution_count": null,
   "id": "ebbb3378-2272-41f3-9057-5936ff88c476",
   "metadata": {
    "tags": []
   },
   "outputs": [],
   "source": [
    "fig, axes = plt.subplots(1,1, figsize=(8, 5))\n",
    "\n",
    "# melt the DataFrame\n",
    "df_precision_melted = pd.melt(df_precision, id_vars=\"time_warp_scale\", var_name=\"Method\", \n",
    "                              value_vars=METHODS, value_name=\"precision\")\n",
    "precision_plot = sns.lineplot(data=df_precision_melted, \n",
    "                              x=\"time_warp_scale\", y=\"precision\", \n",
    "                              hue=\"Method\", style=\"Method\", \n",
    "                              markers={m: colorscheme[m][\"p\"] for m in METHODS},\n",
    "                              dashes={m: colorscheme[m][\"l\"] for m in METHODS},\n",
    "                              palette={m: colorscheme[m][\"c\"] for m in METHODS}, \n",
    "                              estimator=np.median, errorbar=lambda x: (np.quantile(x, 0.25), np.quantile(x, 0.75)))\n",
    "plt.title(\"Influence of Clock Drift on the Precision\")\n",
    "plt.xlabel(\"Clock drift per unit\")\n",
    "plt.ylabel(\"MAE (s)\")\n",
    "# plt.ylim((0.02, 50))\n",
    "precision_plot.set(yscale='log')\n",
    "precision_plot.set(xscale='log')\n",
    "plt.savefig(\"fig/semisimulated_precision_drift.png\")\n",
    "plt.show()"
   ]
  },
  {
   "cell_type": "code",
   "execution_count": null,
   "id": "053c2cc3-be04-443f-b2d6-d152274a9b1b",
   "metadata": {},
   "outputs": [],
   "source": [
    "# what's the total event timestamp shift for the batch?\n",
    "1e-3 * SUBSELECT_LENGTH / 2"
   ]
  },
  {
   "cell_type": "code",
   "execution_count": null,
   "id": "7dbacb64-1fec-43b0-9286-7989a680aa7d",
   "metadata": {},
   "outputs": [],
   "source": [
    "#TODO: why is PCC better for higher clock-drift. This is not clear!\n",
    "# depends on the Offset for PCC!!!"
   ]
  },
  {
   "cell_type": "code",
   "execution_count": null,
   "id": "b7e9c1ab-b854-4de9-8fff-afbff968a8a6",
   "metadata": {},
   "outputs": [],
   "source": []
  }
 ],
 "metadata": {
  "kernelspec": {
   "display_name": "Python 3 (ipykernel)",
   "language": "python",
   "name": "python3"
  },
  "language_info": {
   "codemirror_mode": {
    "name": "ipython",
    "version": 3
   },
   "file_extension": ".py",
   "mimetype": "text/x-python",
   "name": "python",
   "nbconvert_exporter": "python",
   "pygments_lexer": "ipython3",
   "version": "3.10.5"
  }
 },
 "nbformat": 4,
 "nbformat_minor": 5
}
